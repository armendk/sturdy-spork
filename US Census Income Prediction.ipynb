{
 "cells": [
  {
   "cell_type": "markdown",
   "metadata": {},
   "source": [
    "## Income prediction using US Census Income Dataset \n",
    "    The purpose of this analysis is to examine the US census income data, explore the distribution of individual variables as well as the relation between them. Finally, the goal is to build a model which will be able to predict the income based on the variables given in the dataset. \n",
    "    \n",
    "    The analysis and modelling are performed in Python relying on Pandas library for data preparation and statistical analysis, sci-kit learn and H2O for creating predictive models. The results are satisfactory for the scope of this taks, with final models achieving an above 90% accuracy.\n",
    "    \n",
    "#### Contents\n",
    "\n",
    "* [0. Import libraries](#zeroth-bullet)\n",
    "* [1. Load metadata file and extract column names](#first-bullet)\n",
    "* [2. Load train and test datasets and identify the target](#second-bullet)\n",
    "* [3. Exploratory data analysis](#third-bullet)\n",
    "* [4. Missing values, Subsampling, Feature Engineering](#fourth-bullet)\n",
    "* [5. Training](#fifth-bullet)\n",
    "* [6. Build model with H2O AutoML](#sixth-bullet)\n",
    "* [7. Conclusion](#seventh-bullet)"
   ]
  },
  {
   "cell_type": "markdown",
   "metadata": {},
   "source": [
    "## 0. Import libraries <a class=\"anchor\" id=\"zeroth-bullet\"></a>"
   ]
  },
  {
   "cell_type": "code",
   "execution_count": 18,
   "metadata": {},
   "outputs": [],
   "source": [
    "import pandas as pd, re, json, random, os, datetime, numpy as np\n",
    "from collections import OrderedDict, defaultdict\n",
    "import matplotlib.pyplot as plt\n",
    "%matplotlib inline\n",
    "plt.rcParams['figure.figsize'] = (15, 6)\n",
    "import seaborn as sns\n",
    "\n",
    "from sklearn.preprocessing import LabelEncoder, OneHotEncoder\n",
    "from sklearn import metrics\n",
    "from sklearn.feature_selection import RFE\n",
    "from sklearn.linear_model import LogisticRegression\n",
    "from sklearn.naive_bayes import GaussianNB\n",
    "from sklearn.ensemble import RandomForestClassifier, ExtraTreesClassifier\n",
    "from sklearn.cross_validation import KFold, cross_val_score, ShuffleSplit\n",
    "from sklearn.model_selection import GridSearchCV, cross_val_score, StratifiedKFold, learning_curve, train_test_split, KFold\n",
    "from sklearn.metrics import classification_report, confusion_matrix, accuracy_score\n",
    "from sklearn.model_selection import RandomizedSearchCV\n",
    "\n",
    "import h2o\n",
    "from h2o.estimators import H2ORandomForestEstimator\n",
    "from h2o.automl import H2OAutoML"
   ]
  },
  {
   "cell_type": "markdown",
   "metadata": {},
   "source": [
    "## 1. Load metadata file and extract column names <a class=\"anchor\" id=\"first-bullet\"></a>"
   ]
  },
  {
   "cell_type": "code",
   "execution_count": 2,
   "metadata": {},
   "outputs": [
    {
     "name": "stdout",
     "output_type": "stream",
     "text": [
      "Number of columns: 42\n"
     ]
    }
   ],
   "source": [
    "f = open(\"/home/armend/dataiku/us_census_full/census_income_metadata.txt\", \"r\")\n",
    "meta = \"\".join([line for line in f])\n",
    "\n",
    "key_pattern1 = re.compile(\"[^A-Za-z\\d\\s\\-\\']\")\n",
    "key_pattern2 = re.compile('[^a-zA-Z\\d]+')\n",
    "value_pattern = re.compile(\"[^A-Za-z\\d\\s\\-,]\")\n",
    "\n",
    "### Create a dict of attributes and their values\n",
    "meta_dict = {re.sub(key_pattern2, \"_\", re.sub(key_pattern1, '', i.split(\": \")[0]).strip()):re.sub(value_pattern, '', i.split(\": \")[1]).strip() for i in meta.split(\"- 50000, 50000+.\\n\\n\")[1].split('\\n')[:-1]}\n",
    "meta_dict['class']=\"-50000, 50000+\"\n",
    "\n",
    "### Create a list of column names from attribute names\n",
    "meta = [re.sub(key_pattern2, \"_\", re.sub(key_pattern1, '', i.split(\": \")[0]).strip()) for i in meta.split(\"- 50000, 50000+.\\n\\n\")[1].split('\\n')[:-1]]\n",
    "print \"Number of columns: {}\".format(len(meta))\n",
    "columns = list(OrderedDict.fromkeys([re.sub(key_pattern2, '_', c) for c in meta if re.sub(key_pattern2, '_', c)]))\n",
    "columns.append('class')"
   ]
  },
  {
   "cell_type": "code",
   "execution_count": 3,
   "metadata": {
    "scrolled": true
   },
   "outputs": [
    {
     "name": "stdout",
     "output_type": "stream",
     "text": [
      "| This data was extracted from the census bureau database found at\n",
      "| http://www.census.gov/ftp/pub/DES/www/welcome.html\n",
      "| Donor: Terran Lane and Ronny Kohavi\n",
      "|        Data Mining and Visualization\n",
      "|        Silicon Graphics.\n",
      "|        e-mail: terran@ecn.purdue.edu, ronnyk@sgi.com for questions.\n",
      "|\n",
      "| The data was split into train/test in approximately 2/3, 1/3\n",
      "| proportions using MineSet's MIndUtil mineset-to-mlc.\n",
      "|\n",
      "| Prediction task is to determine the income level for the person\n",
      "| represented by the record.  Incomes have been binned at the $50K\n",
      "| level to present a binary classification problem, much like the\n",
      "| original UCI/ADULT database.  The goal field of this data, however,\n",
      "| was drawn from the \"total person income\" field rather than the\n",
      "| \"adjusted gross income\" and may, therefore, behave differently than the\n",
      "| orginal ADULT goal field.\n",
      "|\n",
      "| More information detailing the meaning of the attributes can be\n",
      "| found in http://www.bls.census.gov/cps/cpsmain.htm\n",
      "| To make use of the data descriptions at this site, the following mappings\n",
      "| to the Census Bureau's internal database column names will be needed:\n",
      "|\n",
      "| age\t\t\t\t\t\tAAGE\n",
      "| class of worker\t\t\t\tACLSWKR\n",
      "| industry code\t\t\t\t\tADTIND\n",
      "| occupation code\t\t\t\tADTOCC\n",
      "| adjusted gross income\t\t\t\tAGI\n",
      "| education\t\t\t\t\tAHGA\n",
      "| wage per hour\t\t\t\t\tAHRSPAY\n",
      "| enrolled in edu inst last wk\t\t\tAHSCOL\n",
      "| marital status\t\t\t\tAMARITL\n",
      "| major industry code\t\t\t\tAMJIND\n",
      "| major occupation code\t\t\t\tAMJOCC\n",
      "| mace\t\t\t\t\t\tARACE\n",
      "| hispanic Origin\t\t\t\tAREORGN\n",
      "| sex\t\t\t\t\t\tASEX\n",
      "| member of a labor union\t\t\tAUNMEM\n",
      "| reason for unemployment\t\t\tAUNTYPE\n",
      "| full or part time employment stat\t\tAWKSTAT\n",
      "| capital gains\t\t\t\t\tCAPGAIN\n",
      "| capital losses\t\t\t\tCAPLOSS\n",
      "| divdends from stocks\t\t\t\tDIVVAL\n",
      "| federal income tax liability\t\t\tFEDTAX\n",
      "| tax filer status\t\t\t\tFILESTAT\n",
      "| region of previous residence\t\t\tGRINREG\n",
      "| state of previous residence\t\t\tGRINST\n",
      "| detailed household and family stat\t\tHHDFMX\n",
      "| detailed household summary in household\tHHDREL\n",
      "| instance weight\t\t\t\tMARSUPWT\n",
      "| migration code-change in msa\t\t\tMIGMTR1\n",
      "| migration code-change in reg\t\t\tMIGMTR3\n",
      "| migration code-move within reg\t\tMIGMTR4\n",
      "| live in this house 1 year ago\t\t\tMIGSAME\n",
      "| migration prev res in sunbelt\t\t\tMIGSUN\n",
      "| num persons worked for employer\t\tNOEMP\n",
      "| family members under 18\t\t\tPARENT\n",
      "| total person earnings\t\t\t\tPEARNVAL\n",
      "| country of birth father\t\t\tPEFNTVTY\n",
      "| country of birth mother\t\t\tPEMNTVTY\n",
      "| country of birth self\t\t\t\tPENATVTY\n",
      "| citizenship\t\t\t\t\tPRCITSHP\n",
      "| total person income\t\t\t\tPTOTVAL\n",
      "| own business or self employed\t\t\tSEOTR\n",
      "| taxable income amount\t\t\t\tTAXINC\n",
      "| fill inc questionnaire for veteran's admin\tVETQVA\n",
      "| veterans benefits\t\t\t\tVETYN\n",
      "| weeks worked in year\t\t\t\tWKSWORK\n",
      "| \n",
      "| Basic statistics for this data set:\n",
      "|\n",
      "| Number of instances data = 199523\n",
      "|    Duplicate or conflicting instances : 46716\n",
      "| Number of instances in test = 99762\n",
      "|    Duplicate or conflicting instances : 20936\n",
      "| Class probabilities for income-projected.test file\n",
      "| Probability for the label '- 50000' : 93.80%\n",
      "| Probability for the label '50000+' : 6.20%\n",
      "| Majority accuracy: 93.80% on value - 50000\n",
      "| Number of attributes = 40 (continuous : 7 nominal : 33)\n",
      "| Information about .data file : \n",
      "|   91 distinct values for attribute #0 (age) continuous\n",
      "|    9 distinct values for attribute #1 (class of worker) nominal\n",
      "|   52 distinct values for attribute #2 (detailed industry recode) nominal\n",
      "|   47 distinct values for attribute #3 (detailed occupation recode) nominal\n",
      "|   17 distinct values for attribute #4 (education) nominal\n",
      "| 1240 distinct values for attribute #5 (wage per hour) continuous\n",
      "|    3 distinct values for attribute #6 (enroll in edu inst last wk) nominal\n",
      "|    7 distinct values for attribute #7 (marital stat) nominal\n",
      "|   24 distinct values for attribute #8 (major industry code) nominal\n",
      "|   15 distinct values for attribute #9 (major occupation code) nominal\n",
      "|    5 distinct values for attribute #10 (race) nominal\n",
      "|   10 distinct values for attribute #11 (hispanic origin) nominal\n",
      "|    2 distinct values for attribute #12 (sex) nominal\n",
      "|    3 distinct values for attribute #13 (member of a labor union) nominal\n",
      "|    6 distinct values for attribute #14 (reason for unemployment) nominal\n",
      "|    8 distinct values for attribute #15 (full or part time employment stat) nominal\n",
      "|  132 distinct values for attribute #16 (capital gains) continuous\n",
      "|  113 distinct values for attribute #17 (capital losses) continuous\n",
      "| 1478 distinct values for attribute #18 (dividends from stocks) continuous\n",
      "|    6 distinct values for attribute #19 (tax filer stat) nominal\n",
      "|    6 distinct values for attribute #20 (region of previous residence) nominal\n",
      "|   51 distinct values for attribute #21 (state of previous residence) nominal\n",
      "|   38 distinct values for attribute #22 (detailed household and family stat) nominal\n",
      "|    8 distinct values for attribute #23 (detailed household summary in household) nominal\n",
      "|   10 distinct values for attribute #24 (migration code-change in msa) nominal\n",
      "|    9 distinct values for attribute #25 (migration code-change in reg) nominal\n",
      "|   10 distinct values for attribute #26 (migration code-move within reg) nominal\n",
      "|    3 distinct values for attribute #27 (live in this house 1 year ago) nominal\n",
      "|    4 distinct values for attribute #28 (migration prev res in sunbelt) nominal\n",
      "|    7 distinct values for attribute #29 (num persons worked for employer) continuous\n",
      "|    5 distinct values for attribute #30 (family members under 18) nominal\n",
      "|   43 distinct values for attribute #31 (country of birth father) nominal\n",
      "|   43 distinct values for attribute #32 (country of birth mother) nominal\n",
      "|   43 distinct values for attribute #33 (country of birth self) nominal\n",
      "|    5 distinct values for attribute #34 (citizenship) nominal\n",
      "|    3 distinct values for attribute #35 (own business or self employed) nominal\n",
      "|    3 distinct values for attribute #36 (fill inc questionnaire for veteran's admin) nominal\n",
      "|    3 distinct values for attribute #37 (veterans benefits) nominal\n",
      "|   53 distinct values for attribute #38 (weeks worked in year) continuous\n",
      "|    2 distinct values for attribute #39 (year) nominal\n",
      "| \n",
      "|\n",
      "| Error rates:\n",
      "|    C4.5       \t: 4.8%\n",
      "|    C5.0\t\t: 4.7%\n",
      "|    C5.0 rules\t\t: 4.7%\n",
      "|    C5.0 boosting\t: 4.6%\n",
      "|    Naive-Bayes\t: 23.2%\n",
      "|\n",
      "| \n",
      "| All commas and periods were changed to spaces\n",
      "| Colons were replaced with dashes.\n",
      "|\n",
      "| The instance weight indicates the number of people in the population\n",
      "| that each record represents due to stratified sampling.\n",
      "| To do real analysis and derive conclusions, this field must be used.\n",
      "| This attribute should *not* be used in the classifiers, so it is\n",
      "| set to \"ignore\" in this file.\n",
      "|\n",
      "- 50000, 50000+.\n",
      "\n",
      "age: continuous.\n",
      "class of worker: Not in universe, Federal government, Local government, Never worked, Private, Self-employed-incorporated, Self-employed-not incorporated, State government, Without pay.\n",
      "detailed industry recode: 0, 40, 44, 2, 43, 47, 48, 1, 11, 19, 24, 25, 32, 33, 34, 35, 36, 37, 38, 39, 4, 42, 45, 5, 15, 16, 22, 29, 31, 50, 14, 17, 18, 28, 3, 30, 41, 46, 51, 12, 13, 21, 23, 26, 6, 7, 9, 49, 27, 8, 10, 20.\n",
      "detailed occupation recode: 0, 12, 31, 44, 19, 32, 10, 23, 26, 28, 29, 42, 40, 34, 14, 36, 38, 2, 20, 25, 37, 41, 27, 24, 30, 43, 33, 16, 45, 17, 35, 22, 18, 39, 3, 15, 13, 46, 8, 21, 9, 4, 6, 5, 1, 11, 7.\n",
      "education: Children, 7th and 8th grade, 9th grade, 10th grade, High school graduate, 11th grade, 12th grade no diploma, 5th or 6th grade, Less than 1st grade, Bachelors degree(BA AB BS), 1st 2nd 3rd or 4th grade, Some college but no degree, Masters degree(MA MS MEng MEd MSW MBA), Associates degree-occup /vocational, Associates degree-academic program, Doctorate degree(PhD EdD), Prof school degree (MD DDS DVM LLB JD).\n",
      "wage per hour: continuous.\n",
      "enroll in edu inst last wk: Not in universe, High school, College or university.\n",
      "marital stat: Never married, Married-civilian spouse present, Married-spouse absent, Separated, Divorced, Widowed, Married-A F spouse present.\n",
      "major industry code: Not in universe or children, Entertainment, Social services, Agriculture, Education, Public administration, Manufacturing-durable goods, Manufacturing-nondurable goods, Wholesale trade, Retail trade, Finance insurance and real estate, Private household services, Business and repair services, Personal services except private HH, Construction, Medical except hospital, Other professional services, Transportation, Utilities and sanitary services, Mining, Communications, Hospital services, Forestry and fisheries, Armed Forces.\n",
      "major occupation code: Not in universe, Professional specialty, Other service, Farming forestry and fishing, Sales, Adm support including clerical, Protective services, Handlers equip cleaners etc , Precision production craft & repair, Technicians and related support, Machine operators assmblrs & inspctrs, Transportation and material moving, Executive admin and managerial, Private household services, Armed Forces.\n",
      "race: White, Black, Other, Amer Indian Aleut or Eskimo, Asian or Pacific Islander.\n",
      "hispanic origin: Mexican (Mexicano), Mexican-American, Puerto Rican, Central or South American, All other, Other Spanish, Chicano, Cuban, Do not know, NA.\n",
      "sex: Female, Male.\n",
      "member of a labor union: Not in universe, No, Yes.\n",
      "reason for unemployment: Not in universe, Re-entrant, Job loser - on layoff, New entrant, Job leaver, Other job loser.\n",
      "full or part time employment stat: Children or Armed Forces, Full-time schedules, Unemployed part- time, Not in labor force, Unemployed full-time, PT for non-econ reasons usually FT, PT for econ reasons usually PT, PT for econ reasons usually FT.\n",
      "capital gains: continuous.\n",
      "capital losses: continuous.\n",
      "dividends from stocks: continuous.\n",
      "tax filer stat: Nonfiler, Joint one under 65 & one 65+, Joint both under 65, Single, Head of household, Joint both 65+.\n",
      "region of previous residence: Not in universe, South, Northeast, West, Midwest, Abroad.\n",
      "state of previous residence: Not in universe, Utah, Michigan, North Carolina, North Dakota, Virginia, Vermont, Wyoming, West Virginia, Pennsylvania, Abroad, Oregon, California, Iowa, Florida, Arkansas, Texas, South Carolina, Arizona, Indiana, Tennessee, Maine, Alaska, Ohio, Montana, Nebraska, Mississippi, District of Columbia, Minnesota, Illinois, Kentucky, Delaware, Colorado, Maryland, Wisconsin, New Hampshire, Nevada, New York, Georgia, Oklahoma, New Mexico, South Dakota, Missouri, Kansas, Connecticut, Louisiana, Alabama, Massachusetts, Idaho, New Jersey.\n",
      "detailed household and family stat: Child <18 never marr not in subfamily, Other Rel <18 never marr child of subfamily RP, Other Rel <18 never marr not in subfamily, Grandchild <18 never marr child of subfamily RP, Grandchild <18 never marr not in subfamily, Secondary individual, In group quarters, Child under 18 of RP of unrel subfamily, RP of unrelated subfamily, Spouse of householder, Householder, Other Rel <18 never married RP of subfamily, Grandchild <18 never marr RP of subfamily, Child <18 never marr RP of subfamily, Child <18 ever marr not in subfamily, Other Rel <18 ever marr RP of subfamily, Child <18 ever marr RP of subfamily, Nonfamily householder, Child <18 spouse of subfamily RP, Other Rel <18 spouse of subfamily RP, Other Rel <18 ever marr not in subfamily, Grandchild <18 ever marr not in subfamily, Child 18+ never marr Not in a subfamily, Grandchild 18+ never marr not in subfamily, Child 18+ ever marr RP of subfamily, Other Rel 18+ never marr not in subfamily, Child 18+ never marr RP of subfamily, Other Rel 18+ ever marr RP of subfamily, Other Rel 18+ never marr RP of subfamily, Other Rel 18+ spouse of subfamily RP, Other Rel 18+ ever marr not in subfamily, Child 18+ ever marr Not in a subfamily, Grandchild 18+ ever marr not in subfamily, Child 18+ spouse of subfamily RP, Spouse of RP of unrelated subfamily, Grandchild 18+ ever marr RP of subfamily, Grandchild 18+ never marr RP of subfamily, Grandchild 18+ spouse of subfamily RP.\n",
      "detailed household summary in household: Child under 18 never married, Other relative of householder, Nonrelative of householder, Spouse of householder, Householder, Child under 18 ever married, Group Quarters- Secondary individual, Child 18 or older.\n",
      "| instance weight: ignore.\n",
      "instance weight: continuous.\n",
      "migration code-change in msa: Not in universe, Nonmover, MSA to MSA, NonMSA to nonMSA, MSA to nonMSA, NonMSA to MSA, Abroad to MSA, Not identifiable, Abroad to nonMSA.\n",
      "migration code-change in reg: Not in universe, Nonmover, Same county, Different county same state, Different state same division, Abroad, Different region, Different division same region.\n",
      "migration code-move within reg: Not in universe, Nonmover, Same county, Different county same state, Different state in West, Abroad, Different state in Midwest, Different state in South, Different state in Northeast.\n",
      "live in this house 1 year ago: Not in universe under 1 year old, Yes, No.\n",
      "migration prev res in sunbelt: Not in universe, Yes, No.\n",
      "num persons worked for employer: continuous.\n",
      "family members under 18: Both parents present, Neither parent present, Mother only present, Father only present, Not in universe.\n",
      "country of birth father: Mexico, United-States, Puerto-Rico, Dominican-Republic, Jamaica, Cuba, Portugal, Nicaragua, Peru, Ecuador, Guatemala, Philippines, Canada, Columbia, El-Salvador, Japan, England, Trinadad&Tobago, Honduras, Germany, Taiwan, Outlying-U S (Guam USVI etc), India, Vietnam, China, Hong Kong, Cambodia, France, Laos, Haiti, South Korea, Iran, Greece, Italy, Poland, Thailand, Yugoslavia, Holand-Netherlands, Ireland, Scotland, Hungary, Panama.\n",
      "country of birth mother: India, Mexico, United-States, Puerto-Rico, Dominican-Republic, England, Honduras, Peru, Guatemala, Columbia, El-Salvador, Philippines, France, Ecuador, Nicaragua, Cuba, Outlying-U S (Guam USVI etc), Jamaica, South Korea, China, Germany, Yugoslavia, Canada, Vietnam, Japan, Cambodia, Ireland, Laos, Haiti, Portugal, Taiwan, Holand-Netherlands, Greece, Italy, Poland, Thailand, Trinadad&Tobago, Hungary, Panama, Hong Kong, Scotland, Iran.\n",
      "country of birth self: United-States, Mexico, Puerto-Rico, Peru, Canada, South Korea, India, Japan, Haiti, El-Salvador, Dominican-Republic, Portugal, Columbia, England, Thailand, Cuba, Laos, Panama, China, Germany, Vietnam, Italy, Honduras, Outlying-U S (Guam USVI etc), Hungary, Philippines, Poland, Ecuador, Iran, Guatemala, Holand-Netherlands, Taiwan, Nicaragua, France, Jamaica, Scotland, Yugoslavia, Hong Kong, Trinadad&Tobago, Greece, Cambodia, Ireland.\n",
      "citizenship: Native- Born in the United States, Foreign born- Not a citizen of U S , Native- Born in Puerto Rico or U S Outlying, Native- Born abroad of American Parent(s), Foreign born- U S citizen by naturalization.\n",
      "own business or self employed: 0, 2, 1.\n",
      "fill inc questionnaire for veteran's admin: Not in universe, Yes, No.\n",
      "veterans benefits: 0, 2, 1.\n",
      "weeks worked in year: continuous.\n",
      "year: 94, 95.\n",
      "\n"
     ]
    }
   ],
   "source": [
    "print meta"
   ]
  },
  {
   "cell_type": "code",
   "execution_count": 3,
   "metadata": {
    "scrolled": true
   },
   "outputs": [
    {
     "data": {
      "text/plain": [
       "{'age': 'continuous',\n",
       " 'capital_gains': 'continuous',\n",
       " 'capital_losses': 'continuous',\n",
       " 'citizenship': 'Native- Born in the United States, Foreign born- Not a citizen of U S , Native- Born in Puerto Rico or U S Outlying, Native- Born abroad of American Parents, Foreign born- U S citizen by naturalization',\n",
       " 'class': '-50000, 50000+',\n",
       " 'class_of_worker': 'Not in universe, Federal government, Local government, Never worked, Private, Self-employed-incorporated, Self-employed-not incorporated, State government, Without pay',\n",
       " 'country_of_birth_father': 'Mexico, United-States, Puerto-Rico, Dominican-Republic, Jamaica, Cuba, Portugal, Nicaragua, Peru, Ecuador, Guatemala, Philippines, Canada, Columbia, El-Salvador, Japan, England, TrinadadTobago, Honduras, Germany, Taiwan, Outlying-U S Guam USVI etc, India, Vietnam, China, Hong Kong, Cambodia, France, Laos, Haiti, South Korea, Iran, Greece, Italy, Poland, Thailand, Yugoslavia, Holand-Netherlands, Ireland, Scotland, Hungary, Panama',\n",
       " 'country_of_birth_mother': 'India, Mexico, United-States, Puerto-Rico, Dominican-Republic, England, Honduras, Peru, Guatemala, Columbia, El-Salvador, Philippines, France, Ecuador, Nicaragua, Cuba, Outlying-U S Guam USVI etc, Jamaica, South Korea, China, Germany, Yugoslavia, Canada, Vietnam, Japan, Cambodia, Ireland, Laos, Haiti, Portugal, Taiwan, Holand-Netherlands, Greece, Italy, Poland, Thailand, TrinadadTobago, Hungary, Panama, Hong Kong, Scotland, Iran',\n",
       " 'country_of_birth_self': 'United-States, Mexico, Puerto-Rico, Peru, Canada, South Korea, India, Japan, Haiti, El-Salvador, Dominican-Republic, Portugal, Columbia, England, Thailand, Cuba, Laos, Panama, China, Germany, Vietnam, Italy, Honduras, Outlying-U S Guam USVI etc, Hungary, Philippines, Poland, Ecuador, Iran, Guatemala, Holand-Netherlands, Taiwan, Nicaragua, France, Jamaica, Scotland, Yugoslavia, Hong Kong, TrinadadTobago, Greece, Cambodia, Ireland',\n",
       " 'detailed_household_and_family_stat': 'Child 18 never marr not in subfamily, Other Rel 18 never marr child of subfamily RP, Other Rel 18 never marr not in subfamily, Grandchild 18 never marr child of subfamily RP, Grandchild 18 never marr not in subfamily, Secondary individual, In group quarters, Child under 18 of RP of unrel subfamily, RP of unrelated subfamily, Spouse of householder, Householder, Other Rel 18 never married RP of subfamily, Grandchild 18 never marr RP of subfamily, Child 18 never marr RP of subfamily, Child 18 ever marr not in subfamily, Other Rel 18 ever marr RP of subfamily, Child 18 ever marr RP of subfamily, Nonfamily householder, Child 18 spouse of subfamily RP, Other Rel 18 spouse of subfamily RP, Other Rel 18 ever marr not in subfamily, Grandchild 18 ever marr not in subfamily, Child 18 never marr Not in a subfamily, Grandchild 18 never marr not in subfamily, Child 18 ever marr RP of subfamily, Other Rel 18 never marr not in subfamily, Child 18 never marr RP of subfamily, Other Rel 18 ever marr RP of subfamily, Other Rel 18 never marr RP of subfamily, Other Rel 18 spouse of subfamily RP, Other Rel 18 ever marr not in subfamily, Child 18 ever marr Not in a subfamily, Grandchild 18 ever marr not in subfamily, Child 18 spouse of subfamily RP, Spouse of RP of unrelated subfamily, Grandchild 18 ever marr RP of subfamily, Grandchild 18 never marr RP of subfamily, Grandchild 18 spouse of subfamily RP',\n",
       " 'detailed_household_summary_in_household': 'Child under 18 never married, Other relative of householder, Nonrelative of householder, Spouse of householder, Householder, Child under 18 ever married, Group Quarters- Secondary individual, Child 18 or older',\n",
       " 'detailed_industry_recode': '0, 40, 44, 2, 43, 47, 48, 1, 11, 19, 24, 25, 32, 33, 34, 35, 36, 37, 38, 39, 4, 42, 45, 5, 15, 16, 22, 29, 31, 50, 14, 17, 18, 28, 3, 30, 41, 46, 51, 12, 13, 21, 23, 26, 6, 7, 9, 49, 27, 8, 10, 20',\n",
       " 'detailed_occupation_recode': '0, 12, 31, 44, 19, 32, 10, 23, 26, 28, 29, 42, 40, 34, 14, 36, 38, 2, 20, 25, 37, 41, 27, 24, 30, 43, 33, 16, 45, 17, 35, 22, 18, 39, 3, 15, 13, 46, 8, 21, 9, 4, 6, 5, 1, 11, 7',\n",
       " 'dividends_from_stocks': 'continuous',\n",
       " 'education': 'Children, 7th and 8th grade, 9th grade, 10th grade, High school graduate, 11th grade, 12th grade no diploma, 5th or 6th grade, Less than 1st grade, Bachelors degreeBA AB BS, 1st 2nd 3rd or 4th grade, Some college but no degree, Masters degreeMA MS MEng MEd MSW MBA, Associates degree-occup vocational, Associates degree-academic program, Doctorate degreePhD EdD, Prof school degree MD DDS DVM LLB JD',\n",
       " 'enroll_in_edu_inst_last_wk': 'Not in universe, High school, College or university',\n",
       " 'family_members_under_18': 'Both parents present, Neither parent present, Mother only present, Father only present, Not in universe',\n",
       " 'fill_inc_questionnaire_for_veteran_s_admin': 'Not in universe, Yes, No',\n",
       " 'full_or_part_time_employment_stat': 'Children or Armed Forces, Full-time schedules, Unemployed part- time, Not in labor force, Unemployed full-time, PT for non-econ reasons usually FT, PT for econ reasons usually PT, PT for econ reasons usually FT',\n",
       " 'hispanic_origin': 'Mexican Mexicano, Mexican-American, Puerto Rican, Central or South American, All other, Other Spanish, Chicano, Cuban, Do not know, NA',\n",
       " 'instance_weight': 'continuous',\n",
       " 'live_in_this_house_1_year_ago': 'Not in universe under 1 year old, Yes, No',\n",
       " 'major_industry_code': 'Not in universe or children, Entertainment, Social services, Agriculture, Education, Public administration, Manufacturing-durable goods, Manufacturing-nondurable goods, Wholesale trade, Retail trade, Finance insurance and real estate, Private household services, Business and repair services, Personal services except private HH, Construction, Medical except hospital, Other professional services, Transportation, Utilities and sanitary services, Mining, Communications, Hospital services, Forestry and fisheries, Armed Forces',\n",
       " 'major_occupation_code': 'Not in universe, Professional specialty, Other service, Farming forestry and fishing, Sales, Adm support including clerical, Protective services, Handlers equip cleaners etc , Precision production craft  repair, Technicians and related support, Machine operators assmblrs  inspctrs, Transportation and material moving, Executive admin and managerial, Private household services, Armed Forces',\n",
       " 'marital_stat': 'Never married, Married-civilian spouse present, Married-spouse absent, Separated, Divorced, Widowed, Married-A F spouse present',\n",
       " 'member_of_a_labor_union': 'Not in universe, No, Yes',\n",
       " 'migration_code_change_in_msa': 'Not in universe, Nonmover, MSA to MSA, NonMSA to nonMSA, MSA to nonMSA, NonMSA to MSA, Abroad to MSA, Not identifiable, Abroad to nonMSA',\n",
       " 'migration_code_change_in_reg': 'Not in universe, Nonmover, Same county, Different county same state, Different state same division, Abroad, Different region, Different division same region',\n",
       " 'migration_code_move_within_reg': 'Not in universe, Nonmover, Same county, Different county same state, Different state in West, Abroad, Different state in Midwest, Different state in South, Different state in Northeast',\n",
       " 'migration_prev_res_in_sunbelt': 'Not in universe, Yes, No',\n",
       " 'num_persons_worked_for_employer': 'continuous',\n",
       " 'own_business_or_self_employed': '0, 2, 1',\n",
       " 'race': 'White, Black, Other, Amer Indian Aleut or Eskimo, Asian or Pacific Islander',\n",
       " 'reason_for_unemployment': 'Not in universe, Re-entrant, Job loser - on layoff, New entrant, Job leaver, Other job loser',\n",
       " 'region_of_previous_residence': 'Not in universe, South, Northeast, West, Midwest, Abroad',\n",
       " 'sex': 'Female, Male',\n",
       " 'state_of_previous_residence': 'Not in universe, Utah, Michigan, North Carolina, North Dakota, Virginia, Vermont, Wyoming, West Virginia, Pennsylvania, Abroad, Oregon, California, Iowa, Florida, Arkansas, Texas, South Carolina, Arizona, Indiana, Tennessee, Maine, Alaska, Ohio, Montana, Nebraska, Mississippi, District of Columbia, Minnesota, Illinois, Kentucky, Delaware, Colorado, Maryland, Wisconsin, New Hampshire, Nevada, New York, Georgia, Oklahoma, New Mexico, South Dakota, Missouri, Kansas, Connecticut, Louisiana, Alabama, Massachusetts, Idaho, New Jersey',\n",
       " 'tax_filer_stat': 'Nonfiler, Joint one under 65  one 65, Joint both under 65, Single, Head of household, Joint both 65',\n",
       " 'veterans_benefits': '0, 2, 1',\n",
       " 'wage_per_hour': 'continuous',\n",
       " 'weeks_worked_in_year': 'continuous',\n",
       " 'year': '94, 95'}"
      ]
     },
     "execution_count": 3,
     "metadata": {},
     "output_type": "execute_result"
    }
   ],
   "source": [
    "meta_dict"
   ]
  },
  {
   "cell_type": "code",
   "execution_count": 4,
   "metadata": {},
   "outputs": [
    {
     "name": "stdout",
     "output_type": "stream",
     "text": [
      "Continuous: ['capital_gains', 'dividends_from_stocks', 'num_persons_worked_for_employer', 'weeks_worked_in_year', 'capital_losses', 'wage_per_hour', 'age']\n",
      "\n",
      "Categorical: ['country_of_birth_self', 'tax_filer_stat', 'member_of_a_labor_union', 'detailed_household_summary_in_household', 'sex', 'full_or_part_time_employment_stat', 'year', 'live_in_this_house_1_year_ago', 'education', 'country_of_birth_mother', 'citizenship', 'marital_stat', 'migration_code_move_within_reg', 'enroll_in_edu_inst_last_wk', 'class', 'detailed_occupation_recode', 'migration_code_change_in_reg', 'detailed_industry_recode', 'hispanic_origin', 'migration_prev_res_in_sunbelt', 'veterans_benefits', 'fill_inc_questionnaire_for_veteran_s_admin', 'migration_code_change_in_msa', 'reason_for_unemployment', 'family_members_under_18', 'major_industry_code', 'own_business_or_self_employed', 'country_of_birth_father', 'major_occupation_code', 'class_of_worker', 'race', 'region_of_previous_residence', 'detailed_household_and_family_stat', 'state_of_previous_residence']\n"
     ]
    }
   ],
   "source": [
    "# Create continuous and categorical variables lists\n",
    "continuous = [k for k,v in meta_dict.iteritems() if v=='continuous']\n",
    "continuous.remove('instance_weight')\n",
    "categorical = [k for k,v in meta_dict.iteritems() if v!='continuous']\n",
    "print \"Continuous: {}\".format(continuous)\n",
    "print \"\\nCategorical: {}\".format(categorical)"
   ]
  },
  {
   "cell_type": "markdown",
   "metadata": {},
   "source": [
    "## 2. Load train and test datasets and identify the target <a class=\"anchor\" id=\"second-bullet\"></a>"
   ]
  },
  {
   "cell_type": "code",
   "execution_count": 78,
   "metadata": {
    "scrolled": true
   },
   "outputs": [],
   "source": [
    "train = pd.read_csv(\"/home/armend/dataiku/us_census_full/census_income_learn.csv\", header=None, names=columns)\n",
    "test = pd.read_csv(\"/home/armend/dataiku/us_census_full/census_income_test.csv\", header=None, names=columns)"
   ]
  },
  {
   "cell_type": "code",
   "execution_count": 79,
   "metadata": {},
   "outputs": [
    {
     "data": {
      "text/plain": [
       "array([' - 50000.', ' 50000+.'], dtype=object)"
      ]
     },
     "execution_count": 79,
     "metadata": {},
     "output_type": "execute_result"
    }
   ],
   "source": [
    "## Find unique class categories\n",
    "train['class'].unique()"
   ]
  },
  {
   "cell_type": "code",
   "execution_count": 80,
   "metadata": {},
   "outputs": [],
   "source": [
    "## Create target column with binary values\n",
    "train['target']=train['class'].map({train['class'].unique()[0]: 0, train['class'].unique()[1]: 1})\n",
    "test['target']=test['class'].map({test['class'].unique()[0]: 0, test['class'].unique()[1]: 1})"
   ]
  },
  {
   "cell_type": "markdown",
   "metadata": {},
   "source": [
    "## 3. Exploratory data analysis <a class=\"anchor\" id=\"third-bullet\"></a>"
   ]
  },
  {
   "cell_type": "markdown",
   "metadata": {},
   "source": [
    "#### First and foremost I am curious to the proportion of positive/ negative samples over the train set. It turns out that the distribution is highly uneven. A model built with this distribution would be biased. I will treat this further down the process."
   ]
  },
  {
   "cell_type": "code",
   "execution_count": 8,
   "metadata": {},
   "outputs": [
    {
     "data": {
      "text/plain": [
       "<matplotlib.axes._subplots.AxesSubplot at 0x7f592c8a9450>"
      ]
     },
     "execution_count": 8,
     "metadata": {},
     "output_type": "execute_result"
    },
    {
     "data": {
      "image/png": "[encoded data removed]",
      "text/plain": [
       "<matplotlib.figure.Figure at 0x7f59347f5910>"
      ]
     },
     "metadata": {},
     "output_type": "display_data"
    }
   ],
   "source": [
    "train['class'].value_counts().plot(kind='bar', title='Sample distributions over annual income attribute')"
   ]
  },
  {
   "cell_type": "code",
   "execution_count": 9,
   "metadata": {},
   "outputs": [
    {
     "data": {
      "text/plain": [
       "(12382, 43)"
      ]
     },
     "execution_count": 9,
     "metadata": {},
     "output_type": "execute_result"
    }
   ],
   "source": [
    "positives = train[train['target']==1]\n",
    "positives.shape"
   ]
  },
  {
   "cell_type": "code",
   "execution_count": 10,
   "metadata": {},
   "outputs": [
    {
     "name": "stdout",
     "output_type": "stream",
     "text": [
      "(99762, 43)\n"
     ]
    },
    {
     "data": {
      "text/plain": [
       "(6186, 43)"
      ]
     },
     "execution_count": 10,
     "metadata": {},
     "output_type": "execute_result"
    }
   ],
   "source": [
    "print test.shape\n",
    "test_positive = test[test['target']==1]\n",
    "test_positive.shape"
   ]
  },
  {
   "cell_type": "code",
   "execution_count": 11,
   "metadata": {},
   "outputs": [
    {
     "data": {
      "text/html": [
       "<div>\n",
       "<style scoped>\n",
       "    .dataframe tbody tr th:only-of-type {\n",
       "        vertical-align: middle;\n",
       "    }\n",
       "\n",
       "    .dataframe tbody tr th {\n",
       "        vertical-align: top;\n",
       "    }\n",
       "\n",
       "    .dataframe thead th {\n",
       "        text-align: right;\n",
       "    }\n",
       "</style>\n",
       "<table border=\"1\" class=\"dataframe\">\n",
       "  <thead>\n",
       "    <tr style=\"text-align: right;\">\n",
       "      <th></th>\n",
       "      <th>capital_gains</th>\n",
       "      <th>dividends_from_stocks</th>\n",
       "      <th>num_persons_worked_for_employer</th>\n",
       "      <th>weeks_worked_in_year</th>\n",
       "      <th>capital_losses</th>\n",
       "      <th>wage_per_hour</th>\n",
       "      <th>age</th>\n",
       "      <th>target</th>\n",
       "    </tr>\n",
       "  </thead>\n",
       "  <tbody>\n",
       "    <tr>\n",
       "      <th>0</th>\n",
       "      <td>0</td>\n",
       "      <td>0</td>\n",
       "      <td>0</td>\n",
       "      <td>0</td>\n",
       "      <td>0</td>\n",
       "      <td>0</td>\n",
       "      <td>73</td>\n",
       "      <td>0</td>\n",
       "    </tr>\n",
       "    <tr>\n",
       "      <th>1</th>\n",
       "      <td>0</td>\n",
       "      <td>0</td>\n",
       "      <td>1</td>\n",
       "      <td>52</td>\n",
       "      <td>0</td>\n",
       "      <td>0</td>\n",
       "      <td>58</td>\n",
       "      <td>0</td>\n",
       "    </tr>\n",
       "    <tr>\n",
       "      <th>2</th>\n",
       "      <td>0</td>\n",
       "      <td>0</td>\n",
       "      <td>0</td>\n",
       "      <td>0</td>\n",
       "      <td>0</td>\n",
       "      <td>0</td>\n",
       "      <td>18</td>\n",
       "      <td>0</td>\n",
       "    </tr>\n",
       "    <tr>\n",
       "      <th>3</th>\n",
       "      <td>0</td>\n",
       "      <td>0</td>\n",
       "      <td>0</td>\n",
       "      <td>0</td>\n",
       "      <td>0</td>\n",
       "      <td>0</td>\n",
       "      <td>9</td>\n",
       "      <td>0</td>\n",
       "    </tr>\n",
       "    <tr>\n",
       "      <th>4</th>\n",
       "      <td>0</td>\n",
       "      <td>0</td>\n",
       "      <td>0</td>\n",
       "      <td>0</td>\n",
       "      <td>0</td>\n",
       "      <td>0</td>\n",
       "      <td>10</td>\n",
       "      <td>0</td>\n",
       "    </tr>\n",
       "  </tbody>\n",
       "</table>\n",
       "</div>"
      ],
      "text/plain": [
       "   capital_gains  dividends_from_stocks  num_persons_worked_for_employer  \\\n",
       "0              0                      0                                0   \n",
       "1              0                      0                                1   \n",
       "2              0                      0                                0   \n",
       "3              0                      0                                0   \n",
       "4              0                      0                                0   \n",
       "\n",
       "   weeks_worked_in_year  capital_losses  wage_per_hour  age  target  \n",
       "0                     0               0              0   73       0  \n",
       "1                    52               0              0   58       0  \n",
       "2                     0               0              0   18       0  \n",
       "3                     0               0              0    9       0  \n",
       "4                     0               0              0   10       0  "
      ]
     },
     "execution_count": 11,
     "metadata": {},
     "output_type": "execute_result"
    }
   ],
   "source": [
    "train_cont = train[continuous+['target']]\n",
    "train_cont.head()"
   ]
  },
  {
   "cell_type": "code",
   "execution_count": 12,
   "metadata": {},
   "outputs": [
    {
     "data": {
      "text/plain": [
       "Text(0.5,1,u'Correlation between continuous variables')"
      ]
     },
     "execution_count": 12,
     "metadata": {},
     "output_type": "execute_result"
    },
    {
     "data": {
      "image/png": "[encoded data removed]",
      "text/plain": [
       "<matplotlib.figure.Figure at 0x7f58f9453990>"
      ]
     },
     "metadata": {},
     "output_type": "display_data"
    }
   ],
   "source": [
    "### Correlation matrix of continuous variables\n",
    "f, ax = plt.subplots(figsize=(10, 8))\n",
    "\n",
    "corr = train_cont.corr()\n",
    "sns.heatmap(corr, mask=np.zeros_like(corr, dtype=np.bool), annot=True, cmap=sns.diverging_palette(220, 10, as_cmap=True),\n",
    "            square=True, ax=ax).set_title(\"Correlation between continuous variables\")"
   ]
  },
  {
   "cell_type": "code",
   "execution_count": 13,
   "metadata": {},
   "outputs": [
    {
     "data": {
      "text/html": [
       "<div>\n",
       "<style scoped>\n",
       "    .dataframe tbody tr th:only-of-type {\n",
       "        vertical-align: middle;\n",
       "    }\n",
       "\n",
       "    .dataframe tbody tr th {\n",
       "        vertical-align: top;\n",
       "    }\n",
       "\n",
       "    .dataframe thead th {\n",
       "        text-align: right;\n",
       "    }\n",
       "</style>\n",
       "<table border=\"1\" class=\"dataframe\">\n",
       "  <thead>\n",
       "    <tr style=\"text-align: right;\">\n",
       "      <th></th>\n",
       "      <th>capital_gains</th>\n",
       "      <th>dividends_from_stocks</th>\n",
       "      <th>num_persons_worked_for_employer</th>\n",
       "      <th>weeks_worked_in_year</th>\n",
       "      <th>capital_losses</th>\n",
       "      <th>wage_per_hour</th>\n",
       "      <th>age</th>\n",
       "    </tr>\n",
       "  </thead>\n",
       "  <tbody>\n",
       "    <tr>\n",
       "      <th>count</th>\n",
       "      <td>199523.00000</td>\n",
       "      <td>199523.000000</td>\n",
       "      <td>199523.000000</td>\n",
       "      <td>199523.000000</td>\n",
       "      <td>199523.000000</td>\n",
       "      <td>199523.000000</td>\n",
       "      <td>199523.000000</td>\n",
       "    </tr>\n",
       "    <tr>\n",
       "      <th>mean</th>\n",
       "      <td>434.71899</td>\n",
       "      <td>197.529533</td>\n",
       "      <td>1.956180</td>\n",
       "      <td>23.174897</td>\n",
       "      <td>37.313788</td>\n",
       "      <td>55.426908</td>\n",
       "      <td>34.494199</td>\n",
       "    </tr>\n",
       "    <tr>\n",
       "      <th>std</th>\n",
       "      <td>4697.53128</td>\n",
       "      <td>1984.163658</td>\n",
       "      <td>2.365126</td>\n",
       "      <td>24.411488</td>\n",
       "      <td>271.896428</td>\n",
       "      <td>274.896454</td>\n",
       "      <td>22.310895</td>\n",
       "    </tr>\n",
       "    <tr>\n",
       "      <th>min</th>\n",
       "      <td>0.00000</td>\n",
       "      <td>0.000000</td>\n",
       "      <td>0.000000</td>\n",
       "      <td>0.000000</td>\n",
       "      <td>0.000000</td>\n",
       "      <td>0.000000</td>\n",
       "      <td>0.000000</td>\n",
       "    </tr>\n",
       "    <tr>\n",
       "      <th>25%</th>\n",
       "      <td>0.00000</td>\n",
       "      <td>0.000000</td>\n",
       "      <td>0.000000</td>\n",
       "      <td>0.000000</td>\n",
       "      <td>0.000000</td>\n",
       "      <td>0.000000</td>\n",
       "      <td>15.000000</td>\n",
       "    </tr>\n",
       "    <tr>\n",
       "      <th>50%</th>\n",
       "      <td>0.00000</td>\n",
       "      <td>0.000000</td>\n",
       "      <td>1.000000</td>\n",
       "      <td>8.000000</td>\n",
       "      <td>0.000000</td>\n",
       "      <td>0.000000</td>\n",
       "      <td>33.000000</td>\n",
       "    </tr>\n",
       "    <tr>\n",
       "      <th>75%</th>\n",
       "      <td>0.00000</td>\n",
       "      <td>0.000000</td>\n",
       "      <td>4.000000</td>\n",
       "      <td>52.000000</td>\n",
       "      <td>0.000000</td>\n",
       "      <td>0.000000</td>\n",
       "      <td>50.000000</td>\n",
       "    </tr>\n",
       "    <tr>\n",
       "      <th>max</th>\n",
       "      <td>99999.00000</td>\n",
       "      <td>99999.000000</td>\n",
       "      <td>6.000000</td>\n",
       "      <td>52.000000</td>\n",
       "      <td>4608.000000</td>\n",
       "      <td>9999.000000</td>\n",
       "      <td>90.000000</td>\n",
       "    </tr>\n",
       "  </tbody>\n",
       "</table>\n",
       "</div>"
      ],
      "text/plain": [
       "       capital_gains  dividends_from_stocks  num_persons_worked_for_employer  \\\n",
       "count   199523.00000          199523.000000                    199523.000000   \n",
       "mean       434.71899             197.529533                         1.956180   \n",
       "std       4697.53128            1984.163658                         2.365126   \n",
       "min          0.00000               0.000000                         0.000000   \n",
       "25%          0.00000               0.000000                         0.000000   \n",
       "50%          0.00000               0.000000                         1.000000   \n",
       "75%          0.00000               0.000000                         4.000000   \n",
       "max      99999.00000           99999.000000                         6.000000   \n",
       "\n",
       "       weeks_worked_in_year  capital_losses  wage_per_hour            age  \n",
       "count         199523.000000   199523.000000  199523.000000  199523.000000  \n",
       "mean              23.174897       37.313788      55.426908      34.494199  \n",
       "std               24.411488      271.896428     274.896454      22.310895  \n",
       "min                0.000000        0.000000       0.000000       0.000000  \n",
       "25%                0.000000        0.000000       0.000000      15.000000  \n",
       "50%                8.000000        0.000000       0.000000      33.000000  \n",
       "75%               52.000000        0.000000       0.000000      50.000000  \n",
       "max               52.000000     4608.000000    9999.000000      90.000000  "
      ]
     },
     "execution_count": 13,
     "metadata": {},
     "output_type": "execute_result"
    }
   ],
   "source": [
    "train[continuous].describe(include=np.number)"
   ]
  },
  {
   "cell_type": "code",
   "execution_count": 14,
   "metadata": {},
   "outputs": [
    {
     "data": {
      "text/html": [
       "<div>\n",
       "<style scoped>\n",
       "    .dataframe tbody tr th:only-of-type {\n",
       "        vertical-align: middle;\n",
       "    }\n",
       "\n",
       "    .dataframe tbody tr th {\n",
       "        vertical-align: top;\n",
       "    }\n",
       "\n",
       "    .dataframe thead th {\n",
       "        text-align: right;\n",
       "    }\n",
       "</style>\n",
       "<table border=\"1\" class=\"dataframe\">\n",
       "  <thead>\n",
       "    <tr style=\"text-align: right;\">\n",
       "      <th></th>\n",
       "      <th>country_of_birth_self</th>\n",
       "      <th>tax_filer_stat</th>\n",
       "      <th>member_of_a_labor_union</th>\n",
       "      <th>detailed_household_summary_in_household</th>\n",
       "      <th>sex</th>\n",
       "      <th>full_or_part_time_employment_stat</th>\n",
       "      <th>live_in_this_house_1_year_ago</th>\n",
       "      <th>education</th>\n",
       "      <th>country_of_birth_mother</th>\n",
       "      <th>citizenship</th>\n",
       "      <th>...</th>\n",
       "      <th>reason_for_unemployment</th>\n",
       "      <th>family_members_under_18</th>\n",
       "      <th>major_industry_code</th>\n",
       "      <th>country_of_birth_father</th>\n",
       "      <th>major_occupation_code</th>\n",
       "      <th>class_of_worker</th>\n",
       "      <th>race</th>\n",
       "      <th>region_of_previous_residence</th>\n",
       "      <th>detailed_household_and_family_stat</th>\n",
       "      <th>state_of_previous_residence</th>\n",
       "    </tr>\n",
       "  </thead>\n",
       "  <tbody>\n",
       "    <tr>\n",
       "      <th>count</th>\n",
       "      <td>199523</td>\n",
       "      <td>199523</td>\n",
       "      <td>199523</td>\n",
       "      <td>199523</td>\n",
       "      <td>199523</td>\n",
       "      <td>199523</td>\n",
       "      <td>199523</td>\n",
       "      <td>199523</td>\n",
       "      <td>199523</td>\n",
       "      <td>199523</td>\n",
       "      <td>...</td>\n",
       "      <td>199523</td>\n",
       "      <td>199523</td>\n",
       "      <td>199523</td>\n",
       "      <td>199523</td>\n",
       "      <td>199523</td>\n",
       "      <td>199523</td>\n",
       "      <td>199523</td>\n",
       "      <td>199523</td>\n",
       "      <td>199523</td>\n",
       "      <td>199523</td>\n",
       "    </tr>\n",
       "    <tr>\n",
       "      <th>unique</th>\n",
       "      <td>43</td>\n",
       "      <td>6</td>\n",
       "      <td>3</td>\n",
       "      <td>8</td>\n",
       "      <td>2</td>\n",
       "      <td>8</td>\n",
       "      <td>3</td>\n",
       "      <td>17</td>\n",
       "      <td>43</td>\n",
       "      <td>5</td>\n",
       "      <td>...</td>\n",
       "      <td>6</td>\n",
       "      <td>5</td>\n",
       "      <td>24</td>\n",
       "      <td>43</td>\n",
       "      <td>15</td>\n",
       "      <td>9</td>\n",
       "      <td>5</td>\n",
       "      <td>6</td>\n",
       "      <td>38</td>\n",
       "      <td>51</td>\n",
       "    </tr>\n",
       "    <tr>\n",
       "      <th>top</th>\n",
       "      <td>United-States</td>\n",
       "      <td>Nonfiler</td>\n",
       "      <td>Not in universe</td>\n",
       "      <td>Householder</td>\n",
       "      <td>Female</td>\n",
       "      <td>Children or Armed Forces</td>\n",
       "      <td>Not in universe under 1 year old</td>\n",
       "      <td>High school graduate</td>\n",
       "      <td>United-States</td>\n",
       "      <td>Native- Born in the United States</td>\n",
       "      <td>...</td>\n",
       "      <td>Not in universe</td>\n",
       "      <td>Not in universe</td>\n",
       "      <td>Not in universe or children</td>\n",
       "      <td>United-States</td>\n",
       "      <td>Not in universe</td>\n",
       "      <td>Not in universe</td>\n",
       "      <td>White</td>\n",
       "      <td>Not in universe</td>\n",
       "      <td>Householder</td>\n",
       "      <td>Not in universe</td>\n",
       "    </tr>\n",
       "    <tr>\n",
       "      <th>freq</th>\n",
       "      <td>176989</td>\n",
       "      <td>75094</td>\n",
       "      <td>180459</td>\n",
       "      <td>75475</td>\n",
       "      <td>103984</td>\n",
       "      <td>123769</td>\n",
       "      <td>101212</td>\n",
       "      <td>48407</td>\n",
       "      <td>160479</td>\n",
       "      <td>176992</td>\n",
       "      <td>...</td>\n",
       "      <td>193453</td>\n",
       "      <td>144232</td>\n",
       "      <td>100684</td>\n",
       "      <td>159163</td>\n",
       "      <td>100684</td>\n",
       "      <td>100245</td>\n",
       "      <td>167365</td>\n",
       "      <td>183750</td>\n",
       "      <td>53248</td>\n",
       "      <td>183750</td>\n",
       "    </tr>\n",
       "  </tbody>\n",
       "</table>\n",
       "<p>4 rows × 29 columns</p>\n",
       "</div>"
      ],
      "text/plain": [
       "       country_of_birth_self tax_filer_stat member_of_a_labor_union  \\\n",
       "count                 199523         199523                  199523   \n",
       "unique                    43              6                       3   \n",
       "top            United-States       Nonfiler         Not in universe   \n",
       "freq                  176989          75094                  180459   \n",
       "\n",
       "       detailed_household_summary_in_household      sex  \\\n",
       "count                                   199523   199523   \n",
       "unique                                       8        2   \n",
       "top                                Householder   Female   \n",
       "freq                                     75475   103984   \n",
       "\n",
       "       full_or_part_time_employment_stat      live_in_this_house_1_year_ago  \\\n",
       "count                             199523                             199523   \n",
       "unique                                 8                                  3   \n",
       "top             Children or Armed Forces   Not in universe under 1 year old   \n",
       "freq                              123769                             101212   \n",
       "\n",
       "                    education country_of_birth_mother  \\\n",
       "count                  199523                  199523   \n",
       "unique                     17                      43   \n",
       "top      High school graduate           United-States   \n",
       "freq                    48407                  160479   \n",
       "\n",
       "                               citizenship             ...              \\\n",
       "count                               199523             ...               \n",
       "unique                                   5             ...               \n",
       "top      Native- Born in the United States             ...               \n",
       "freq                                176992             ...               \n",
       "\n",
       "       reason_for_unemployment family_members_under_18  \\\n",
       "count                   199523                  199523   \n",
       "unique                       6                       5   \n",
       "top            Not in universe         Not in universe   \n",
       "freq                    193453                  144232   \n",
       "\n",
       "                 major_industry_code country_of_birth_father  \\\n",
       "count                         199523                  199523   \n",
       "unique                            24                      43   \n",
       "top      Not in universe or children           United-States   \n",
       "freq                          100684                  159163   \n",
       "\n",
       "       major_occupation_code   class_of_worker    race  \\\n",
       "count                 199523            199523  199523   \n",
       "unique                    15                 9       5   \n",
       "top          Not in universe   Not in universe   White   \n",
       "freq                  100684            100245  167365   \n",
       "\n",
       "       region_of_previous_residence detailed_household_and_family_stat  \\\n",
       "count                        199523                             199523   \n",
       "unique                            6                                 38   \n",
       "top                 Not in universe                        Householder   \n",
       "freq                         183750                              53248   \n",
       "\n",
       "       state_of_previous_residence  \n",
       "count                       199523  \n",
       "unique                          51  \n",
       "top                Not in universe  \n",
       "freq                        183750  \n",
       "\n",
       "[4 rows x 29 columns]"
      ]
     },
     "execution_count": 14,
     "metadata": {},
     "output_type": "execute_result"
    }
   ],
   "source": [
    "train[categorical].describe(include=np.object)"
   ]
  },
  {
   "cell_type": "code",
   "execution_count": 15,
   "metadata": {},
   "outputs": [
    {
     "data": {
      "image/png": "[encoded data removed]",
      "text/plain": [
       "<matplotlib.figure.Figure at 0x7f58f92b0b50>"
      ]
     },
     "metadata": {},
     "output_type": "display_data"
    }
   ],
   "source": [
    "### Education vs. income\n",
    "g = sns.factorplot(x=\"education\", y=\"target\", data=train, kind=\"bar\", aspect=3, palette=\"deep\")\n",
    "g.set_xticklabels(rotation=90)\n",
    "g = g.set_ylabels(\">50K probability\")"
   ]
  },
  {
   "cell_type": "code",
   "execution_count": 16,
   "metadata": {},
   "outputs": [
    {
     "data": {
      "image/png": "[encoded data removed]",
      "text/plain": [
       "<matplotlib.figure.Figure at 0x7f58f92a3f50>"
      ]
     },
     "metadata": {},
     "output_type": "display_data"
    }
   ],
   "source": [
    "### Sex vs income\n",
    "g = sns.barplot(x=\"sex\", y=\"target\", data=train, palette=\"deep\")\n",
    "g.set_title(\"Sex vs income\")\n",
    "g = g.set_ylabel(\"Income >50K Probability\")"
   ]
  },
  {
   "cell_type": "code",
   "execution_count": 59,
   "metadata": {},
   "outputs": [
    {
     "data": {
      "image/png": "[encoded data removed]",
      "text/plain": [
       "<matplotlib.figure.Figure at 0x7f58ee2a7310>"
      ]
     },
     "metadata": {},
     "output_type": "display_data"
    }
   ],
   "source": [
    "g = sns.FacetGrid(train, row='target', col='sex')\n",
    "g.map(sns.distplot, \"age\")\n",
    "plt.show()"
   ]
  },
  {
   "cell_type": "code",
   "execution_count": 19,
   "metadata": {},
   "outputs": [
    {
     "data": {
      "image/png": "[encoded data removed]",
      "text/plain": [
       "<matplotlib.figure.Figure at 0x7f58f9295c50>"
      ]
     },
     "metadata": {},
     "output_type": "display_data"
    }
   ],
   "source": [
    "### Race vs income\n",
    "g = sns.barplot(x=\"race\", y=\"target\",data=train, palette=\"deep\")\n",
    "g = g.set_ylabel(\"Income >50K Probability\")"
   ]
  },
  {
   "cell_type": "code",
   "execution_count": 58,
   "metadata": {
    "scrolled": false
   },
   "outputs": [
    {
     "data": {
      "image/png": "[encoded data removed]",
      "text/plain": [
       "<matplotlib.figure.Figure at 0x7f58eeae02d0>"
      ]
     },
     "metadata": {},
     "output_type": "display_data"
    }
   ],
   "source": [
    "g = sns.FacetGrid(train, row='target', col='race')\n",
    "g.map(sns.distplot, \"age\")\n",
    "plt.show()"
   ]
  },
  {
   "cell_type": "code",
   "execution_count": 21,
   "metadata": {},
   "outputs": [
    {
     "data": {
      "text/plain": [
       "<matplotlib.axes._subplots.AxesSubplot at 0x7f58f4e35050>"
      ]
     },
     "execution_count": 21,
     "metadata": {},
     "output_type": "execute_result"
    },
    {
     "data": {
      "image/png": "[encoded data removed]",
      "text/plain": [
       "<matplotlib.figure.Figure at 0x7f58f4e00e90>"
      ]
     },
     "metadata": {},
     "output_type": "display_data"
    }
   ],
   "source": [
    "sns.violinplot(data=train, x='age')"
   ]
  },
  {
   "cell_type": "code",
   "execution_count": 45,
   "metadata": {},
   "outputs": [
    {
     "data": {
      "text/plain": [
       "<matplotlib.axes._subplots.AxesSubplot at 0x7f58f4528250>"
      ]
     },
     "execution_count": 45,
     "metadata": {},
     "output_type": "execute_result"
    },
    {
     "data": {
      "image/png": "[encoded data removed]",
      "text/plain": [
       "<matplotlib.figure.Figure at 0x7f58f458d8d0>"
      ]
     },
     "metadata": {},
     "output_type": "display_data"
    }
   ],
   "source": [
    "sns.distplot(train.weeks_worked_in_year)"
   ]
  },
  {
   "cell_type": "code",
   "execution_count": null,
   "metadata": {},
   "outputs": [],
   "source": []
  },
  {
   "cell_type": "code",
   "execution_count": 24,
   "metadata": {},
   "outputs": [
    {
     "data": {
      "text/plain": [
       "<matplotlib.axes._subplots.AxesSubplot at 0x7f58f4c91f10>"
      ]
     },
     "execution_count": 24,
     "metadata": {},
     "output_type": "execute_result"
    },
    {
     "data": {
      "image/png": "[encoded data removed]",
      "text/plain": [
       "<matplotlib.figure.Figure at 0x7f58f4c91150>"
      ]
     },
     "metadata": {},
     "output_type": "display_data"
    }
   ],
   "source": [
    "sns.violinplot(data=train, x=train.num_persons_worked_for_employer)"
   ]
  },
  {
   "cell_type": "code",
   "execution_count": 25,
   "metadata": {},
   "outputs": [
    {
     "data": {
      "text/plain": [
       "<matplotlib.axes._subplots.AxesSubplot at 0x7f58f4eaedd0>"
      ]
     },
     "execution_count": 25,
     "metadata": {},
     "output_type": "execute_result"
    },
    {
     "data": {
      "image/png": "[encoded data removed]",
      "text/plain": [
       "<matplotlib.figure.Figure at 0x7f58f4c23310>"
      ]
     },
     "metadata": {},
     "output_type": "display_data"
    }
   ],
   "source": [
    "sns.violinplot(data=train, x=train.wage_per_hour)"
   ]
  },
  {
   "cell_type": "code",
   "execution_count": 49,
   "metadata": {},
   "outputs": [
    {
     "data": {
      "text/plain": [
       "<matplotlib.axes._subplots.AxesSubplot at 0x7f58f4ed4910>"
      ]
     },
     "execution_count": 49,
     "metadata": {},
     "output_type": "execute_result"
    },
    {
     "data": {
      "image/png": "[encoded data removed]",
      "text/plain": [
       "<matplotlib.figure.Figure at 0x7f58f466c990>"
      ]
     },
     "metadata": {},
     "output_type": "display_data"
    }
   ],
   "source": [
    "sns.distplot(train.dividends_from_stocks)"
   ]
  },
  {
   "cell_type": "markdown",
   "metadata": {},
   "source": [
    "### Outlier detection\n",
    "<b>NOTE:</b> Here ideally one would be able to detect outliers. They may be present due to several factors such as failure of measurement instruments, wrong input and so on. In this dataset I looked for generic variables outliers such as age, sex, and weeks worked per year which where outliers can be detected using common sense but the distribution is well within boundaries. For specific variables like caital gains/losses, one might suspect outliers here but unless having domain expertise it is safer to leave the distribution intact."
   ]
  },
  {
   "cell_type": "markdown",
   "metadata": {},
   "source": [
    "## 4. Missing values, Subsampling, Feature Engineering <a class=\"anchor\" id=\"fourth-bullet\"></a>"
   ]
  },
  {
   "cell_type": "markdown",
   "metadata": {},
   "source": [
    "### 4.1. Missing values\n",
    "Inspect columns for missing values."
   ]
  },
  {
   "cell_type": "code",
   "execution_count": 61,
   "metadata": {
    "scrolled": true
   },
   "outputs": [
    {
     "name": "stdout",
     "output_type": "stream",
     "text": [
      "Dataframe shape and memory usage: (199523, 43), ~68MB\n",
      "\n",
      "Columns: \n",
      "age                                             int64\n",
      "class_of_worker                                object\n",
      "detailed_industry_recode                        int64\n",
      "detailed_occupation_recode                      int64\n",
      "education                                      object\n",
      "wage_per_hour                                   int64\n",
      "enroll_in_edu_inst_last_wk                     object\n",
      "marital_stat                                   object\n",
      "major_industry_code                            object\n",
      "major_occupation_code                          object\n",
      "race                                           object\n",
      "hispanic_origin                                object\n",
      "sex                                            object\n",
      "member_of_a_labor_union                        object\n",
      "reason_for_unemployment                        object\n",
      "full_or_part_time_employment_stat              object\n",
      "capital_gains                                   int64\n",
      "capital_losses                                  int64\n",
      "dividends_from_stocks                           int64\n",
      "tax_filer_stat                                 object\n",
      "region_of_previous_residence                   object\n",
      "state_of_previous_residence                    object\n",
      "detailed_household_and_family_stat             object\n",
      "detailed_household_summary_in_household        object\n",
      "instance_weight                               float64\n",
      "migration_code_change_in_msa                   object\n",
      "migration_code_change_in_reg                   object\n",
      "migration_code_move_within_reg                 object\n",
      "live_in_this_house_1_year_ago                  object\n",
      "migration_prev_res_in_sunbelt                  object\n",
      "num_persons_worked_for_employer                 int64\n",
      "family_members_under_18                        object\n",
      "country_of_birth_father                        object\n",
      "country_of_birth_mother                        object\n",
      "country_of_birth_self                          object\n",
      "citizenship                                    object\n",
      "own_business_or_self_employed                   int64\n",
      "fill_inc_questionnaire_for_veteran_s_admin     object\n",
      "veterans_benefits                               int64\n",
      "weeks_worked_in_year                            int64\n",
      "year                                            int64\n",
      "class                                          object\n",
      "target                                          int64\n",
      "dtype: object\n"
     ]
    },
    {
     "data": {
      "text/html": [
       "<div>\n",
       "<style scoped>\n",
       "    .dataframe tbody tr th:only-of-type {\n",
       "        vertical-align: middle;\n",
       "    }\n",
       "\n",
       "    .dataframe tbody tr th {\n",
       "        vertical-align: top;\n",
       "    }\n",
       "\n",
       "    .dataframe thead th {\n",
       "        text-align: right;\n",
       "    }\n",
       "</style>\n",
       "<table border=\"1\" class=\"dataframe\">\n",
       "  <thead>\n",
       "    <tr style=\"text-align: right;\">\n",
       "      <th></th>\n",
       "      <th>age</th>\n",
       "      <th>class_of_worker</th>\n",
       "      <th>detailed_industry_recode</th>\n",
       "      <th>detailed_occupation_recode</th>\n",
       "      <th>education</th>\n",
       "      <th>wage_per_hour</th>\n",
       "      <th>enroll_in_edu_inst_last_wk</th>\n",
       "      <th>marital_stat</th>\n",
       "      <th>major_industry_code</th>\n",
       "      <th>major_occupation_code</th>\n",
       "      <th>...</th>\n",
       "      <th>country_of_birth_mother</th>\n",
       "      <th>country_of_birth_self</th>\n",
       "      <th>citizenship</th>\n",
       "      <th>own_business_or_self_employed</th>\n",
       "      <th>fill_inc_questionnaire_for_veteran_s_admin</th>\n",
       "      <th>veterans_benefits</th>\n",
       "      <th>weeks_worked_in_year</th>\n",
       "      <th>year</th>\n",
       "      <th>class</th>\n",
       "      <th>target</th>\n",
       "    </tr>\n",
       "  </thead>\n",
       "  <tbody>\n",
       "    <tr>\n",
       "      <th>0</th>\n",
       "      <td>73</td>\n",
       "      <td>Not in universe</td>\n",
       "      <td>0</td>\n",
       "      <td>0</td>\n",
       "      <td>High school graduate</td>\n",
       "      <td>0</td>\n",
       "      <td>Not in universe</td>\n",
       "      <td>Widowed</td>\n",
       "      <td>Not in universe or children</td>\n",
       "      <td>Not in universe</td>\n",
       "      <td>...</td>\n",
       "      <td>United-States</td>\n",
       "      <td>United-States</td>\n",
       "      <td>Native- Born in the United States</td>\n",
       "      <td>0</td>\n",
       "      <td>Not in universe</td>\n",
       "      <td>2</td>\n",
       "      <td>0</td>\n",
       "      <td>95</td>\n",
       "      <td>- 50000.</td>\n",
       "      <td>0</td>\n",
       "    </tr>\n",
       "    <tr>\n",
       "      <th>1</th>\n",
       "      <td>58</td>\n",
       "      <td>Self-employed-not incorporated</td>\n",
       "      <td>4</td>\n",
       "      <td>34</td>\n",
       "      <td>Some college but no degree</td>\n",
       "      <td>0</td>\n",
       "      <td>Not in universe</td>\n",
       "      <td>Divorced</td>\n",
       "      <td>Construction</td>\n",
       "      <td>Precision production craft &amp; repair</td>\n",
       "      <td>...</td>\n",
       "      <td>United-States</td>\n",
       "      <td>United-States</td>\n",
       "      <td>Native- Born in the United States</td>\n",
       "      <td>0</td>\n",
       "      <td>Not in universe</td>\n",
       "      <td>2</td>\n",
       "      <td>52</td>\n",
       "      <td>94</td>\n",
       "      <td>- 50000.</td>\n",
       "      <td>0</td>\n",
       "    </tr>\n",
       "    <tr>\n",
       "      <th>2</th>\n",
       "      <td>18</td>\n",
       "      <td>Not in universe</td>\n",
       "      <td>0</td>\n",
       "      <td>0</td>\n",
       "      <td>10th grade</td>\n",
       "      <td>0</td>\n",
       "      <td>High school</td>\n",
       "      <td>Never married</td>\n",
       "      <td>Not in universe or children</td>\n",
       "      <td>Not in universe</td>\n",
       "      <td>...</td>\n",
       "      <td>Vietnam</td>\n",
       "      <td>Vietnam</td>\n",
       "      <td>Foreign born- Not a citizen of U S</td>\n",
       "      <td>0</td>\n",
       "      <td>Not in universe</td>\n",
       "      <td>2</td>\n",
       "      <td>0</td>\n",
       "      <td>95</td>\n",
       "      <td>- 50000.</td>\n",
       "      <td>0</td>\n",
       "    </tr>\n",
       "    <tr>\n",
       "      <th>3</th>\n",
       "      <td>9</td>\n",
       "      <td>Not in universe</td>\n",
       "      <td>0</td>\n",
       "      <td>0</td>\n",
       "      <td>Children</td>\n",
       "      <td>0</td>\n",
       "      <td>Not in universe</td>\n",
       "      <td>Never married</td>\n",
       "      <td>Not in universe or children</td>\n",
       "      <td>Not in universe</td>\n",
       "      <td>...</td>\n",
       "      <td>United-States</td>\n",
       "      <td>United-States</td>\n",
       "      <td>Native- Born in the United States</td>\n",
       "      <td>0</td>\n",
       "      <td>Not in universe</td>\n",
       "      <td>0</td>\n",
       "      <td>0</td>\n",
       "      <td>94</td>\n",
       "      <td>- 50000.</td>\n",
       "      <td>0</td>\n",
       "    </tr>\n",
       "    <tr>\n",
       "      <th>4</th>\n",
       "      <td>10</td>\n",
       "      <td>Not in universe</td>\n",
       "      <td>0</td>\n",
       "      <td>0</td>\n",
       "      <td>Children</td>\n",
       "      <td>0</td>\n",
       "      <td>Not in universe</td>\n",
       "      <td>Never married</td>\n",
       "      <td>Not in universe or children</td>\n",
       "      <td>Not in universe</td>\n",
       "      <td>...</td>\n",
       "      <td>United-States</td>\n",
       "      <td>United-States</td>\n",
       "      <td>Native- Born in the United States</td>\n",
       "      <td>0</td>\n",
       "      <td>Not in universe</td>\n",
       "      <td>0</td>\n",
       "      <td>0</td>\n",
       "      <td>94</td>\n",
       "      <td>- 50000.</td>\n",
       "      <td>0</td>\n",
       "    </tr>\n",
       "  </tbody>\n",
       "</table>\n",
       "<p>5 rows × 43 columns</p>\n",
       "</div>"
      ],
      "text/plain": [
       "   age                  class_of_worker  detailed_industry_recode  \\\n",
       "0   73                  Not in universe                         0   \n",
       "1   58   Self-employed-not incorporated                         4   \n",
       "2   18                  Not in universe                         0   \n",
       "3    9                  Not in universe                         0   \n",
       "4   10                  Not in universe                         0   \n",
       "\n",
       "   detailed_occupation_recode                    education  wage_per_hour  \\\n",
       "0                           0         High school graduate              0   \n",
       "1                          34   Some college but no degree              0   \n",
       "2                           0                   10th grade              0   \n",
       "3                           0                     Children              0   \n",
       "4                           0                     Children              0   \n",
       "\n",
       "  enroll_in_edu_inst_last_wk    marital_stat           major_industry_code  \\\n",
       "0            Not in universe         Widowed   Not in universe or children   \n",
       "1            Not in universe        Divorced                  Construction   \n",
       "2                High school   Never married   Not in universe or children   \n",
       "3            Not in universe   Never married   Not in universe or children   \n",
       "4            Not in universe   Never married   Not in universe or children   \n",
       "\n",
       "                  major_occupation_code  ...   country_of_birth_mother  \\\n",
       "0                       Not in universe  ...             United-States   \n",
       "1   Precision production craft & repair  ...             United-States   \n",
       "2                       Not in universe  ...                   Vietnam   \n",
       "3                       Not in universe  ...             United-States   \n",
       "4                       Not in universe  ...             United-States   \n",
       "\n",
       "  country_of_birth_self                           citizenship  \\\n",
       "0         United-States     Native- Born in the United States   \n",
       "1         United-States     Native- Born in the United States   \n",
       "2               Vietnam   Foreign born- Not a citizen of U S    \n",
       "3         United-States     Native- Born in the United States   \n",
       "4         United-States     Native- Born in the United States   \n",
       "\n",
       "  own_business_or_self_employed fill_inc_questionnaire_for_veteran_s_admin  \\\n",
       "0                             0                            Not in universe   \n",
       "1                             0                            Not in universe   \n",
       "2                             0                            Not in universe   \n",
       "3                             0                            Not in universe   \n",
       "4                             0                            Not in universe   \n",
       "\n",
       "  veterans_benefits  weeks_worked_in_year  year      class target  \n",
       "0                 2                     0    95   - 50000.      0  \n",
       "1                 2                    52    94   - 50000.      0  \n",
       "2                 2                     0    95   - 50000.      0  \n",
       "3                 0                     0    94   - 50000.      0  \n",
       "4                 0                     0    94   - 50000.      0  \n",
       "\n",
       "[5 rows x 43 columns]"
      ]
     },
     "execution_count": 61,
     "metadata": {},
     "output_type": "execute_result"
    }
   ],
   "source": [
    "### Inspect size, shape, and datatypes of the dataframe\n",
    "print \"Dataframe shape and memory usage: {}, ~{}MB\\n\".format(train.shape, train.memory_usage(index=False).sum()/1000000)\n",
    "print \"Columns: \"\n",
    "print train.dtypes\n",
    "train.head(5)"
   ]
  },
  {
   "cell_type": "code",
   "execution_count": 62,
   "metadata": {
    "scrolled": true
   },
   "outputs": [
    {
     "name": "stdout",
     "output_type": "stream",
     "text": [
      "Null value counts:\n"
     ]
    },
    {
     "data": {
      "text/plain": [
       "age                                           0\n",
       "class_of_worker                               0\n",
       "detailed_industry_recode                      0\n",
       "detailed_occupation_recode                    0\n",
       "education                                     0\n",
       "wage_per_hour                                 0\n",
       "enroll_in_edu_inst_last_wk                    0\n",
       "marital_stat                                  0\n",
       "major_industry_code                           0\n",
       "major_occupation_code                         0\n",
       "race                                          0\n",
       "hispanic_origin                               0\n",
       "sex                                           0\n",
       "member_of_a_labor_union                       0\n",
       "reason_for_unemployment                       0\n",
       "full_or_part_time_employment_stat             0\n",
       "capital_gains                                 0\n",
       "capital_losses                                0\n",
       "dividends_from_stocks                         0\n",
       "tax_filer_stat                                0\n",
       "region_of_previous_residence                  0\n",
       "state_of_previous_residence                   0\n",
       "detailed_household_and_family_stat            0\n",
       "detailed_household_summary_in_household       0\n",
       "instance_weight                               0\n",
       "migration_code_change_in_msa                  0\n",
       "migration_code_change_in_reg                  0\n",
       "migration_code_move_within_reg                0\n",
       "live_in_this_house_1_year_ago                 0\n",
       "migration_prev_res_in_sunbelt                 0\n",
       "num_persons_worked_for_employer               0\n",
       "family_members_under_18                       0\n",
       "country_of_birth_father                       0\n",
       "country_of_birth_mother                       0\n",
       "country_of_birth_self                         0\n",
       "citizenship                                   0\n",
       "own_business_or_self_employed                 0\n",
       "fill_inc_questionnaire_for_veteran_s_admin    0\n",
       "veterans_benefits                             0\n",
       "weeks_worked_in_year                          0\n",
       "year                                          0\n",
       "class                                         0\n",
       "target                                        0\n",
       "dtype: int64"
      ]
     },
     "execution_count": 62,
     "metadata": {},
     "output_type": "execute_result"
    }
   ],
   "source": [
    "print \"Null value counts:\"\n",
    "train.isna().sum()"
   ]
  },
  {
   "cell_type": "markdown",
   "metadata": {},
   "source": [
    "#### Note: It appears that there are no missing values in the dataset. But I remember I have seen some '?' scattered in the dataframe. '?' in the context of attributes given in this dataframe does not reveal any valuable information and I will treat it as a missing value. I will temporarily replace '?' with Na and use .isna() to run counts just to get an impression of its presence, after that I replace it back with '?'."
   ]
  },
  {
   "cell_type": "code",
   "execution_count": 63,
   "metadata": {},
   "outputs": [],
   "source": [
    "### Replace ' ?' with NaN\n",
    "train.replace(r' ?', np.nan, regex=False, inplace=True)"
   ]
  },
  {
   "cell_type": "code",
   "execution_count": 64,
   "metadata": {},
   "outputs": [
    {
     "name": "stdout",
     "output_type": "stream",
     "text": [
      "                                count\n",
      "state_of_previous_residence       708\n",
      "migration_code_change_in_msa    99696\n",
      "migration_code_change_in_reg    99696\n",
      "migration_code_move_within_reg  99696\n",
      "migration_prev_res_in_sunbelt   99696\n",
      "country_of_birth_father          6713\n",
      "country_of_birth_mother          6119\n",
      "country_of_birth_self            3393\n"
     ]
    },
    {
     "data": {
      "text/plain": [
       "<matplotlib.axes._subplots.AxesSubplot at 0x7f58f893ab10>"
      ]
     },
     "execution_count": 64,
     "metadata": {},
     "output_type": "execute_result"
    },
    {
     "data": {
      "image/png": "[encoded data removed]",
      "text/plain": [
       "<matplotlib.figure.Figure at 0x7f58eddcf6d0>"
      ]
     },
     "metadata": {},
     "output_type": "display_data"
    }
   ],
   "source": [
    "### Count columns with missing values again\n",
    "missing = pd.DataFrame(train.isna().sum(), columns=['count'])\n",
    "missing = missing[missing['count']>0]\n",
    "print missing\n",
    "missing.plot(kind='bar')"
   ]
  },
  {
   "cell_type": "code",
   "execution_count": 65,
   "metadata": {},
   "outputs": [],
   "source": [
    "### Drop samples containing any missing value\n",
    "train.fillna(value=' ?', inplace=True)"
   ]
  },
  {
   "cell_type": "code",
   "execution_count": 66,
   "metadata": {},
   "outputs": [
    {
     "data": {
      "text/plain": [
       "(199523, 43)"
      ]
     },
     "execution_count": 66,
     "metadata": {},
     "output_type": "execute_result"
    }
   ],
   "source": [
    "train.shape"
   ]
  },
  {
   "cell_type": "code",
   "execution_count": 67,
   "metadata": {
    "scrolled": true
   },
   "outputs": [
    {
     "name": "stdout",
     "output_type": "stream",
     "text": [
      "Null value counts:\n"
     ]
    },
    {
     "data": {
      "text/plain": [
       "age                                           0\n",
       "class_of_worker                               0\n",
       "detailed_industry_recode                      0\n",
       "detailed_occupation_recode                    0\n",
       "education                                     0\n",
       "wage_per_hour                                 0\n",
       "enroll_in_edu_inst_last_wk                    0\n",
       "marital_stat                                  0\n",
       "major_industry_code                           0\n",
       "major_occupation_code                         0\n",
       "race                                          0\n",
       "hispanic_origin                               0\n",
       "sex                                           0\n",
       "member_of_a_labor_union                       0\n",
       "reason_for_unemployment                       0\n",
       "full_or_part_time_employment_stat             0\n",
       "capital_gains                                 0\n",
       "capital_losses                                0\n",
       "dividends_from_stocks                         0\n",
       "tax_filer_stat                                0\n",
       "region_of_previous_residence                  0\n",
       "state_of_previous_residence                   0\n",
       "detailed_household_and_family_stat            0\n",
       "detailed_household_summary_in_household       0\n",
       "instance_weight                               0\n",
       "migration_code_change_in_msa                  0\n",
       "migration_code_change_in_reg                  0\n",
       "migration_code_move_within_reg                0\n",
       "live_in_this_house_1_year_ago                 0\n",
       "migration_prev_res_in_sunbelt                 0\n",
       "num_persons_worked_for_employer               0\n",
       "family_members_under_18                       0\n",
       "country_of_birth_father                       0\n",
       "country_of_birth_mother                       0\n",
       "country_of_birth_self                         0\n",
       "citizenship                                   0\n",
       "own_business_or_self_employed                 0\n",
       "fill_inc_questionnaire_for_veteran_s_admin    0\n",
       "veterans_benefits                             0\n",
       "weeks_worked_in_year                          0\n",
       "year                                          0\n",
       "class                                         0\n",
       "target                                        0\n",
       "dtype: int64"
      ]
     },
     "execution_count": 67,
     "metadata": {},
     "output_type": "execute_result"
    }
   ],
   "source": [
    "print \"Null value counts:\"\n",
    "train.isna().sum()"
   ]
  },
  {
   "cell_type": "markdown",
   "metadata": {},
   "source": [
    "### 4.2. Encoding categorical fields, subsampling, and prepare for fitting the classifier"
   ]
  },
  {
   "cell_type": "code",
   "execution_count": 101,
   "metadata": {},
   "outputs": [
    {
     "name": "stderr",
     "output_type": "stream",
     "text": [
      "/home/armend/.local/lib/python2.7/site-packages/sklearn/preprocessing/label.py:151: DeprecationWarning: The truth value of an empty array is ambiguous. Returning False, but in future this will result in an error. Use `array.size > 0` to check that an array is not empty.\n",
      "  if diff:\n",
      "/home/armend/.local/lib/python2.7/site-packages/sklearn/preprocessing/label.py:151: DeprecationWarning: The truth value of an empty array is ambiguous. Returning False, but in future this will result in an error. Use `array.size > 0` to check that an array is not empty.\n",
      "  if diff:\n",
      "/home/armend/.local/lib/python2.7/site-packages/sklearn/preprocessing/label.py:151: DeprecationWarning: The truth value of an empty array is ambiguous. Returning False, but in future this will result in an error. Use `array.size > 0` to check that an array is not empty.\n",
      "  if diff:\n",
      "/home/armend/.local/lib/python2.7/site-packages/sklearn/preprocessing/label.py:151: DeprecationWarning: The truth value of an empty array is ambiguous. Returning False, but in future this will result in an error. Use `array.size > 0` to check that an array is not empty.\n",
      "  if diff:\n",
      "/home/armend/.local/lib/python2.7/site-packages/sklearn/preprocessing/label.py:151: DeprecationWarning: The truth value of an empty array is ambiguous. Returning False, but in future this will result in an error. Use `array.size > 0` to check that an array is not empty.\n",
      "  if diff:\n",
      "/home/armend/.local/lib/python2.7/site-packages/sklearn/preprocessing/label.py:151: DeprecationWarning: The truth value of an empty array is ambiguous. Returning False, but in future this will result in an error. Use `array.size > 0` to check that an array is not empty.\n",
      "  if diff:\n",
      "/home/armend/.local/lib/python2.7/site-packages/sklearn/preprocessing/label.py:151: DeprecationWarning: The truth value of an empty array is ambiguous. Returning False, but in future this will result in an error. Use `array.size > 0` to check that an array is not empty.\n",
      "  if diff:\n",
      "/home/armend/.local/lib/python2.7/site-packages/sklearn/preprocessing/label.py:151: DeprecationWarning: The truth value of an empty array is ambiguous. Returning False, but in future this will result in an error. Use `array.size > 0` to check that an array is not empty.\n",
      "  if diff:\n",
      "/home/armend/.local/lib/python2.7/site-packages/sklearn/preprocessing/label.py:151: DeprecationWarning: The truth value of an empty array is ambiguous. Returning False, but in future this will result in an error. Use `array.size > 0` to check that an array is not empty.\n",
      "  if diff:\n",
      "/home/armend/.local/lib/python2.7/site-packages/sklearn/preprocessing/label.py:151: DeprecationWarning: The truth value of an empty array is ambiguous. Returning False, but in future this will result in an error. Use `array.size > 0` to check that an array is not empty.\n",
      "  if diff:\n",
      "/home/armend/.local/lib/python2.7/site-packages/sklearn/preprocessing/label.py:151: DeprecationWarning: The truth value of an empty array is ambiguous. Returning False, but in future this will result in an error. Use `array.size > 0` to check that an array is not empty.\n",
      "  if diff:\n",
      "/home/armend/.local/lib/python2.7/site-packages/sklearn/preprocessing/label.py:151: DeprecationWarning: The truth value of an empty array is ambiguous. Returning False, but in future this will result in an error. Use `array.size > 0` to check that an array is not empty.\n",
      "  if diff:\n",
      "/home/armend/.local/lib/python2.7/site-packages/sklearn/preprocessing/label.py:151: DeprecationWarning: The truth value of an empty array is ambiguous. Returning False, but in future this will result in an error. Use `array.size > 0` to check that an array is not empty.\n",
      "  if diff:\n",
      "/home/armend/.local/lib/python2.7/site-packages/sklearn/preprocessing/label.py:151: DeprecationWarning: The truth value of an empty array is ambiguous. Returning False, but in future this will result in an error. Use `array.size > 0` to check that an array is not empty.\n",
      "  if diff:\n",
      "/home/armend/.local/lib/python2.7/site-packages/sklearn/preprocessing/label.py:151: DeprecationWarning: The truth value of an empty array is ambiguous. Returning False, but in future this will result in an error. Use `array.size > 0` to check that an array is not empty.\n",
      "  if diff:\n",
      "/home/armend/.local/lib/python2.7/site-packages/sklearn/preprocessing/label.py:151: DeprecationWarning: The truth value of an empty array is ambiguous. Returning False, but in future this will result in an error. Use `array.size > 0` to check that an array is not empty.\n",
      "  if diff:\n",
      "/home/armend/.local/lib/python2.7/site-packages/sklearn/preprocessing/label.py:151: DeprecationWarning: The truth value of an empty array is ambiguous. Returning False, but in future this will result in an error. Use `array.size > 0` to check that an array is not empty.\n",
      "  if diff:\n",
      "/home/armend/.local/lib/python2.7/site-packages/sklearn/preprocessing/label.py:151: DeprecationWarning: The truth value of an empty array is ambiguous. Returning False, but in future this will result in an error. Use `array.size > 0` to check that an array is not empty.\n",
      "  if diff:\n",
      "/home/armend/.local/lib/python2.7/site-packages/sklearn/preprocessing/label.py:151: DeprecationWarning: The truth value of an empty array is ambiguous. Returning False, but in future this will result in an error. Use `array.size > 0` to check that an array is not empty.\n",
      "  if diff:\n",
      "/home/armend/.local/lib/python2.7/site-packages/sklearn/preprocessing/label.py:151: DeprecationWarning: The truth value of an empty array is ambiguous. Returning False, but in future this will result in an error. Use `array.size > 0` to check that an array is not empty.\n",
      "  if diff:\n",
      "/home/armend/.local/lib/python2.7/site-packages/sklearn/preprocessing/label.py:151: DeprecationWarning: The truth value of an empty array is ambiguous. Returning False, but in future this will result in an error. Use `array.size > 0` to check that an array is not empty.\n",
      "  if diff:\n",
      "/home/armend/.local/lib/python2.7/site-packages/sklearn/preprocessing/label.py:151: DeprecationWarning: The truth value of an empty array is ambiguous. Returning False, but in future this will result in an error. Use `array.size > 0` to check that an array is not empty.\n",
      "  if diff:\n",
      "/home/armend/.local/lib/python2.7/site-packages/sklearn/preprocessing/label.py:151: DeprecationWarning: The truth value of an empty array is ambiguous. Returning False, but in future this will result in an error. Use `array.size > 0` to check that an array is not empty.\n",
      "  if diff:\n",
      "/home/armend/.local/lib/python2.7/site-packages/sklearn/preprocessing/label.py:151: DeprecationWarning: The truth value of an empty array is ambiguous. Returning False, but in future this will result in an error. Use `array.size > 0` to check that an array is not empty.\n",
      "  if diff:\n",
      "/home/armend/.local/lib/python2.7/site-packages/sklearn/preprocessing/label.py:151: DeprecationWarning: The truth value of an empty array is ambiguous. Returning False, but in future this will result in an error. Use `array.size > 0` to check that an array is not empty.\n",
      "  if diff:\n",
      "/home/armend/.local/lib/python2.7/site-packages/sklearn/preprocessing/label.py:151: DeprecationWarning: The truth value of an empty array is ambiguous. Returning False, but in future this will result in an error. Use `array.size > 0` to check that an array is not empty.\n",
      "  if diff:\n",
      "/home/armend/.local/lib/python2.7/site-packages/sklearn/preprocessing/label.py:151: DeprecationWarning: The truth value of an empty array is ambiguous. Returning False, but in future this will result in an error. Use `array.size > 0` to check that an array is not empty.\n",
      "  if diff:\n",
      "/home/armend/.local/lib/python2.7/site-packages/sklearn/preprocessing/label.py:151: DeprecationWarning: The truth value of an empty array is ambiguous. Returning False, but in future this will result in an error. Use `array.size > 0` to check that an array is not empty.\n",
      "  if diff:\n",
      "/home/armend/.local/lib/python2.7/site-packages/sklearn/preprocessing/label.py:151: DeprecationWarning: The truth value of an empty array is ambiguous. Returning False, but in future this will result in an error. Use `array.size > 0` to check that an array is not empty.\n",
      "  if diff:\n",
      "/home/armend/.local/lib/python2.7/site-packages/sklearn/preprocessing/label.py:151: DeprecationWarning: The truth value of an empty array is ambiguous. Returning False, but in future this will result in an error. Use `array.size > 0` to check that an array is not empty.\n",
      "  if diff:\n"
     ]
    },
    {
     "name": "stderr",
     "output_type": "stream",
     "text": [
      "/home/armend/.local/lib/python2.7/site-packages/sklearn/preprocessing/label.py:151: DeprecationWarning: The truth value of an empty array is ambiguous. Returning False, but in future this will result in an error. Use `array.size > 0` to check that an array is not empty.\n",
      "  if diff:\n",
      "/home/armend/.local/lib/python2.7/site-packages/sklearn/preprocessing/label.py:151: DeprecationWarning: The truth value of an empty array is ambiguous. Returning False, but in future this will result in an error. Use `array.size > 0` to check that an array is not empty.\n",
      "  if diff:\n",
      "/home/armend/.local/lib/python2.7/site-packages/sklearn/preprocessing/label.py:151: DeprecationWarning: The truth value of an empty array is ambiguous. Returning False, but in future this will result in an error. Use `array.size > 0` to check that an array is not empty.\n",
      "  if diff:\n",
      "/home/armend/.local/lib/python2.7/site-packages/sklearn/preprocessing/label.py:151: DeprecationWarning: The truth value of an empty array is ambiguous. Returning False, but in future this will result in an error. Use `array.size > 0` to check that an array is not empty.\n",
      "  if diff:\n",
      "/home/armend/.local/lib/python2.7/site-packages/sklearn/preprocessing/label.py:151: DeprecationWarning: The truth value of an empty array is ambiguous. Returning False, but in future this will result in an error. Use `array.size > 0` to check that an array is not empty.\n",
      "  if diff:\n"
     ]
    }
   ],
   "source": [
    "### Prepare the train set\n",
    "\n",
    "d = defaultdict(LabelEncoder)\n",
    "\n",
    "# Encoding the variables\n",
    "train_enc = train[categorical].apply(lambda x: d[x.name].fit_transform(x))\n",
    "\n",
    "# Inverse the encoded\n",
    "train_enc.apply(lambda x: d[x.name].inverse_transform(x))\n",
    "\n",
    "#X = pd.concat([train[continuous], train_enc], axis=1)\n",
    "#X.drop('class', axis=1, inplace=True)\n",
    "\n",
    "# Concat continuous and categorical variables, drop class (-50000/50000+)\n",
    "train_enc = pd.concat([train[continuous], train_enc, train.target], axis=1)\n",
    "\n",
    "# Split positive and negative samples\n",
    "X_pos = train_enc[train_enc.target==1]\n",
    "X_neg = train_enc[train_enc.target==0]\n",
    "\n",
    "# Subsample the negative set, extract a number of random samples \n",
    "# equal to the number of positive samples\n",
    "X = pd.concat([X_neg.sample(X_pos.shape[0]), X_pos])\n",
    "y = X.target\n",
    "X.drop(['class', 'target'], axis=1, inplace=True)"
   ]
  },
  {
   "cell_type": "code",
   "execution_count": 102,
   "metadata": {},
   "outputs": [
    {
     "name": "stderr",
     "output_type": "stream",
     "text": [
      "/home/armend/.local/lib/python2.7/site-packages/sklearn/preprocessing/label.py:151: DeprecationWarning: The truth value of an empty array is ambiguous. Returning False, but in future this will result in an error. Use `array.size > 0` to check that an array is not empty.\n",
      "  if diff:\n",
      "/home/armend/.local/lib/python2.7/site-packages/sklearn/preprocessing/label.py:151: DeprecationWarning: The truth value of an empty array is ambiguous. Returning False, but in future this will result in an error. Use `array.size > 0` to check that an array is not empty.\n",
      "  if diff:\n",
      "/home/armend/.local/lib/python2.7/site-packages/sklearn/preprocessing/label.py:151: DeprecationWarning: The truth value of an empty array is ambiguous. Returning False, but in future this will result in an error. Use `array.size > 0` to check that an array is not empty.\n",
      "  if diff:\n",
      "/home/armend/.local/lib/python2.7/site-packages/sklearn/preprocessing/label.py:151: DeprecationWarning: The truth value of an empty array is ambiguous. Returning False, but in future this will result in an error. Use `array.size > 0` to check that an array is not empty.\n",
      "  if diff:\n",
      "/home/armend/.local/lib/python2.7/site-packages/sklearn/preprocessing/label.py:151: DeprecationWarning: The truth value of an empty array is ambiguous. Returning False, but in future this will result in an error. Use `array.size > 0` to check that an array is not empty.\n",
      "  if diff:\n",
      "/home/armend/.local/lib/python2.7/site-packages/sklearn/preprocessing/label.py:151: DeprecationWarning: The truth value of an empty array is ambiguous. Returning False, but in future this will result in an error. Use `array.size > 0` to check that an array is not empty.\n",
      "  if diff:\n",
      "/home/armend/.local/lib/python2.7/site-packages/sklearn/preprocessing/label.py:151: DeprecationWarning: The truth value of an empty array is ambiguous. Returning False, but in future this will result in an error. Use `array.size > 0` to check that an array is not empty.\n",
      "  if diff:\n",
      "/home/armend/.local/lib/python2.7/site-packages/sklearn/preprocessing/label.py:151: DeprecationWarning: The truth value of an empty array is ambiguous. Returning False, but in future this will result in an error. Use `array.size > 0` to check that an array is not empty.\n",
      "  if diff:\n",
      "/home/armend/.local/lib/python2.7/site-packages/sklearn/preprocessing/label.py:151: DeprecationWarning: The truth value of an empty array is ambiguous. Returning False, but in future this will result in an error. Use `array.size > 0` to check that an array is not empty.\n",
      "  if diff:\n",
      "/home/armend/.local/lib/python2.7/site-packages/sklearn/preprocessing/label.py:151: DeprecationWarning: The truth value of an empty array is ambiguous. Returning False, but in future this will result in an error. Use `array.size > 0` to check that an array is not empty.\n",
      "  if diff:\n",
      "/home/armend/.local/lib/python2.7/site-packages/sklearn/preprocessing/label.py:151: DeprecationWarning: The truth value of an empty array is ambiguous. Returning False, but in future this will result in an error. Use `array.size > 0` to check that an array is not empty.\n",
      "  if diff:\n",
      "/home/armend/.local/lib/python2.7/site-packages/sklearn/preprocessing/label.py:151: DeprecationWarning: The truth value of an empty array is ambiguous. Returning False, but in future this will result in an error. Use `array.size > 0` to check that an array is not empty.\n",
      "  if diff:\n",
      "/home/armend/.local/lib/python2.7/site-packages/sklearn/preprocessing/label.py:151: DeprecationWarning: The truth value of an empty array is ambiguous. Returning False, but in future this will result in an error. Use `array.size > 0` to check that an array is not empty.\n",
      "  if diff:\n",
      "/home/armend/.local/lib/python2.7/site-packages/sklearn/preprocessing/label.py:151: DeprecationWarning: The truth value of an empty array is ambiguous. Returning False, but in future this will result in an error. Use `array.size > 0` to check that an array is not empty.\n",
      "  if diff:\n",
      "/home/armend/.local/lib/python2.7/site-packages/sklearn/preprocessing/label.py:151: DeprecationWarning: The truth value of an empty array is ambiguous. Returning False, but in future this will result in an error. Use `array.size > 0` to check that an array is not empty.\n",
      "  if diff:\n",
      "/home/armend/.local/lib/python2.7/site-packages/sklearn/preprocessing/label.py:151: DeprecationWarning: The truth value of an empty array is ambiguous. Returning False, but in future this will result in an error. Use `array.size > 0` to check that an array is not empty.\n",
      "  if diff:\n",
      "/home/armend/.local/lib/python2.7/site-packages/sklearn/preprocessing/label.py:151: DeprecationWarning: The truth value of an empty array is ambiguous. Returning False, but in future this will result in an error. Use `array.size > 0` to check that an array is not empty.\n",
      "  if diff:\n",
      "/home/armend/.local/lib/python2.7/site-packages/sklearn/preprocessing/label.py:151: DeprecationWarning: The truth value of an empty array is ambiguous. Returning False, but in future this will result in an error. Use `array.size > 0` to check that an array is not empty.\n",
      "  if diff:\n",
      "/home/armend/.local/lib/python2.7/site-packages/sklearn/preprocessing/label.py:151: DeprecationWarning: The truth value of an empty array is ambiguous. Returning False, but in future this will result in an error. Use `array.size > 0` to check that an array is not empty.\n",
      "  if diff:\n",
      "/home/armend/.local/lib/python2.7/site-packages/sklearn/preprocessing/label.py:151: DeprecationWarning: The truth value of an empty array is ambiguous. Returning False, but in future this will result in an error. Use `array.size > 0` to check that an array is not empty.\n",
      "  if diff:\n",
      "/home/armend/.local/lib/python2.7/site-packages/sklearn/preprocessing/label.py:151: DeprecationWarning: The truth value of an empty array is ambiguous. Returning False, but in future this will result in an error. Use `array.size > 0` to check that an array is not empty.\n",
      "  if diff:\n",
      "/home/armend/.local/lib/python2.7/site-packages/sklearn/preprocessing/label.py:151: DeprecationWarning: The truth value of an empty array is ambiguous. Returning False, but in future this will result in an error. Use `array.size > 0` to check that an array is not empty.\n",
      "  if diff:\n",
      "/home/armend/.local/lib/python2.7/site-packages/sklearn/preprocessing/label.py:151: DeprecationWarning: The truth value of an empty array is ambiguous. Returning False, but in future this will result in an error. Use `array.size > 0` to check that an array is not empty.\n",
      "  if diff:\n",
      "/home/armend/.local/lib/python2.7/site-packages/sklearn/preprocessing/label.py:151: DeprecationWarning: The truth value of an empty array is ambiguous. Returning False, but in future this will result in an error. Use `array.size > 0` to check that an array is not empty.\n",
      "  if diff:\n",
      "/home/armend/.local/lib/python2.7/site-packages/sklearn/preprocessing/label.py:151: DeprecationWarning: The truth value of an empty array is ambiguous. Returning False, but in future this will result in an error. Use `array.size > 0` to check that an array is not empty.\n",
      "  if diff:\n",
      "/home/armend/.local/lib/python2.7/site-packages/sklearn/preprocessing/label.py:151: DeprecationWarning: The truth value of an empty array is ambiguous. Returning False, but in future this will result in an error. Use `array.size > 0` to check that an array is not empty.\n",
      "  if diff:\n",
      "/home/armend/.local/lib/python2.7/site-packages/sklearn/preprocessing/label.py:151: DeprecationWarning: The truth value of an empty array is ambiguous. Returning False, but in future this will result in an error. Use `array.size > 0` to check that an array is not empty.\n",
      "  if diff:\n",
      "/home/armend/.local/lib/python2.7/site-packages/sklearn/preprocessing/label.py:151: DeprecationWarning: The truth value of an empty array is ambiguous. Returning False, but in future this will result in an error. Use `array.size > 0` to check that an array is not empty.\n",
      "  if diff:\n",
      "/home/armend/.local/lib/python2.7/site-packages/sklearn/preprocessing/label.py:151: DeprecationWarning: The truth value of an empty array is ambiguous. Returning False, but in future this will result in an error. Use `array.size > 0` to check that an array is not empty.\n",
      "  if diff:\n",
      "/home/armend/.local/lib/python2.7/site-packages/sklearn/preprocessing/label.py:151: DeprecationWarning: The truth value of an empty array is ambiguous. Returning False, but in future this will result in an error. Use `array.size > 0` to check that an array is not empty.\n",
      "  if diff:\n"
     ]
    },
    {
     "name": "stderr",
     "output_type": "stream",
     "text": [
      "/home/armend/.local/lib/python2.7/site-packages/sklearn/preprocessing/label.py:151: DeprecationWarning: The truth value of an empty array is ambiguous. Returning False, but in future this will result in an error. Use `array.size > 0` to check that an array is not empty.\n",
      "  if diff:\n",
      "/home/armend/.local/lib/python2.7/site-packages/sklearn/preprocessing/label.py:151: DeprecationWarning: The truth value of an empty array is ambiguous. Returning False, but in future this will result in an error. Use `array.size > 0` to check that an array is not empty.\n",
      "  if diff:\n",
      "/home/armend/.local/lib/python2.7/site-packages/sklearn/preprocessing/label.py:151: DeprecationWarning: The truth value of an empty array is ambiguous. Returning False, but in future this will result in an error. Use `array.size > 0` to check that an array is not empty.\n",
      "  if diff:\n",
      "/home/armend/.local/lib/python2.7/site-packages/sklearn/preprocessing/label.py:151: DeprecationWarning: The truth value of an empty array is ambiguous. Returning False, but in future this will result in an error. Use `array.size > 0` to check that an array is not empty.\n",
      "  if diff:\n",
      "/home/armend/.local/lib/python2.7/site-packages/sklearn/preprocessing/label.py:151: DeprecationWarning: The truth value of an empty array is ambiguous. Returning False, but in future this will result in an error. Use `array.size > 0` to check that an array is not empty.\n",
      "  if diff:\n"
     ]
    }
   ],
   "source": [
    "### Prepare the test set\n",
    "\n",
    "d = defaultdict(LabelEncoder)\n",
    "\n",
    "test_enc = test[categorical].apply(lambda x: d[x.name].fit_transform(x))\n",
    "test_enc.apply(lambda x: d[x.name].inverse_transform(x))\n",
    "\n",
    "X_test = pd.concat([test[continuous], test_enc], axis=1)\n",
    "X_test.drop('class', axis=1, inplace=True)\n",
    "\n",
    "test_enc = pd.concat([test[continuous], test_enc, test.target], axis=1)\n",
    "X_test_pos = test_enc[test_enc.target==1]\n",
    "X_test_neg = test_enc[test_enc.target==0]\n",
    "\n",
    "X_test = pd.concat([X_test_neg.sample(X_test_pos.shape[0]), X_test_pos])\n",
    "y_test = X_test.target\n",
    "X_test.drop(['class', 'target'], axis=1, inplace=True)"
   ]
  },
  {
   "cell_type": "code",
   "execution_count": 103,
   "metadata": {},
   "outputs": [
    {
     "data": {
      "text/plain": [
       "(12372, 40)"
      ]
     },
     "execution_count": 103,
     "metadata": {},
     "output_type": "execute_result"
    }
   ],
   "source": [
    "X_test.shape"
   ]
  },
  {
   "cell_type": "markdown",
   "metadata": {},
   "source": [
    "### 4.3. Feature importance\n",
    "Train a baseline LogisticRegression model and examine feature importance"
   ]
  },
  {
   "cell_type": "code",
   "execution_count": 96,
   "metadata": {},
   "outputs": [
    {
     "name": "stdout",
     "output_type": "stream",
     "text": [
      "[False False False False False False False False False False False  True\n",
      " False False False False False False False False  True False False False\n",
      " False False False False False False  True False False False False False\n",
      " False False False False]\n",
      "[37 36  6 16 35 38 23 33  9 14 25  1 31  4  5 21 34 27 12 19  1 15 17 29\n",
      " 10 11  3  2  7 22  1 24 28 32 20 18  8 13 26 30]\n"
     ]
    }
   ],
   "source": [
    "# use complete dataset for running feature importance\n",
    "y_complete = train_enc.target\n",
    "X_complete = train_enc.drop(['class', 'target'], axis=1)\n",
    "\n",
    "# create a base classifier used to evaluate a subset of attributes\n",
    "logreg = LogisticRegression()\n",
    "\n",
    "# create the RFE model and select 3 attributes\n",
    "rfe = RFE(logreg, 3)\n",
    "rfe = rfe.fit(X_complete, y_complete)\n",
    "\n",
    "# summarize the selection of the attributes\n",
    "print(rfe.support_)\n",
    "print(rfe.ranking_)"
   ]
  },
  {
   "cell_type": "code",
   "execution_count": 97,
   "metadata": {
    "scrolled": true
   },
   "outputs": [
    {
     "data": {
      "image/png": "[encoded data removed]",
      "text/plain": [
       "<matplotlib.figure.Figure at 0x7f58eee03f10>"
      ]
     },
     "metadata": {},
     "output_type": "display_data"
    }
   ],
   "source": [
    "# fit an Extra Tree model to the data\n",
    "extree = ExtraTreesClassifier()\n",
    "extree.fit(X_complete, y_complete)\n",
    "\n",
    "# display the relative importance of each attribute\n",
    "relevance = extree.feature_importances_\n",
    "\n",
    "# horizontal bar plot of feature importance\n",
    "pos = np.arange(X.columns.shape[0]) + 0.5\n",
    "plt.barh(pos, relevance, align='center')\n",
    "plt.title(\"Feature Importance\")\n",
    "plt.xlabel(\"Relevance\")\n",
    "plt.ylabel(\"Features\")\n",
    "plt.yticks(pos, (X.columns))\n",
    "plt.grid(True)\n",
    "plt.rcParams['figure.figsize'] = (15, 20)"
   ]
  },
  {
   "cell_type": "code",
   "execution_count": 98,
   "metadata": {
    "scrolled": true
   },
   "outputs": [
    {
     "data": {
      "text/html": [
       "<div>\n",
       "<style scoped>\n",
       "    .dataframe tbody tr th:only-of-type {\n",
       "        vertical-align: middle;\n",
       "    }\n",
       "\n",
       "    .dataframe tbody tr th {\n",
       "        vertical-align: top;\n",
       "    }\n",
       "\n",
       "    .dataframe thead th {\n",
       "        text-align: right;\n",
       "    }\n",
       "</style>\n",
       "<table border=\"1\" class=\"dataframe\">\n",
       "  <thead>\n",
       "    <tr style=\"text-align: right;\">\n",
       "      <th></th>\n",
       "      <th>importance</th>\n",
       "    </tr>\n",
       "  </thead>\n",
       "  <tbody>\n",
       "    <tr>\n",
       "      <th>age</th>\n",
       "      <td>0.105843</td>\n",
       "    </tr>\n",
       "    <tr>\n",
       "      <th>detailed_occupation_recode</th>\n",
       "      <td>0.094707</td>\n",
       "    </tr>\n",
       "    <tr>\n",
       "      <th>dividends_from_stocks</th>\n",
       "      <td>0.083994</td>\n",
       "    </tr>\n",
       "    <tr>\n",
       "      <th>capital_gains</th>\n",
       "      <td>0.072032</td>\n",
       "    </tr>\n",
       "    <tr>\n",
       "      <th>education</th>\n",
       "      <td>0.067570</td>\n",
       "    </tr>\n",
       "    <tr>\n",
       "      <th>detailed_industry_recode</th>\n",
       "      <td>0.055874</td>\n",
       "    </tr>\n",
       "    <tr>\n",
       "      <th>num_persons_worked_for_employer</th>\n",
       "      <td>0.054309</td>\n",
       "    </tr>\n",
       "    <tr>\n",
       "      <th>major_industry_code</th>\n",
       "      <td>0.047830</td>\n",
       "    </tr>\n",
       "    <tr>\n",
       "      <th>sex</th>\n",
       "      <td>0.043105</td>\n",
       "    </tr>\n",
       "    <tr>\n",
       "      <th>major_occupation_code</th>\n",
       "      <td>0.036758</td>\n",
       "    </tr>\n",
       "    <tr>\n",
       "      <th>weeks_worked_in_year</th>\n",
       "      <td>0.035905</td>\n",
       "    </tr>\n",
       "    <tr>\n",
       "      <th>class_of_worker</th>\n",
       "      <td>0.031021</td>\n",
       "    </tr>\n",
       "    <tr>\n",
       "      <th>capital_losses</th>\n",
       "      <td>0.021834</td>\n",
       "    </tr>\n",
       "    <tr>\n",
       "      <th>tax_filer_stat</th>\n",
       "      <td>0.021162</td>\n",
       "    </tr>\n",
       "    <tr>\n",
       "      <th>marital_stat</th>\n",
       "      <td>0.020510</td>\n",
       "    </tr>\n",
       "    <tr>\n",
       "      <th>member_of_a_labor_union</th>\n",
       "      <td>0.019304</td>\n",
       "    </tr>\n",
       "    <tr>\n",
       "      <th>own_business_or_self_employed</th>\n",
       "      <td>0.018952</td>\n",
       "    </tr>\n",
       "    <tr>\n",
       "      <th>detailed_household_and_family_stat</th>\n",
       "      <td>0.018454</td>\n",
       "    </tr>\n",
       "    <tr>\n",
       "      <th>country_of_birth_father</th>\n",
       "      <td>0.015835</td>\n",
       "    </tr>\n",
       "    <tr>\n",
       "      <th>country_of_birth_mother</th>\n",
       "      <td>0.015330</td>\n",
       "    </tr>\n",
       "    <tr>\n",
       "      <th>race</th>\n",
       "      <td>0.013208</td>\n",
       "    </tr>\n",
       "    <tr>\n",
       "      <th>detailed_household_summary_in_household</th>\n",
       "      <td>0.012178</td>\n",
       "    </tr>\n",
       "    <tr>\n",
       "      <th>wage_per_hour</th>\n",
       "      <td>0.011737</td>\n",
       "    </tr>\n",
       "    <tr>\n",
       "      <th>full_or_part_time_employment_stat</th>\n",
       "      <td>0.011472</td>\n",
       "    </tr>\n",
       "    <tr>\n",
       "      <th>hispanic_origin</th>\n",
       "      <td>0.010124</td>\n",
       "    </tr>\n",
       "    <tr>\n",
       "      <th>country_of_birth_self</th>\n",
       "      <td>0.007995</td>\n",
       "    </tr>\n",
       "    <tr>\n",
       "      <th>citizenship</th>\n",
       "      <td>0.007728</td>\n",
       "    </tr>\n",
       "    <tr>\n",
       "      <th>migration_prev_res_in_sunbelt</th>\n",
       "      <td>0.005133</td>\n",
       "    </tr>\n",
       "    <tr>\n",
       "      <th>migration_code_move_within_reg</th>\n",
       "      <td>0.005058</td>\n",
       "    </tr>\n",
       "    <tr>\n",
       "      <th>migration_code_change_in_msa</th>\n",
       "      <td>0.005052</td>\n",
       "    </tr>\n",
       "    <tr>\n",
       "      <th>migration_code_change_in_reg</th>\n",
       "      <td>0.005008</td>\n",
       "    </tr>\n",
       "    <tr>\n",
       "      <th>live_in_this_house_1_year_ago</th>\n",
       "      <td>0.004528</td>\n",
       "    </tr>\n",
       "    <tr>\n",
       "      <th>state_of_previous_residence</th>\n",
       "      <td>0.003802</td>\n",
       "    </tr>\n",
       "    <tr>\n",
       "      <th>region_of_previous_residence</th>\n",
       "      <td>0.003554</td>\n",
       "    </tr>\n",
       "    <tr>\n",
       "      <th>year</th>\n",
       "      <td>0.003498</td>\n",
       "    </tr>\n",
       "    <tr>\n",
       "      <th>reason_for_unemployment</th>\n",
       "      <td>0.003339</td>\n",
       "    </tr>\n",
       "    <tr>\n",
       "      <th>veterans_benefits</th>\n",
       "      <td>0.002383</td>\n",
       "    </tr>\n",
       "    <tr>\n",
       "      <th>fill_inc_questionnaire_for_veteran_s_admin</th>\n",
       "      <td>0.002345</td>\n",
       "    </tr>\n",
       "    <tr>\n",
       "      <th>enroll_in_edu_inst_last_wk</th>\n",
       "      <td>0.001089</td>\n",
       "    </tr>\n",
       "    <tr>\n",
       "      <th>family_members_under_18</th>\n",
       "      <td>0.000442</td>\n",
       "    </tr>\n",
       "  </tbody>\n",
       "</table>\n",
       "</div>"
      ],
      "text/plain": [
       "                                            importance\n",
       "age                                           0.105843\n",
       "detailed_occupation_recode                    0.094707\n",
       "dividends_from_stocks                         0.083994\n",
       "capital_gains                                 0.072032\n",
       "education                                     0.067570\n",
       "detailed_industry_recode                      0.055874\n",
       "num_persons_worked_for_employer               0.054309\n",
       "major_industry_code                           0.047830\n",
       "sex                                           0.043105\n",
       "major_occupation_code                         0.036758\n",
       "weeks_worked_in_year                          0.035905\n",
       "class_of_worker                               0.031021\n",
       "capital_losses                                0.021834\n",
       "tax_filer_stat                                0.021162\n",
       "marital_stat                                  0.020510\n",
       "member_of_a_labor_union                       0.019304\n",
       "own_business_or_self_employed                 0.018952\n",
       "detailed_household_and_family_stat            0.018454\n",
       "country_of_birth_father                       0.015835\n",
       "country_of_birth_mother                       0.015330\n",
       "race                                          0.013208\n",
       "detailed_household_summary_in_household       0.012178\n",
       "wage_per_hour                                 0.011737\n",
       "full_or_part_time_employment_stat             0.011472\n",
       "hispanic_origin                               0.010124\n",
       "country_of_birth_self                         0.007995\n",
       "citizenship                                   0.007728\n",
       "migration_prev_res_in_sunbelt                 0.005133\n",
       "migration_code_move_within_reg                0.005058\n",
       "migration_code_change_in_msa                  0.005052\n",
       "migration_code_change_in_reg                  0.005008\n",
       "live_in_this_house_1_year_ago                 0.004528\n",
       "state_of_previous_residence                   0.003802\n",
       "region_of_previous_residence                  0.003554\n",
       "year                                          0.003498\n",
       "reason_for_unemployment                       0.003339\n",
       "veterans_benefits                             0.002383\n",
       "fill_inc_questionnaire_for_veteran_s_admin    0.002345\n",
       "enroll_in_edu_inst_last_wk                    0.001089\n",
       "family_members_under_18                       0.000442"
      ]
     },
     "execution_count": 98,
     "metadata": {},
     "output_type": "execute_result"
    }
   ],
   "source": [
    "### Show feature importance ranking as a dataframe sorted by importance in descending order\n",
    "relevance = extree.feature_importances_\n",
    "pd.DataFrame(relevance, X_complete.columns, columns=['importance']).sort_values(\"importance\", ascending=False)"
   ]
  },
  {
   "cell_type": "markdown",
   "metadata": {},
   "source": [
    "## 5. Training <a class=\"anchor\" id=\"fifth-bullet\"></a>"
   ]
  },
  {
   "cell_type": "markdown",
   "metadata": {},
   "source": [
    "### 5.2. Evaluate LogisticRegression model using cross-validation"
   ]
  },
  {
   "cell_type": "code",
   "execution_count": 104,
   "metadata": {},
   "outputs": [
    {
     "name": "stdout",
     "output_type": "stream",
     "text": [
      "LogReg 0.8519236986744261\n"
     ]
    }
   ],
   "source": [
    "# instantiate\n",
    "logreg = LogisticRegression()\n",
    "\n",
    "# fit\n",
    "logreg.fit(X, y)\n",
    "\n",
    "# predict\n",
    "y_pred = logreg.predict(X_test)\n",
    "\n",
    "print('LogReg %s' % metrics.accuracy_score(y_test, y_pred))"
   ]
  },
  {
   "cell_type": "code",
   "execution_count": 105,
   "metadata": {},
   "outputs": [
    {
     "name": "stdout",
     "output_type": "stream",
     "text": [
      "KFold CrossValScore 0.8156235590371645\n"
     ]
    }
   ],
   "source": [
    "# KFolds and Cross_val_scores\n",
    "\n",
    "kf = KFold(n_splits=10, shuffle=False)\n",
    "print('KFold CrossValScore %s' % cross_val_score(logreg, X, y, cv=kf).mean())"
   ]
  },
  {
   "cell_type": "markdown",
   "metadata": {},
   "source": [
    "#### The LogisticRegression model was insightful. It gave a baseline accuracy as a reference and generated a ranking of the feature importance. Next I will build a new model using RandomFoerest algorithm."
   ]
  },
  {
   "cell_type": "markdown",
   "metadata": {},
   "source": [
    "### 5.3. Create a RandomForest classifier"
   ]
  },
  {
   "cell_type": "code",
   "execution_count": 106,
   "metadata": {},
   "outputs": [
    {
     "name": "stdout",
     "output_type": "stream",
     "text": [
      "RandomForest 0.8718073068218558\n"
     ]
    }
   ],
   "source": [
    "# instantiate\n",
    "rf = RandomForestClassifier(n_estimators=250,max_features=5)\n",
    "\n",
    "# fit\n",
    "rf.fit(X, y)\n",
    "\n",
    "# predict\n",
    "y_pred = rf.predict(X_test)\n",
    "\n",
    "print('RandomForest %s' % metrics.accuracy_score(y_test, y_pred))"
   ]
  },
  {
   "cell_type": "code",
   "execution_count": 107,
   "metadata": {},
   "outputs": [
    {
     "name": "stdout",
     "output_type": "stream",
     "text": [
      "KFold CrossValScore 0.8457067378525407\n"
     ]
    }
   ],
   "source": [
    "kf = KFold(n_splits=10, shuffle=False)\n",
    "print('KFold CrossValScore %s' % cross_val_score(rf, X, y, cv=kf).mean())"
   ]
  },
  {
   "cell_type": "code",
   "execution_count": 108,
   "metadata": {},
   "outputs": [
    {
     "name": "stdout",
     "output_type": "stream",
     "text": [
      "Accuracy: 87.18073068218558%\n",
      "\n",
      "Confusion matrix\n",
      "================\n",
      "[[5288  898]\n",
      " [ 688 5498]]\n",
      "\n",
      "Classification report\n",
      "================\n",
      "             precision    recall  f1-score   support\n",
      "\n",
      "          0       0.88      0.85      0.87      6186\n",
      "          1       0.86      0.89      0.87      6186\n",
      "\n",
      "avg / total       0.87      0.87      0.87     12372\n",
      "\n"
     ]
    }
   ],
   "source": [
    "print(\"Accuracy: %s%%\" % (100*accuracy_score(y_test, y_pred)))\n",
    "print \"\\nConfusion matrix\\n================\"\n",
    "print(confusion_matrix(y_test, y_pred))\n",
    "print \"\\nClassification report\\n================\"\n",
    "print(classification_report(y_test, y_pred))"
   ]
  },
  {
   "cell_type": "markdown",
   "metadata": {},
   "source": [
    "#### RandomForest model gives higher accuracy. I wanted to do some hyperparameter tuning here and see whether it helps to improve the accuracy further. I am using GridSearch here to randomly search the hyperparameter space for the optimal values."
   ]
  },
  {
   "cell_type": "markdown",
   "metadata": {},
   "source": [
    "### 5.4. RandomForest with GridSearch"
   ]
  },
  {
   "cell_type": "code",
   "execution_count": 136,
   "metadata": {},
   "outputs": [],
   "source": [
    "# Utility function to report best scores\n",
    "def report(results, n_top=5):\n",
    "    res = []\n",
    "    for i in range(1, n_top + 1):\n",
    "        candidates = np.flatnonzero(results['rank_test_score'] == i)\n",
    "        for candidate in candidates:\n",
    "            print(\"Model with rank: {0}\".format(i))\n",
    "            print(\"Mean validation score: {0:.3f} (std: {1:.3f})\".format(\n",
    "                  results['mean_test_score'][candidate],\n",
    "                  results['std_test_score'][candidate]))\n",
    "            print(\"Parameters: {0}\".format(results['params'][candidate]))\n",
    "            print(\"\")\n",
    "            res.append({\"mean_test_score\": results['mean_test_score'][candidate], \"std_test_score\": results['std_test_score'][candidate], \"params\":results['params'][candidate]})\n",
    "    return res"
   ]
  },
  {
   "cell_type": "code",
   "execution_count": 119,
   "metadata": {},
   "outputs": [
    {
     "name": "stdout",
     "output_type": "stream",
     "text": [
      "Model with rank: 1\n",
      "Mean validation score: 0.867 (std: 0.010)\n",
      "Parameters: {'min_samples_split': 6, 'max_features': 8, 'bootstrap': True, 'criterion': 'entropy', 'max_depth': None}\n",
      "\n",
      "Model with rank: 2\n",
      "Mean validation score: 0.865 (std: 0.007)\n",
      "Parameters: {'min_samples_split': 5, 'max_features': 8, 'bootstrap': False, 'criterion': 'entropy', 'max_depth': None}\n",
      "\n",
      "Model with rank: 2\n",
      "Mean validation score: 0.865 (std: 0.008)\n",
      "Parameters: {'min_samples_split': 6, 'max_features': 8, 'bootstrap': False, 'criterion': 'gini', 'max_depth': None}\n",
      "\n",
      "Model with rank: 4\n",
      "Mean validation score: 0.865 (std: 0.008)\n",
      "Parameters: {'min_samples_split': 6, 'max_features': 6, 'bootstrap': False, 'criterion': 'gini', 'max_depth': None}\n",
      "\n",
      "Model with rank: 5\n",
      "Mean validation score: 0.864 (std: 0.008)\n",
      "Parameters: {'min_samples_split': 5, 'max_features': 6, 'bootstrap': False, 'criterion': 'gini', 'max_depth': None}\n",
      "\n"
     ]
    }
   ],
   "source": [
    "rf = RandomForestClassifier(n_estimators=20)\n",
    "\n",
    "# specify parameters and distributions to sample from\n",
    "param_dist = {\"max_depth\": [3, None],\n",
    "              \"max_features\": random.sample(range(1, 11), 3),\n",
    "              \"min_samples_split\": random.sample(range(2, 11), 3),\n",
    "              \"bootstrap\": [True, False],\n",
    "              \"criterion\": [\"gini\", \"entropy\"]}\n",
    "\n",
    "# run randomized search\n",
    "n_iter_search = 10\n",
    "random_search = RandomizedSearchCV(estimator=rf, param_distributions=param_dist,\n",
    "                                   n_iter=n_iter_search, cv=10)\n",
    "\n",
    "random_search.fit(X, y)\n",
    "report_ = report(random_search.cv_results_)"
   ]
  },
  {
   "cell_type": "code",
   "execution_count": 120,
   "metadata": {},
   "outputs": [
    {
     "data": {
      "text/html": [
       "<div>\n",
       "<style scoped>\n",
       "    .dataframe tbody tr th:only-of-type {\n",
       "        vertical-align: middle;\n",
       "    }\n",
       "\n",
       "    .dataframe tbody tr th {\n",
       "        vertical-align: top;\n",
       "    }\n",
       "\n",
       "    .dataframe thead th {\n",
       "        text-align: right;\n",
       "    }\n",
       "</style>\n",
       "<table border=\"1\" class=\"dataframe\">\n",
       "  <thead>\n",
       "    <tr style=\"text-align: right;\">\n",
       "      <th></th>\n",
       "      <th>mean_test_score</th>\n",
       "      <th>params</th>\n",
       "      <th>std_test_score</th>\n",
       "    </tr>\n",
       "  </thead>\n",
       "  <tbody>\n",
       "    <tr>\n",
       "      <th>0</th>\n",
       "      <td>0.866621</td>\n",
       "      <td>{u'min_samples_split': 6, u'max_features': 8, ...</td>\n",
       "      <td>0.010055</td>\n",
       "    </tr>\n",
       "    <tr>\n",
       "      <th>1</th>\n",
       "      <td>0.865208</td>\n",
       "      <td>{u'min_samples_split': 5, u'max_features': 8, ...</td>\n",
       "      <td>0.007469</td>\n",
       "    </tr>\n",
       "    <tr>\n",
       "      <th>2</th>\n",
       "      <td>0.865208</td>\n",
       "      <td>{u'min_samples_split': 6, u'max_features': 8, ...</td>\n",
       "      <td>0.008004</td>\n",
       "    </tr>\n",
       "    <tr>\n",
       "      <th>3</th>\n",
       "      <td>0.864763</td>\n",
       "      <td>{u'min_samples_split': 6, u'max_features': 6, ...</td>\n",
       "      <td>0.007793</td>\n",
       "    </tr>\n",
       "    <tr>\n",
       "      <th>4</th>\n",
       "      <td>0.864117</td>\n",
       "      <td>{u'min_samples_split': 5, u'max_features': 6, ...</td>\n",
       "      <td>0.008265</td>\n",
       "    </tr>\n",
       "  </tbody>\n",
       "</table>\n",
       "</div>"
      ],
      "text/plain": [
       "   mean_test_score                                             params  \\\n",
       "0         0.866621  {u'min_samples_split': 6, u'max_features': 8, ...   \n",
       "1         0.865208  {u'min_samples_split': 5, u'max_features': 8, ...   \n",
       "2         0.865208  {u'min_samples_split': 6, u'max_features': 8, ...   \n",
       "3         0.864763  {u'min_samples_split': 6, u'max_features': 6, ...   \n",
       "4         0.864117  {u'min_samples_split': 5, u'max_features': 6, ...   \n",
       "\n",
       "   std_test_score  \n",
       "0        0.010055  \n",
       "1        0.007469  \n",
       "2        0.008004  \n",
       "3        0.007793  \n",
       "4        0.008265  "
      ]
     },
     "execution_count": 120,
     "metadata": {},
     "output_type": "execute_result"
    }
   ],
   "source": [
    "pd.DataFrame(report)"
   ]
  },
  {
   "cell_type": "code",
   "execution_count": 121,
   "metadata": {},
   "outputs": [
    {
     "name": "stdout",
     "output_type": "stream",
     "text": [
      "RandomForest 0.8682508891044294\n"
     ]
    }
   ],
   "source": [
    "y_pred = random_search.best_estimator_.predict(X_test)\n",
    "print('RandomForest %s' % metrics.accuracy_score(y_test, y_pred))"
   ]
  },
  {
   "cell_type": "code",
   "execution_count": 122,
   "metadata": {},
   "outputs": [
    {
     "name": "stdout",
     "output_type": "stream",
     "text": [
      "KFold CrossValScore 0.8393241896530472\n"
     ]
    }
   ],
   "source": [
    "kf = KFold(n_splits=10, shuffle=False)\n",
    "print('KFold CrossValScore %s' % cross_val_score(rf, X, y, cv=kf).mean())"
   ]
  },
  {
   "cell_type": "markdown",
   "metadata": {},
   "source": [
    "#### The results from the trained models were promissing. There is still room to improve the accuracy if we work further one the dataset. First thing to do there is to one-hot-encode the features. Theoretically, this should improve the accuracy."
   ]
  },
  {
   "cell_type": "markdown",
   "metadata": {},
   "source": [
    "### 5.5. One-hot-encode the dataset"
   ]
  },
  {
   "cell_type": "code",
   "execution_count": 123,
   "metadata": {},
   "outputs": [
    {
     "data": {
      "text/plain": [
       "(24764, 408)"
      ]
     },
     "execution_count": 123,
     "metadata": {},
     "output_type": "execute_result"
    }
   ],
   "source": [
    "train_ohc = pd.concat([pd.get_dummies(pd.concat([train[categorical], train.target], axis=1), sparse=False), train[continuous]], axis=1)\n",
    "\n",
    "X_ohc_pos = train_ohc[train_ohc.target==1]\n",
    "X_ohc_neg = train_ohc[train_ohc.target==0].sample(X_ohc_pos.shape[0])\n",
    "X_ohc = pd.concat([X_ohc_pos, X_ohc_neg])\n",
    "y_ohc = X_ohc.target\n",
    "X_ohc.drop([i for i in train_ohc.columns if '50000' in i], axis=1, inplace=True)\n",
    "train_h2o = X_ohc.copy()\n",
    "X_ohc.drop(['target'], axis=1, inplace=True)\n",
    "X_ohc.shape"
   ]
  },
  {
   "cell_type": "code",
   "execution_count": 124,
   "metadata": {},
   "outputs": [
    {
     "data": {
      "text/plain": [
       "(99762, 408)"
      ]
     },
     "execution_count": 124,
     "metadata": {},
     "output_type": "execute_result"
    }
   ],
   "source": [
    "X_test_ohc = pd.concat([pd.get_dummies(pd.concat([test[categorical], test.target], axis=1), sparse=False), test[continuous]], axis=1)\n",
    "\n",
    "y_test_ohc = X_test_ohc.target\n",
    "X_test_ohc.drop([i for i in train_ohc.columns if '50000' in i], axis=1, inplace=True)\n",
    "\n",
    "col_diff = train_cols = X_ohc.columns.difference(X_test_ohc.columns)\n",
    "len(col_diff)\n",
    "X_test_ohc[col_diff[0]] = np.zeros(shape=(X_test_ohc.shape[0],1))\n",
    "\n",
    "test_h2o = X_test_ohc.copy()\n",
    "\n",
    "X_test_ohc.drop(['target'], axis=1, inplace=True)\n",
    "X_test_ohc.shape"
   ]
  },
  {
   "cell_type": "markdown",
   "metadata": {},
   "source": [
    "### 5.6. Train a RandomForest classifier on one-hot-encoded dataset"
   ]
  },
  {
   "cell_type": "code",
   "execution_count": 140,
   "metadata": {},
   "outputs": [
    {
     "name": "stdout",
     "output_type": "stream",
     "text": [
      "Model with rank: 1\n",
      "Mean validation score: 0.862 (std: 0.007)\n",
      "Parameters: {'min_samples_split': 6, 'max_features': 8, 'bootstrap': False, 'criterion': 'gini', 'max_depth': None}\n",
      "\n",
      "Model with rank: 2\n",
      "Mean validation score: 0.861 (std: 0.007)\n",
      "Parameters: {'min_samples_split': 6, 'max_features': 6, 'bootstrap': True, 'criterion': 'entropy', 'max_depth': None}\n",
      "\n",
      "Model with rank: 3\n",
      "Mean validation score: 0.860 (std: 0.007)\n",
      "Parameters: {'min_samples_split': 6, 'max_features': 6, 'bootstrap': False, 'criterion': 'entropy', 'max_depth': None}\n",
      "\n",
      "Model with rank: 4\n",
      "Mean validation score: 0.860 (std: 0.007)\n",
      "Parameters: {'min_samples_split': 5, 'max_features': 6, 'bootstrap': False, 'criterion': 'gini', 'max_depth': None}\n",
      "\n",
      "Model with rank: 5\n",
      "Mean validation score: 0.853 (std: 0.006)\n",
      "Parameters: {'min_samples_split': 5, 'max_features': 2, 'bootstrap': False, 'criterion': 'gini', 'max_depth': None}\n",
      "\n"
     ]
    }
   ],
   "source": [
    "random_search.fit(X_ohc, y_ohc)\n",
    "report_ = report(random_search.cv_results_)"
   ]
  },
  {
   "cell_type": "code",
   "execution_count": 141,
   "metadata": {},
   "outputs": [
    {
     "name": "stdout",
     "output_type": "stream",
     "text": [
      "RandomForest 0.9297026924079309\n"
     ]
    }
   ],
   "source": [
    "y_pred = random_search.best_estimator_.predict(X_test_ohc)\n",
    "print('RandomForest %s' % metrics.accuracy_score(y_test_ohc, y_pred))"
   ]
  },
  {
   "cell_type": "code",
   "execution_count": 142,
   "metadata": {},
   "outputs": [
    {
     "name": "stdout",
     "output_type": "stream",
     "text": [
      "KFold CrossValScore 0.8362112207755616\n"
     ]
    }
   ],
   "source": [
    "kf = KFold(n_splits=10, shuffle=False)\n",
    "print('KFold CrossValScore %s' % cross_val_score(rf, X_ohc, y_ohc, cv=kf).mean())"
   ]
  },
  {
   "cell_type": "markdown",
   "metadata": {},
   "source": [
    "## 6. Build model with H2O AutoML <a class=\"anchor\" id=\"sixth-bullet\"></a>"
   ]
  },
  {
   "cell_type": "code",
   "execution_count": 77,
   "metadata": {
    "scrolled": true
   },
   "outputs": [
    {
     "name": "stdout",
     "output_type": "stream",
     "text": [
      "Checking whether there is an H2O instance running at http://localhost:54321..... not found.\n",
      "Attempting to start a local H2O server...\n",
      "  Java Version: openjdk version \"1.8.0_151\"; OpenJDK Runtime Environment (build 1.8.0_151-8u151-b12-0ubuntu0.16.04.2-b12); OpenJDK 64-Bit Server VM (build 25.151-b12, mixed mode)\n",
      "  Starting server from /usr/local/lib/python2.7/dist-packages/h2o/backend/bin/h2o.jar\n",
      "  Ice root: /tmp/tmpK1iCC6\n",
      "  JVM stdout: /tmp/tmpK1iCC6/h2o_armend_started_from_python.out\n",
      "  JVM stderr: /tmp/tmpK1iCC6/h2o_armend_started_from_python.err\n",
      "  Server is running at http://127.0.0.1:54321\n",
      "Connecting to H2O server at http://127.0.0.1:54321... successful.\n"
     ]
    },
    {
     "data": {
      "text/html": [
       "<div style=\"overflow:auto\"><table style=\"width:50%\"><tr><td>H2O cluster uptime:</td>\n",
       "<td>02 secs</td></tr>\n",
       "<tr><td>H2O cluster timezone:</td>\n",
       "<td>Europe/Berlin</td></tr>\n",
       "<tr><td>H2O data parsing timezone:</td>\n",
       "<td>UTC</td></tr>\n",
       "<tr><td>H2O cluster version:</td>\n",
       "<td>3.20.0.8</td></tr>\n",
       "<tr><td>H2O cluster version age:</td>\n",
       "<td>1 month and 8 days </td></tr>\n",
       "<tr><td>H2O cluster name:</td>\n",
       "<td>H2O_from_python_armend_ngginw</td></tr>\n",
       "<tr><td>H2O cluster total nodes:</td>\n",
       "<td>1</td></tr>\n",
       "<tr><td>H2O cluster free memory:</td>\n",
       "<td>1.693 Gb</td></tr>\n",
       "<tr><td>H2O cluster total cores:</td>\n",
       "<td>2</td></tr>\n",
       "<tr><td>H2O cluster allowed cores:</td>\n",
       "<td>2</td></tr>\n",
       "<tr><td>H2O cluster status:</td>\n",
       "<td>accepting new members, healthy</td></tr>\n",
       "<tr><td>H2O connection url:</td>\n",
       "<td>http://127.0.0.1:54321</td></tr>\n",
       "<tr><td>H2O connection proxy:</td>\n",
       "<td>None</td></tr>\n",
       "<tr><td>H2O internal security:</td>\n",
       "<td>False</td></tr>\n",
       "<tr><td>H2O API Extensions:</td>\n",
       "<td>XGBoost, Algos, AutoML, Core V3, Core V4</td></tr>\n",
       "<tr><td>Python version:</td>\n",
       "<td>2.7.12 final</td></tr></table></div>"
      ],
      "text/plain": [
       "--------------------------  ----------------------------------------\n",
       "H2O cluster uptime:         02 secs\n",
       "H2O cluster timezone:       Europe/Berlin\n",
       "H2O data parsing timezone:  UTC\n",
       "H2O cluster version:        3.20.0.8\n",
       "H2O cluster version age:    1 month and 8 days\n",
       "H2O cluster name:           H2O_from_python_armend_ngginw\n",
       "H2O cluster total nodes:    1\n",
       "H2O cluster free memory:    1.693 Gb\n",
       "H2O cluster total cores:    2\n",
       "H2O cluster allowed cores:  2\n",
       "H2O cluster status:         accepting new members, healthy\n",
       "H2O connection url:         http://127.0.0.1:54321\n",
       "H2O connection proxy:\n",
       "H2O internal security:      False\n",
       "H2O API Extensions:         XGBoost, Algos, AutoML, Core V3, Core V4\n",
       "Python version:             2.7.12 final\n",
       "--------------------------  ----------------------------------------"
      ]
     },
     "metadata": {},
     "output_type": "display_data"
    }
   ],
   "source": [
    "h2o.init()"
   ]
  },
  {
   "cell_type": "code",
   "execution_count": 110,
   "metadata": {},
   "outputs": [
    {
     "name": "stdout",
     "output_type": "stream",
     "text": [
      "Parse progress: |█████████████████████████████████████████████████████████| 100%\n",
      "Parse progress: |█████████████████████████████████████████████████████████| 100%\n"
     ]
    }
   ],
   "source": [
    "htrain = h2o.H2OFrame(train_h2o)\n",
    "htest = h2o.H2OFrame(test_h2o)\n",
    "x = htrain.columns\n",
    "y = 'target'\n",
    "x.remove(y)\n",
    "\n",
    "htrain[y] = htrain[y].asfactor()\n",
    "htest[y] = htest[y].asfactor()"
   ]
  },
  {
   "cell_type": "code",
   "execution_count": 111,
   "metadata": {},
   "outputs": [
    {
     "name": "stdout",
     "output_type": "stream",
     "text": [
      "drf Model Build progress: |███████████████████████████████████████████████| 100%\n",
      "CPU times: user 508 ms, sys: 56 ms, total: 564 ms\n",
      "Wall time: 22.8 s\n"
     ]
    }
   ],
   "source": [
    "%%time\n",
    "\n",
    "# Define model\n",
    "model = H2ORandomForestEstimator(ntrees=10, max_depth=5, nfolds=10)\n",
    "\n",
    "# Train model\n",
    "model.train(x=x, y=y, training_frame=htrain)"
   ]
  },
  {
   "cell_type": "markdown",
   "metadata": {},
   "source": [
    "### 6.1. Build a RandomForest classifier"
   ]
  },
  {
   "cell_type": "code",
   "execution_count": 112,
   "metadata": {
    "scrolled": true
   },
   "outputs": [
    {
     "name": "stdout",
     "output_type": "stream",
     "text": [
      "\n",
      "ModelMetricsBinomial: drf\n",
      "** Reported on test data. **\n",
      "\n",
      "MSE: 0.146774403984\n",
      "RMSE: 0.383111477228\n",
      "LogLoss: 0.429285023205\n",
      "Mean Per-Class Error: 0.163594406518\n",
      "AUC: 0.914685758935\n",
      "Gini: 0.82937151787\n",
      "Confusion Matrix (Act/Pred) for max f1 @ threshold = 0.691454263748: \n"
     ]
    },
    {
     "data": {
      "text/html": [
       "<div style=\"overflow:auto\"><table style=\"width:50%\"><tr><td><b></b></td>\n",
       "<td><b>0</b></td>\n",
       "<td><b>1</b></td>\n",
       "<td><b>Error</b></td>\n",
       "<td><b>Rate</b></td></tr>\n",
       "<tr><td>0</td>\n",
       "<td>88446.0</td>\n",
       "<td>5130.0</td>\n",
       "<td>0.0548</td>\n",
       "<td> (5130.0/93576.0)</td></tr>\n",
       "<tr><td>1</td>\n",
       "<td>2436.0</td>\n",
       "<td>3750.0</td>\n",
       "<td>0.3938</td>\n",
       "<td> (2436.0/6186.0)</td></tr>\n",
       "<tr><td>Total</td>\n",
       "<td>90882.0</td>\n",
       "<td>8880.0</td>\n",
       "<td>0.0758</td>\n",
       "<td> (7566.0/99762.0)</td></tr></table></div>"
      ],
      "text/plain": [
       "       0      1     Error    Rate\n",
       "-----  -----  ----  -------  ----------------\n",
       "0      88446  5130  0.0548   (5130.0/93576.0)\n",
       "1      2436   3750  0.3938   (2436.0/6186.0)\n",
       "Total  90882  8880  0.0758   (7566.0/99762.0)"
      ]
     },
     "metadata": {},
     "output_type": "display_data"
    },
    {
     "name": "stdout",
     "output_type": "stream",
     "text": [
      "Maximum Metrics: Maximum metrics at their respective thresholds\n",
      "\n"
     ]
    },
    {
     "data": {
      "text/html": [
       "<div style=\"overflow:auto\"><table style=\"width:50%\"><tr><td><b>metric</b></td>\n",
       "<td><b>threshold</b></td>\n",
       "<td><b>value</b></td>\n",
       "<td><b>idx</b></td></tr>\n",
       "<tr><td>max f1</td>\n",
       "<td>0.6914543</td>\n",
       "<td>0.4978096</td>\n",
       "<td>68.0</td></tr>\n",
       "<tr><td>max f2</td>\n",
       "<td>0.6591289</td>\n",
       "<td>0.5776183</td>\n",
       "<td>84.0</td></tr>\n",
       "<tr><td>max f0point5</td>\n",
       "<td>0.8010076</td>\n",
       "<td>0.4852586</td>\n",
       "<td>24.0</td></tr>\n",
       "<tr><td>max accuracy</td>\n",
       "<td>0.8144045</td>\n",
       "<td>0.9447084</td>\n",
       "<td>18.0</td></tr>\n",
       "<tr><td>max precision</td>\n",
       "<td>0.8791024</td>\n",
       "<td>0.9245283</td>\n",
       "<td>1.0</td></tr>\n",
       "<tr><td>max recall</td>\n",
       "<td>0.0737148</td>\n",
       "<td>1.0</td>\n",
       "<td>369.0</td></tr>\n",
       "<tr><td>max specificity</td>\n",
       "<td>0.8854542</td>\n",
       "<td>0.9999573</td>\n",
       "<td>0.0</td></tr>\n",
       "<tr><td>max absolute_mcc</td>\n",
       "<td>0.6914543</td>\n",
       "<td>0.4669790</td>\n",
       "<td>68.0</td></tr>\n",
       "<tr><td>max min_per_class_accuracy</td>\n",
       "<td>0.6051515</td>\n",
       "<td>0.8305335</td>\n",
       "<td>114.0</td></tr>\n",
       "<tr><td>max mean_per_class_accuracy</td>\n",
       "<td>0.5387326</td>\n",
       "<td>0.8364056</td>\n",
       "<td>146.0</td></tr></table></div>"
      ],
      "text/plain": [
       "metric                       threshold    value     idx\n",
       "---------------------------  -----------  --------  -----\n",
       "max f1                       0.691454     0.49781   68\n",
       "max f2                       0.659129     0.577618  84\n",
       "max f0point5                 0.801008     0.485259  24\n",
       "max accuracy                 0.814404     0.944708  18\n",
       "max precision                0.879102     0.924528  1\n",
       "max recall                   0.0737148    1         369\n",
       "max specificity              0.885454     0.999957  0\n",
       "max absolute_mcc             0.691454     0.466979  68\n",
       "max min_per_class_accuracy   0.605152     0.830533  114\n",
       "max mean_per_class_accuracy  0.538733     0.836406  146"
      ]
     },
     "metadata": {},
     "output_type": "display_data"
    },
    {
     "name": "stdout",
     "output_type": "stream",
     "text": [
      "Gains/Lift Table: Avg response rate:  6.20 %, avg score: 32.27 %\n",
      "\n"
     ]
    },
    {
     "data": {
      "text/html": [
       "<div style=\"overflow:auto\"><table style=\"width:50%\"><tr><td><b></b></td>\n",
       "<td><b>group</b></td>\n",
       "<td><b>cumulative_data_fraction</b></td>\n",
       "<td><b>lower_threshold</b></td>\n",
       "<td><b>lift</b></td>\n",
       "<td><b>cumulative_lift</b></td>\n",
       "<td><b>response_rate</b></td>\n",
       "<td><b>score</b></td>\n",
       "<td><b>cumulative_response_rate</b></td>\n",
       "<td><b>cumulative_score</b></td>\n",
       "<td><b>capture_rate</b></td>\n",
       "<td><b>cumulative_capture_rate</b></td>\n",
       "<td><b>gain</b></td>\n",
       "<td><b>cumulative_gain</b></td></tr>\n",
       "<tr><td></td>\n",
       "<td>1</td>\n",
       "<td>0.0125499</td>\n",
       "<td>0.8255363</td>\n",
       "<td>11.3353145</td>\n",
       "<td>11.3353145</td>\n",
       "<td>0.7028754</td>\n",
       "<td>0.8394447</td>\n",
       "<td>0.7028754</td>\n",
       "<td>0.8394447</td>\n",
       "<td>0.1422567</td>\n",
       "<td>0.1422567</td>\n",
       "<td>1033.5314515</td>\n",
       "<td>1033.5314515</td></tr>\n",
       "<tr><td></td>\n",
       "<td>2</td>\n",
       "<td>0.0242176</td>\n",
       "<td>0.8119081</td>\n",
       "<td>7.7448687</td>\n",
       "<td>9.6054805</td>\n",
       "<td>0.4802405</td>\n",
       "<td>0.8146851</td>\n",
       "<td>0.5956126</td>\n",
       "<td>0.8275158</td>\n",
       "<td>0.0903653</td>\n",
       "<td>0.2326220</td>\n",
       "<td>674.4868693</td>\n",
       "<td>860.5480518</td></tr>\n",
       "<tr><td></td>\n",
       "<td>3</td>\n",
       "<td>0.0300415</td>\n",
       "<td>0.8017571</td>\n",
       "<td>8.2994686</td>\n",
       "<td>9.3522964</td>\n",
       "<td>0.5146299</td>\n",
       "<td>0.8059310</td>\n",
       "<td>0.5799132</td>\n",
       "<td>0.8233314</td>\n",
       "<td>0.0483349</td>\n",
       "<td>0.2809570</td>\n",
       "<td>729.9468624</td>\n",
       "<td>835.2296364</td></tr>\n",
       "<tr><td></td>\n",
       "<td>4</td>\n",
       "<td>0.0424711</td>\n",
       "<td>0.7869112</td>\n",
       "<td>5.9305967</td>\n",
       "<td>8.3509021</td>\n",
       "<td>0.3677419</td>\n",
       "<td>0.7931044</td>\n",
       "<td>0.5178192</td>\n",
       "<td>0.8144851</td>\n",
       "<td>0.0737148</td>\n",
       "<td>0.3546718</td>\n",
       "<td>493.0596665</td>\n",
       "<td>735.0902069</td></tr>\n",
       "<tr><td></td>\n",
       "<td>5</td>\n",
       "<td>0.0525150</td>\n",
       "<td>0.7732831</td>\n",
       "<td>4.2812358</td>\n",
       "<td>7.5725463</td>\n",
       "<td>0.2654691</td>\n",
       "<td>0.7762809</td>\n",
       "<td>0.4695553</td>\n",
       "<td>0.8071783</td>\n",
       "<td>0.0430003</td>\n",
       "<td>0.3976722</td>\n",
       "<td>328.1235783</td>\n",
       "<td>657.2546349</td></tr>\n",
       "<tr><td></td>\n",
       "<td>6</td>\n",
       "<td>0.1006495</td>\n",
       "<td>0.6801627</td>\n",
       "<td>5.0476828</td>\n",
       "<td>6.3650576</td>\n",
       "<td>0.3129946</td>\n",
       "<td>0.7174211</td>\n",
       "<td>0.3946818</td>\n",
       "<td>0.7642529</td>\n",
       "<td>0.2429680</td>\n",
       "<td>0.6406402</td>\n",
       "<td>404.7682808</td>\n",
       "<td>536.5057580</td></tr>\n",
       "<tr><td></td>\n",
       "<td>7</td>\n",
       "<td>0.1563321</td>\n",
       "<td>0.6566441</td>\n",
       "<td>1.8318948</td>\n",
       "<td>4.7504308</td>\n",
       "<td>0.1135914</td>\n",
       "<td>0.6666350</td>\n",
       "<td>0.2945627</td>\n",
       "<td>0.7294832</td>\n",
       "<td>0.1020045</td>\n",
       "<td>0.7426447</td>\n",
       "<td>83.1894790</td>\n",
       "<td>375.0430798</td></tr>\n",
       "<tr><td></td>\n",
       "<td>8</td>\n",
       "<td>0.2000561</td>\n",
       "<td>0.6154399</td>\n",
       "<td>1.6341497</td>\n",
       "<td>4.0693396</td>\n",
       "<td>0.1013297</td>\n",
       "<td>0.6336873</td>\n",
       "<td>0.2523299</td>\n",
       "<td>0.7085462</td>\n",
       "<td>0.0714517</td>\n",
       "<td>0.8140963</td>\n",
       "<td>63.4149704</td>\n",
       "<td>306.9339600</td></tr>\n",
       "<tr><td></td>\n",
       "<td>9</td>\n",
       "<td>0.3001744</td>\n",
       "<td>0.4770289</td>\n",
       "<td>1.0753527</td>\n",
       "<td>3.0707441</td>\n",
       "<td>0.0666800</td>\n",
       "<td>0.5507915</td>\n",
       "<td>0.1904094</td>\n",
       "<td>0.6559297</td>\n",
       "<td>0.1076625</td>\n",
       "<td>0.9217588</td>\n",
       "<td>7.5352693</td>\n",
       "<td>207.0744087</td></tr>\n",
       "<tr><td></td>\n",
       "<td>10</td>\n",
       "<td>0.4000722</td>\n",
       "<td>0.4047343</td>\n",
       "<td>0.3446783</td>\n",
       "<td>2.3900473</td>\n",
       "<td>0.0213727</td>\n",
       "<td>0.4391775</td>\n",
       "<td>0.1482010</td>\n",
       "<td>0.6018068</td>\n",
       "<td>0.0344326</td>\n",
       "<td>0.9561914</td>\n",
       "<td>-65.5321692</td>\n",
       "<td>139.0047265</td></tr>\n",
       "<tr><td></td>\n",
       "<td>11</td>\n",
       "<td>0.5000200</td>\n",
       "<td>0.2953198</td>\n",
       "<td>0.2798096</td>\n",
       "<td>1.9682366</td>\n",
       "<td>0.0173503</td>\n",
       "<td>0.3513648</td>\n",
       "<td>0.1220456</td>\n",
       "<td>0.5517465</td>\n",
       "<td>0.0279664</td>\n",
       "<td>0.9841578</td>\n",
       "<td>-72.0190395</td>\n",
       "<td>96.8236634</td></tr>\n",
       "<tr><td></td>\n",
       "<td>12</td>\n",
       "<td>0.5999980</td>\n",
       "<td>0.1860712</td>\n",
       "<td>0.1245021</td>\n",
       "<td>1.6610143</td>\n",
       "<td>0.0077201</td>\n",
       "<td>0.2364359</td>\n",
       "<td>0.1029955</td>\n",
       "<td>0.4992062</td>\n",
       "<td>0.0124475</td>\n",
       "<td>0.9966052</td>\n",
       "<td>-87.5497924</td>\n",
       "<td>66.1014279</td></tr>\n",
       "<tr><td></td>\n",
       "<td>13</td>\n",
       "<td>0.7075540</td>\n",
       "<td>0.1060613</td>\n",
       "<td>0.0255508</td>\n",
       "<td>1.4124059</td>\n",
       "<td>0.0015843</td>\n",
       "<td>0.1416304</td>\n",
       "<td>0.0875799</td>\n",
       "<td>0.4448507</td>\n",
       "<td>0.0027481</td>\n",
       "<td>0.9993534</td>\n",
       "<td>-97.4449204</td>\n",
       "<td>41.2405850</td></tr>\n",
       "<tr><td></td>\n",
       "<td>14</td>\n",
       "<td>0.8277500</td>\n",
       "<td>0.0188879</td>\n",
       "<td>0.0053797</td>\n",
       "<td>1.2080942</td>\n",
       "<td>0.0003336</td>\n",
       "<td>0.0466507</td>\n",
       "<td>0.0749110</td>\n",
       "<td>0.3870288</td>\n",
       "<td>0.0006466</td>\n",
       "<td>1.0</td>\n",
       "<td>-99.4620278</td>\n",
       "<td>20.8094166</td></tr>\n",
       "<tr><td></td>\n",
       "<td>15</td>\n",
       "<td>0.9077905</td>\n",
       "<td>0.0128261</td>\n",
       "<td>0.0</td>\n",
       "<td>1.1015757</td>\n",
       "<td>0.0</td>\n",
       "<td>0.0162113</td>\n",
       "<td>0.0683060</td>\n",
       "<td>0.3543336</td>\n",
       "<td>0.0</td>\n",
       "<td>1.0</td>\n",
       "<td>-100.0</td>\n",
       "<td>10.1575699</td></tr>\n",
       "<tr><td></td>\n",
       "<td>16</td>\n",
       "<td>1.0</td>\n",
       "<td>0.0004431</td>\n",
       "<td>0.0</td>\n",
       "<td>1.0</td>\n",
       "<td>0.0</td>\n",
       "<td>0.0116027</td>\n",
       "<td>0.0620076</td>\n",
       "<td>0.3227306</td>\n",
       "<td>0.0</td>\n",
       "<td>1.0</td>\n",
       "<td>-100.0</td>\n",
       "<td>0.0</td></tr></table></div>"
      ],
      "text/plain": [
       "    group    cumulative_data_fraction    lower_threshold    lift        cumulative_lift    response_rate    score      cumulative_response_rate    cumulative_score    capture_rate    cumulative_capture_rate    gain      cumulative_gain\n",
       "--  -------  --------------------------  -----------------  ----------  -----------------  ---------------  ---------  --------------------------  ------------------  --------------  -------------------------  --------  -----------------\n",
       "    1        0.0125499                   0.825536           11.3353     11.3353            0.702875         0.839445   0.702875                    0.839445            0.142257        0.142257                   1033.53   1033.53\n",
       "    2        0.0242176                   0.811908           7.74487     9.60548            0.480241         0.814685   0.595613                    0.827516            0.0903653       0.232622                   674.487   860.548\n",
       "    3        0.0300415                   0.801757           8.29947     9.3523             0.51463          0.805931   0.579913                    0.823331            0.0483349       0.280957                   729.947   835.23\n",
       "    4        0.0424711                   0.786911           5.9306      8.3509             0.367742         0.793104   0.517819                    0.814485            0.0737148       0.354672                   493.06    735.09\n",
       "    5        0.052515                    0.773283           4.28124     7.57255            0.265469         0.776281   0.469555                    0.807178            0.0430003       0.397672                   328.124   657.255\n",
       "    6        0.10065                     0.680163           5.04768     6.36506            0.312995         0.717421   0.394682                    0.764253            0.242968        0.64064                    404.768   536.506\n",
       "    7        0.156332                    0.656644           1.83189     4.75043            0.113591         0.666635   0.294563                    0.729483            0.102005        0.742645                   83.1895   375.043\n",
       "    8        0.200056                    0.61544            1.63415     4.06934            0.10133          0.633687   0.25233                     0.708546            0.0714517       0.814096                   63.415    306.934\n",
       "    9        0.300174                    0.477029           1.07535     3.07074            0.06668          0.550792   0.190409                    0.65593             0.107662        0.921759                   7.53527   207.074\n",
       "    10       0.400072                    0.404734           0.344678    2.39005            0.0213727        0.439177   0.148201                    0.601807            0.0344326       0.956191                   -65.5322  139.005\n",
       "    11       0.50002                     0.29532            0.27981     1.96824            0.0173503        0.351365   0.122046                    0.551747            0.0279664       0.984158                   -72.019   96.8237\n",
       "    12       0.599998                    0.186071           0.124502    1.66101            0.00772007       0.236436   0.102995                    0.499206            0.0124475       0.996605                   -87.5498  66.1014\n",
       "    13       0.707554                    0.106061           0.0255508   1.41241            0.00158434       0.14163    0.0875799                   0.444851            0.00274814      0.999353                   -97.4449  41.2406\n",
       "    14       0.82775                     0.0188879          0.00537972  1.20809            0.000333584      0.0466507  0.074911                    0.387029            0.000646621     1                          -99.462   20.8094\n",
       "    15       0.907791                    0.0128261          0           1.10158            0                0.0162113  0.068306                    0.354334            0               1                          -100      10.1576\n",
       "    16       1                           0.000443131        0           1                  0                0.0116027  0.0620076                   0.322731            0               1                          -100      0"
      ]
     },
     "metadata": {},
     "output_type": "display_data"
    },
    {
     "name": "stdout",
     "output_type": "stream",
     "text": [
      "\n",
      "\n"
     ]
    }
   ],
   "source": [
    "# Model performance\n",
    "performance = model.model_performance(test_data=htest)\n",
    "print performance"
   ]
  },
  {
   "cell_type": "markdown",
   "metadata": {},
   "source": [
    "### 6.2. Run AutoML on the dataset"
   ]
  },
  {
   "cell_type": "code",
   "execution_count": 114,
   "metadata": {},
   "outputs": [
    {
     "name": "stdout",
     "output_type": "stream",
     "text": [
      "AutoML progress: |████████████████████████████████████████████████████████| 100%\n"
     ]
    },
    {
     "data": {
      "text/html": [
       "<table>\n",
       "<thead>\n",
       "<tr><th>model_id                                             </th><th style=\"text-align: right;\">     auc</th><th style=\"text-align: right;\">  logloss</th><th style=\"text-align: right;\">  mean_per_class_error</th><th style=\"text-align: right;\">    rmse</th><th style=\"text-align: right;\">      mse</th></tr>\n",
       "</thead>\n",
       "<tbody>\n",
       "<tr><td>StackedEnsemble_AllModels_0_AutoML_20181030_174304   </td><td style=\"text-align: right;\">0.937166</td><td style=\"text-align: right;\"> 0.320628</td><td style=\"text-align: right;\">              0.137992</td><td style=\"text-align: right;\">0.314646</td><td style=\"text-align: right;\">0.099002 </td></tr>\n",
       "<tr><td>DRF_0_AutoML_20181030_174304                         </td><td style=\"text-align: right;\">0.936652</td><td style=\"text-align: right;\"> 0.32215 </td><td style=\"text-align: right;\">              0.13834 </td><td style=\"text-align: right;\">0.317137</td><td style=\"text-align: right;\">0.100576 </td></tr>\n",
       "<tr><td>StackedEnsemble_BestOfFamily_0_AutoML_20181030_174304</td><td style=\"text-align: right;\">0.93661 </td><td style=\"text-align: right;\"> 0.322131</td><td style=\"text-align: right;\">              0.138489</td><td style=\"text-align: right;\">0.315495</td><td style=\"text-align: right;\">0.0995373</td></tr>\n",
       "<tr><td>DRF_0_AutoML_20181030_173825                         </td><td style=\"text-align: right;\">0.9361  </td><td style=\"text-align: right;\"> 0.323264</td><td style=\"text-align: right;\">              0.139407</td><td style=\"text-align: right;\">0.317652</td><td style=\"text-align: right;\">0.100903 </td></tr>\n",
       "</tbody>\n",
       "</table>"
      ]
     },
     "metadata": {},
     "output_type": "display_data"
    },
    {
     "name": "stdout",
     "output_type": "stream",
     "text": [
      "\n",
      "Generate predictions…\n",
      "stackedensemble prediction progress: |████████████████████████████████████| 100%\n"
     ]
    }
   ],
   "source": [
    "aml = H2OAutoML(max_runtime_secs = 30, max_models=5)\n",
    "aml.train(x=x, y =y, training_frame=htrain)\n",
    "lb = aml.leaderboard\n",
    "print (lb)\n",
    "print(\"Generate predictions…\")\n",
    "test_y = aml.leader.predict(htest)\n",
    "test_y = test_y.as_data_frame()"
   ]
  },
  {
   "cell_type": "code",
   "execution_count": 124,
   "metadata": {},
   "outputs": [
    {
     "name": "stdout",
     "output_type": "stream",
     "text": [
      "Model Details\n",
      "=============\n",
      "H2OStackedEnsembleEstimator :  Stacked Ensemble\n",
      "Model Key:  StackedEnsemble_AllModels_0_AutoML_20181030_174304\n",
      "No model summary for this model\n",
      "\n",
      "\n",
      "ModelMetricsBinomialGLM: stackedensemble\n",
      "** Reported on train data. **\n",
      "\n",
      "MSE: 0.0517323497859\n",
      "RMSE: 0.227447465991\n",
      "LogLoss: 0.191160477113\n",
      "Null degrees of freedom: 19815\n",
      "Residual degrees of freedom: 19813\n",
      "Null deviance: 27470.7200409\n",
      "Residual deviance: 7576.07202894\n",
      "AIC: 7582.07202894\n",
      "AUC: 0.982511153352\n",
      "Gini: 0.965022306704\n",
      "Confusion Matrix (Act/Pred) for max f1 @ threshold = 0.565499839005: \n"
     ]
    },
    {
     "data": {
      "text/html": [
       "<div style=\"overflow:auto\"><table style=\"width:50%\"><tr><td><b></b></td>\n",
       "<td><b>0</b></td>\n",
       "<td><b>1</b></td>\n",
       "<td><b>Error</b></td>\n",
       "<td><b>Rate</b></td></tr>\n",
       "<tr><td>0</td>\n",
       "<td>9139.0</td>\n",
       "<td>790.0</td>\n",
       "<td>0.0796</td>\n",
       "<td> (790.0/9929.0)</td></tr>\n",
       "<tr><td>1</td>\n",
       "<td>462.0</td>\n",
       "<td>9425.0</td>\n",
       "<td>0.0467</td>\n",
       "<td> (462.0/9887.0)</td></tr>\n",
       "<tr><td>Total</td>\n",
       "<td>9601.0</td>\n",
       "<td>10215.0</td>\n",
       "<td>0.0632</td>\n",
       "<td> (1252.0/19816.0)</td></tr></table></div>"
      ],
      "text/plain": [
       "       0     1      Error    Rate\n",
       "-----  ----  -----  -------  ----------------\n",
       "0      9139  790    0.0796   (790.0/9929.0)\n",
       "1      462   9425   0.0467   (462.0/9887.0)\n",
       "Total  9601  10215  0.0632   (1252.0/19816.0)"
      ]
     },
     "metadata": {},
     "output_type": "display_data"
    },
    {
     "name": "stdout",
     "output_type": "stream",
     "text": [
      "Maximum Metrics: Maximum metrics at their respective thresholds\n",
      "\n"
     ]
    },
    {
     "data": {
      "text/html": [
       "<div style=\"overflow:auto\"><table style=\"width:50%\"><tr><td><b>metric</b></td>\n",
       "<td><b>threshold</b></td>\n",
       "<td><b>value</b></td>\n",
       "<td><b>idx</b></td></tr>\n",
       "<tr><td>max f1</td>\n",
       "<td>0.5654998</td>\n",
       "<td>0.9377176</td>\n",
       "<td>195.0</td></tr>\n",
       "<tr><td>max f2</td>\n",
       "<td>0.2981024</td>\n",
       "<td>0.9574259</td>\n",
       "<td>274.0</td></tr>\n",
       "<tr><td>max f0point5</td>\n",
       "<td>0.6960310</td>\n",
       "<td>0.9401584</td>\n",
       "<td>151.0</td></tr>\n",
       "<tr><td>max accuracy</td>\n",
       "<td>0.5898859</td>\n",
       "<td>0.9368692</td>\n",
       "<td>187.0</td></tr>\n",
       "<tr><td>max precision</td>\n",
       "<td>0.9641986</td>\n",
       "<td>1.0</td>\n",
       "<td>0.0</td></tr>\n",
       "<tr><td>max recall</td>\n",
       "<td>0.0305619</td>\n",
       "<td>1.0</td>\n",
       "<td>389.0</td></tr>\n",
       "<tr><td>max specificity</td>\n",
       "<td>0.9641986</td>\n",
       "<td>1.0</td>\n",
       "<td>0.0</td></tr>\n",
       "<tr><td>max absolute_mcc</td>\n",
       "<td>0.5654998</td>\n",
       "<td>0.8741248</td>\n",
       "<td>195.0</td></tr>\n",
       "<tr><td>max min_per_class_accuracy</td>\n",
       "<td>0.6333859</td>\n",
       "<td>0.9346359</td>\n",
       "<td>174.0</td></tr>\n",
       "<tr><td>max mean_per_class_accuracy</td>\n",
       "<td>0.5898859</td>\n",
       "<td>0.9368923</td>\n",
       "<td>187.0</td></tr></table></div>"
      ],
      "text/plain": [
       "metric                       threshold    value     idx\n",
       "---------------------------  -----------  --------  -----\n",
       "max f1                       0.5655       0.937718  195\n",
       "max f2                       0.298102     0.957426  274\n",
       "max f0point5                 0.696031     0.940158  151\n",
       "max accuracy                 0.589886     0.936869  187\n",
       "max precision                0.964199     1         0\n",
       "max recall                   0.0305619    1         389\n",
       "max specificity              0.964199     1         0\n",
       "max absolute_mcc             0.5655       0.874125  195\n",
       "max min_per_class_accuracy   0.633386     0.934636  174\n",
       "max mean_per_class_accuracy  0.589886     0.936892  187"
      ]
     },
     "metadata": {},
     "output_type": "display_data"
    },
    {
     "name": "stdout",
     "output_type": "stream",
     "text": [
      "Gains/Lift Table: Avg response rate: 49.89 %, avg score: 50.15 %\n",
      "\n"
     ]
    },
    {
     "data": {
      "text/html": [
       "<div style=\"overflow:auto\"><table style=\"width:50%\"><tr><td><b></b></td>\n",
       "<td><b>group</b></td>\n",
       "<td><b>cumulative_data_fraction</b></td>\n",
       "<td><b>lower_threshold</b></td>\n",
       "<td><b>lift</b></td>\n",
       "<td><b>cumulative_lift</b></td>\n",
       "<td><b>response_rate</b></td>\n",
       "<td><b>score</b></td>\n",
       "<td><b>cumulative_response_rate</b></td>\n",
       "<td><b>cumulative_score</b></td>\n",
       "<td><b>capture_rate</b></td>\n",
       "<td><b>cumulative_capture_rate</b></td>\n",
       "<td><b>gain</b></td>\n",
       "<td><b>cumulative_gain</b></td></tr>\n",
       "<tr><td></td>\n",
       "<td>1</td>\n",
       "<td>0.0100424</td>\n",
       "<td>0.9617580</td>\n",
       "<td>2.0042480</td>\n",
       "<td>2.0042480</td>\n",
       "<td>1.0</td>\n",
       "<td>0.9632810</td>\n",
       "<td>1.0</td>\n",
       "<td>0.9632810</td>\n",
       "<td>0.0201274</td>\n",
       "<td>0.0201274</td>\n",
       "<td>100.4248002</td>\n",
       "<td>100.4248002</td></tr>\n",
       "<tr><td></td>\n",
       "<td>2</td>\n",
       "<td>0.0200343</td>\n",
       "<td>0.9602489</td>\n",
       "<td>2.0042480</td>\n",
       "<td>2.0042480</td>\n",
       "<td>1.0</td>\n",
       "<td>0.9609625</td>\n",
       "<td>1.0</td>\n",
       "<td>0.9621247</td>\n",
       "<td>0.0200263</td>\n",
       "<td>0.0401537</td>\n",
       "<td>100.4248002</td>\n",
       "<td>100.4248002</td></tr>\n",
       "<tr><td></td>\n",
       "<td>3</td>\n",
       "<td>0.0300262</td>\n",
       "<td>0.9588040</td>\n",
       "<td>2.0042480</td>\n",
       "<td>2.0042480</td>\n",
       "<td>1.0</td>\n",
       "<td>0.9595113</td>\n",
       "<td>1.0</td>\n",
       "<td>0.9612550</td>\n",
       "<td>0.0200263</td>\n",
       "<td>0.0601800</td>\n",
       "<td>100.4248002</td>\n",
       "<td>100.4248002</td></tr>\n",
       "<tr><td></td>\n",
       "<td>4</td>\n",
       "<td>0.0400182</td>\n",
       "<td>0.9573501</td>\n",
       "<td>2.0042480</td>\n",
       "<td>2.0042480</td>\n",
       "<td>1.0</td>\n",
       "<td>0.9580988</td>\n",
       "<td>1.0</td>\n",
       "<td>0.9604669</td>\n",
       "<td>0.0200263</td>\n",
       "<td>0.0802063</td>\n",
       "<td>100.4248002</td>\n",
       "<td>100.4248002</td></tr>\n",
       "<tr><td></td>\n",
       "<td>5</td>\n",
       "<td>0.0500101</td>\n",
       "<td>0.9558134</td>\n",
       "<td>2.0042480</td>\n",
       "<td>2.0042480</td>\n",
       "<td>1.0</td>\n",
       "<td>0.9565726</td>\n",
       "<td>1.0</td>\n",
       "<td>0.9596888</td>\n",
       "<td>0.0200263</td>\n",
       "<td>0.1002326</td>\n",
       "<td>100.4248002</td>\n",
       "<td>100.4248002</td></tr>\n",
       "<tr><td></td>\n",
       "<td>6</td>\n",
       "<td>0.1000202</td>\n",
       "<td>0.9497674</td>\n",
       "<td>2.0042480</td>\n",
       "<td>2.0042480</td>\n",
       "<td>1.0</td>\n",
       "<td>0.9524813</td>\n",
       "<td>1.0</td>\n",
       "<td>0.9560851</td>\n",
       "<td>0.1002326</td>\n",
       "<td>0.2004653</td>\n",
       "<td>100.4248002</td>\n",
       "<td>100.4248002</td></tr>\n",
       "<tr><td></td>\n",
       "<td>7</td>\n",
       "<td>0.1500303</td>\n",
       "<td>0.9436988</td>\n",
       "<td>2.0002031</td>\n",
       "<td>2.0028997</td>\n",
       "<td>0.9979818</td>\n",
       "<td>0.9470805</td>\n",
       "<td>0.9993273</td>\n",
       "<td>0.9530836</td>\n",
       "<td>0.1000303</td>\n",
       "<td>0.3004956</td>\n",
       "<td>100.0203102</td>\n",
       "<td>100.2899702</td></tr>\n",
       "<tr><td></td>\n",
       "<td>8</td>\n",
       "<td>0.2000404</td>\n",
       "<td>0.9346060</td>\n",
       "<td>1.9840235</td>\n",
       "<td>1.9981807</td>\n",
       "<td>0.9899092</td>\n",
       "<td>0.9393830</td>\n",
       "<td>0.9969728</td>\n",
       "<td>0.9496584</td>\n",
       "<td>0.0992212</td>\n",
       "<td>0.3997168</td>\n",
       "<td>98.4023502</td>\n",
       "<td>99.8180652</td></tr>\n",
       "<tr><td></td>\n",
       "<td>9</td>\n",
       "<td>0.3000101</td>\n",
       "<td>0.9034152</td>\n",
       "<td>1.9425321</td>\n",
       "<td>1.9796374</td>\n",
       "<td>0.9692075</td>\n",
       "<td>0.9211506</td>\n",
       "<td>0.9877208</td>\n",
       "<td>0.9401590</td>\n",
       "<td>0.1941944</td>\n",
       "<td>0.5939112</td>\n",
       "<td>94.2532138</td>\n",
       "<td>97.9637388</td></tr>\n",
       "<tr><td></td>\n",
       "<td>10</td>\n",
       "<td>0.4000303</td>\n",
       "<td>0.8279321</td>\n",
       "<td>1.8626765</td>\n",
       "<td>1.9503935</td>\n",
       "<td>0.9293643</td>\n",
       "<td>0.8704981</td>\n",
       "<td>0.9731298</td>\n",
       "<td>0.9227416</td>\n",
       "<td>0.1863052</td>\n",
       "<td>0.7802164</td>\n",
       "<td>86.2676499</td>\n",
       "<td>95.0393477</td></tr>\n",
       "<tr><td></td>\n",
       "<td>11</td>\n",
       "<td>0.5</td>\n",
       "<td>0.6309211</td>\n",
       "<td>1.5580727</td>\n",
       "<td>1.8719531</td>\n",
       "<td>0.7773852</td>\n",
       "<td>0.7476248</td>\n",
       "<td>0.9339927</td>\n",
       "<td>0.8877288</td>\n",
       "<td>0.1557601</td>\n",
       "<td>0.9359765</td>\n",
       "<td>55.8072652</td>\n",
       "<td>87.1953070</td></tr>\n",
       "<tr><td></td>\n",
       "<td>12</td>\n",
       "<td>0.6000202</td>\n",
       "<td>0.1800550</td>\n",
       "<td>0.5511176</td>\n",
       "<td>1.6517768</td>\n",
       "<td>0.2749748</td>\n",
       "<td>0.3931679</td>\n",
       "<td>0.8241379</td>\n",
       "<td>0.8052881</td>\n",
       "<td>0.0551229</td>\n",
       "<td>0.9910994</td>\n",
       "<td>-44.8882361</td>\n",
       "<td>65.1776802</td></tr>\n",
       "<tr><td></td>\n",
       "<td>13</td>\n",
       "<td>0.6999899</td>\n",
       "<td>0.0550354</td>\n",
       "<td>0.0839740</td>\n",
       "<td>1.4278696</td>\n",
       "<td>0.0418980</td>\n",
       "<td>0.1005860</td>\n",
       "<td>0.7124216</td>\n",
       "<td>0.7046454</td>\n",
       "<td>0.0083949</td>\n",
       "<td>0.9994943</td>\n",
       "<td>-91.6025954</td>\n",
       "<td>42.7869567</td></tr>\n",
       "<tr><td></td>\n",
       "<td>14</td>\n",
       "<td>0.8000101</td>\n",
       "<td>0.0269992</td>\n",
       "<td>0.0050561</td>\n",
       "<td>1.2499842</td>\n",
       "<td>0.0025227</td>\n",
       "<td>0.0374928</td>\n",
       "<td>0.6236674</td>\n",
       "<td>0.6212356</td>\n",
       "<td>0.0005057</td>\n",
       "<td>1.0</td>\n",
       "<td>-99.4943875</td>\n",
       "<td>24.9984230</td></tr>\n",
       "<tr><td></td>\n",
       "<td>15</td>\n",
       "<td>0.9318732</td>\n",
       "<td>0.0220515</td>\n",
       "<td>0.0</td>\n",
       "<td>1.0731073</td>\n",
       "<td>0.0</td>\n",
       "<td>0.0230709</td>\n",
       "<td>0.5354164</td>\n",
       "<td>0.5365933</td>\n",
       "<td>0.0</td>\n",
       "<td>1.0</td>\n",
       "<td>-100.0</td>\n",
       "<td>7.3107332</td></tr>\n",
       "<tr><td></td>\n",
       "<td>16</td>\n",
       "<td>1.0</td>\n",
       "<td>0.0220463</td>\n",
       "<td>0.0</td>\n",
       "<td>1.0</td>\n",
       "<td>0.0</td>\n",
       "<td>0.0220494</td>\n",
       "<td>0.4989403</td>\n",
       "<td>0.5015391</td>\n",
       "<td>0.0</td>\n",
       "<td>1.0</td>\n",
       "<td>-100.0</td>\n",
       "<td>0.0</td></tr></table></div>"
      ],
      "text/plain": [
       "    group    cumulative_data_fraction    lower_threshold    lift        cumulative_lift    response_rate    score      cumulative_response_rate    cumulative_score    capture_rate    cumulative_capture_rate    gain      cumulative_gain\n",
       "--  -------  --------------------------  -----------------  ----------  -----------------  ---------------  ---------  --------------------------  ------------------  --------------  -------------------------  --------  -----------------\n",
       "    1        0.0100424                   0.961758           2.00425     2.00425            1                0.963281   1                           0.963281            0.0201274       0.0201274                  100.425   100.425\n",
       "    2        0.0200343                   0.960249           2.00425     2.00425            1                0.960962   1                           0.962125            0.0200263       0.0401537                  100.425   100.425\n",
       "    3        0.0300262                   0.958804           2.00425     2.00425            1                0.959511   1                           0.961255            0.0200263       0.06018                    100.425   100.425\n",
       "    4        0.0400182                   0.95735            2.00425     2.00425            1                0.958099   1                           0.960467            0.0200263       0.0802063                  100.425   100.425\n",
       "    5        0.0500101                   0.955813           2.00425     2.00425            1                0.956573   1                           0.959689            0.0200263       0.100233                   100.425   100.425\n",
       "    6        0.10002                     0.949767           2.00425     2.00425            1                0.952481   1                           0.956085            0.100233        0.200465                   100.425   100.425\n",
       "    7        0.15003                     0.943699           2.0002      2.0029             0.997982         0.947081   0.999327                    0.953084            0.10003         0.300496                   100.02    100.29\n",
       "    8        0.20004                     0.934606           1.98402     1.99818            0.989909         0.939383   0.996973                    0.949658            0.0992212       0.399717                   98.4024   99.8181\n",
       "    9        0.30001                     0.903415           1.94253     1.97964            0.969207         0.921151   0.987721                    0.940159            0.194194        0.593911                   94.2532   97.9637\n",
       "    10       0.40003                     0.827932           1.86268     1.95039            0.929364         0.870498   0.97313                     0.922742            0.186305        0.780216                   86.2676   95.0393\n",
       "    11       0.5                         0.630921           1.55807     1.87195            0.777385         0.747625   0.933993                    0.887729            0.15576         0.935977                   55.8073   87.1953\n",
       "    12       0.60002                     0.180055           0.551118    1.65178            0.274975         0.393168   0.824138                    0.805288            0.0551229       0.991099                   -44.8882  65.1777\n",
       "    13       0.69999                     0.0550354          0.083974    1.42787            0.041898         0.100586   0.712422                    0.704645            0.00839486      0.999494                   -91.6026  42.787\n",
       "    14       0.80001                     0.0269992          0.00505613  1.24998            0.0025227        0.0374928  0.623667                    0.621236            0.000505715     1                          -99.4944  24.9984\n",
       "    15       0.931873                    0.0220515          0           1.07311            0                0.0230709  0.535416                    0.536593            0               1                          -100      7.31073\n",
       "    16       1                           0.0220463          0           1                  0                0.0220494  0.49894                     0.501539            0               1                          -100      0"
      ]
     },
     "metadata": {},
     "output_type": "display_data"
    },
    {
     "name": "stdout",
     "output_type": "stream",
     "text": [
      "\n",
      "\n",
      "ModelMetricsBinomialGLM: stackedensemble\n",
      "** Reported on validation data. **\n",
      "\n",
      "MSE: 0.0934404642324\n",
      "RMSE: 0.305680330137\n",
      "LogLoss: 0.304265860239\n",
      "Null degrees of freedom: 4947\n",
      "Residual degrees of freedom: 4945\n",
      "Null deviance: 6859.58476488\n",
      "Residual deviance: 3011.01495293\n",
      "AIC: 3017.01495293\n",
      "AUC: 0.943770786579\n",
      "Gini: 0.887541573159\n",
      "Confusion Matrix (Act/Pred) for max f1 @ threshold = 0.357111272424: \n"
     ]
    },
    {
     "data": {
      "text/html": [
       "<div style=\"overflow:auto\"><table style=\"width:50%\"><tr><td><b></b></td>\n",
       "<td><b>0</b></td>\n",
       "<td><b>1</b></td>\n",
       "<td><b>Error</b></td>\n",
       "<td><b>Rate</b></td></tr>\n",
       "<tr><td>0</td>\n",
       "<td>1981.0</td>\n",
       "<td>472.0</td>\n",
       "<td>0.1924</td>\n",
       "<td> (472.0/2453.0)</td></tr>\n",
       "<tr><td>1</td>\n",
       "<td>182.0</td>\n",
       "<td>2313.0</td>\n",
       "<td>0.0729</td>\n",
       "<td> (182.0/2495.0)</td></tr>\n",
       "<tr><td>Total</td>\n",
       "<td>2163.0</td>\n",
       "<td>2785.0</td>\n",
       "<td>0.1322</td>\n",
       "<td> (654.0/4948.0)</td></tr></table></div>"
      ],
      "text/plain": [
       "       0     1     Error    Rate\n",
       "-----  ----  ----  -------  --------------\n",
       "0      1981  472   0.1924   (472.0/2453.0)\n",
       "1      182   2313  0.0729   (182.0/2495.0)\n",
       "Total  2163  2785  0.1322   (654.0/4948.0)"
      ]
     },
     "metadata": {},
     "output_type": "display_data"
    },
    {
     "name": "stdout",
     "output_type": "stream",
     "text": [
      "Maximum Metrics: Maximum metrics at their respective thresholds\n",
      "\n"
     ]
    },
    {
     "data": {
      "text/html": [
       "<div style=\"overflow:auto\"><table style=\"width:50%\"><tr><td><b>metric</b></td>\n",
       "<td><b>threshold</b></td>\n",
       "<td><b>value</b></td>\n",
       "<td><b>idx</b></td></tr>\n",
       "<tr><td>max f1</td>\n",
       "<td>0.3571113</td>\n",
       "<td>0.8761364</td>\n",
       "<td>256.0</td></tr>\n",
       "<tr><td>max f2</td>\n",
       "<td>0.1488108</td>\n",
       "<td>0.9266880</td>\n",
       "<td>323.0</td></tr>\n",
       "<tr><td>max f0point5</td>\n",
       "<td>0.7383684</td>\n",
       "<td>0.8827233</td>\n",
       "<td>139.0</td></tr>\n",
       "<tr><td>max accuracy</td>\n",
       "<td>0.4060036</td>\n",
       "<td>0.8684317</td>\n",
       "<td>242.0</td></tr>\n",
       "<tr><td>max precision</td>\n",
       "<td>0.9640399</td>\n",
       "<td>1.0</td>\n",
       "<td>0.0</td></tr>\n",
       "<tr><td>max recall</td>\n",
       "<td>0.0247744</td>\n",
       "<td>1.0</td>\n",
       "<td>396.0</td></tr>\n",
       "<tr><td>max specificity</td>\n",
       "<td>0.9640399</td>\n",
       "<td>1.0</td>\n",
       "<td>0.0</td></tr>\n",
       "<tr><td>max absolute_mcc</td>\n",
       "<td>0.3571113</td>\n",
       "<td>0.7404842</td>\n",
       "<td>256.0</td></tr>\n",
       "<tr><td>max min_per_class_accuracy</td>\n",
       "<td>0.5771339</td>\n",
       "<td>0.8642479</td>\n",
       "<td>191.0</td></tr>\n",
       "<tr><td>max mean_per_class_accuracy</td>\n",
       "<td>0.4060036</td>\n",
       "<td>0.8680328</td>\n",
       "<td>242.0</td></tr></table></div>"
      ],
      "text/plain": [
       "metric                       threshold    value     idx\n",
       "---------------------------  -----------  --------  -----\n",
       "max f1                       0.357111     0.876136  256\n",
       "max f2                       0.148811     0.926688  323\n",
       "max f0point5                 0.738368     0.882723  139\n",
       "max accuracy                 0.406004     0.868432  242\n",
       "max precision                0.96404      1         0\n",
       "max recall                   0.0247744    1         396\n",
       "max specificity              0.96404      1         0\n",
       "max absolute_mcc             0.357111     0.740484  256\n",
       "max min_per_class_accuracy   0.577134     0.864248  191\n",
       "max mean_per_class_accuracy  0.406004     0.868033  242"
      ]
     },
     "metadata": {},
     "output_type": "display_data"
    },
    {
     "name": "stdout",
     "output_type": "stream",
     "text": [
      "Gains/Lift Table: Avg response rate: 50.42 %, avg score: 49.72 %\n",
      "\n"
     ]
    },
    {
     "data": {
      "text/html": [
       "<div style=\"overflow:auto\"><table style=\"width:50%\"><tr><td><b></b></td>\n",
       "<td><b>group</b></td>\n",
       "<td><b>cumulative_data_fraction</b></td>\n",
       "<td><b>lower_threshold</b></td>\n",
       "<td><b>lift</b></td>\n",
       "<td><b>cumulative_lift</b></td>\n",
       "<td><b>response_rate</b></td>\n",
       "<td><b>score</b></td>\n",
       "<td><b>cumulative_response_rate</b></td>\n",
       "<td><b>cumulative_score</b></td>\n",
       "<td><b>capture_rate</b></td>\n",
       "<td><b>cumulative_capture_rate</b></td>\n",
       "<td><b>gain</b></td>\n",
       "<td><b>cumulative_gain</b></td></tr>\n",
       "<tr><td></td>\n",
       "<td>1</td>\n",
       "<td>0.0101051</td>\n",
       "<td>0.9616692</td>\n",
       "<td>1.9831663</td>\n",
       "<td>1.9831663</td>\n",
       "<td>1.0</td>\n",
       "<td>0.9631035</td>\n",
       "<td>1.0</td>\n",
       "<td>0.9631035</td>\n",
       "<td>0.0200401</td>\n",
       "<td>0.0200401</td>\n",
       "<td>98.3166333</td>\n",
       "<td>98.3166333</td></tr>\n",
       "<tr><td></td>\n",
       "<td>2</td>\n",
       "<td>0.0200081</td>\n",
       "<td>0.9596784</td>\n",
       "<td>1.9831663</td>\n",
       "<td>1.9831663</td>\n",
       "<td>1.0</td>\n",
       "<td>0.9605305</td>\n",
       "<td>1.0</td>\n",
       "<td>0.9618300</td>\n",
       "<td>0.0196393</td>\n",
       "<td>0.0396794</td>\n",
       "<td>98.3166333</td>\n",
       "<td>98.3166333</td></tr>\n",
       "<tr><td></td>\n",
       "<td>3</td>\n",
       "<td>0.0301132</td>\n",
       "<td>0.9579173</td>\n",
       "<td>1.9435030</td>\n",
       "<td>1.9698565</td>\n",
       "<td>0.98</td>\n",
       "<td>0.9587604</td>\n",
       "<td>0.9932886</td>\n",
       "<td>0.9607999</td>\n",
       "<td>0.0196393</td>\n",
       "<td>0.0593186</td>\n",
       "<td>94.3503006</td>\n",
       "<td>96.9856492</td></tr>\n",
       "<tr><td></td>\n",
       "<td>4</td>\n",
       "<td>0.0400162</td>\n",
       "<td>0.9562016</td>\n",
       "<td>1.9831663</td>\n",
       "<td>1.9731503</td>\n",
       "<td>1.0</td>\n",
       "<td>0.9570547</td>\n",
       "<td>0.9949495</td>\n",
       "<td>0.9598731</td>\n",
       "<td>0.0196393</td>\n",
       "<td>0.0789579</td>\n",
       "<td>98.3166333</td>\n",
       "<td>97.3150341</td></tr>\n",
       "<tr><td></td>\n",
       "<td>5</td>\n",
       "<td>0.0501213</td>\n",
       "<td>0.9543720</td>\n",
       "<td>1.9435030</td>\n",
       "<td>1.9671731</td>\n",
       "<td>0.98</td>\n",
       "<td>0.9552714</td>\n",
       "<td>0.9919355</td>\n",
       "<td>0.9589453</td>\n",
       "<td>0.0196393</td>\n",
       "<td>0.0985972</td>\n",
       "<td>94.3503006</td>\n",
       "<td>96.7173056</td></tr>\n",
       "<tr><td></td>\n",
       "<td>6</td>\n",
       "<td>0.1000404</td>\n",
       "<td>0.9481556</td>\n",
       "<td>1.9349923</td>\n",
       "<td>1.9511152</td>\n",
       "<td>0.9757085</td>\n",
       "<td>0.9510054</td>\n",
       "<td>0.9838384</td>\n",
       "<td>0.9549834</td>\n",
       "<td>0.0965932</td>\n",
       "<td>0.1951904</td>\n",
       "<td>93.4992252</td>\n",
       "<td>95.1115160</td></tr>\n",
       "<tr><td></td>\n",
       "<td>7</td>\n",
       "<td>0.1501617</td>\n",
       "<td>0.9390719</td>\n",
       "<td>1.9191932</td>\n",
       "<td>1.9404602</td>\n",
       "<td>0.9677419</td>\n",
       "<td>0.9438044</td>\n",
       "<td>0.9784657</td>\n",
       "<td>0.9512520</td>\n",
       "<td>0.0961924</td>\n",
       "<td>0.2913828</td>\n",
       "<td>91.9193225</td>\n",
       "<td>94.0460194</td></tr>\n",
       "<tr><td></td>\n",
       "<td>8</td>\n",
       "<td>0.2000808</td>\n",
       "<td>0.9273561</td>\n",
       "<td>1.9109052</td>\n",
       "<td>1.9330864</td>\n",
       "<td>0.9635628</td>\n",
       "<td>0.9334297</td>\n",
       "<td>0.9747475</td>\n",
       "<td>0.9468054</td>\n",
       "<td>0.0953908</td>\n",
       "<td>0.3867735</td>\n",
       "<td>91.0905211</td>\n",
       "<td>93.3086375</td></tr>\n",
       "<tr><td></td>\n",
       "<td>9</td>\n",
       "<td>0.3001213</td>\n",
       "<td>0.8813614</td>\n",
       "<td>1.7908593</td>\n",
       "<td>1.8856773</td>\n",
       "<td>0.9030303</td>\n",
       "<td>0.9065073</td>\n",
       "<td>0.9508418</td>\n",
       "<td>0.9333727</td>\n",
       "<td>0.1791583</td>\n",
       "<td>0.5659319</td>\n",
       "<td>79.0859294</td>\n",
       "<td>88.5677348</td></tr>\n",
       "<tr><td></td>\n",
       "<td>10</td>\n",
       "<td>0.3999596</td>\n",
       "<td>0.7879426</td>\n",
       "<td>1.6339042</td>\n",
       "<td>1.8228295</td>\n",
       "<td>0.8238866</td>\n",
       "<td>0.8391244</td>\n",
       "<td>0.9191511</td>\n",
       "<td>0.9098463</td>\n",
       "<td>0.1631263</td>\n",
       "<td>0.7290581</td>\n",
       "<td>63.3904246</td>\n",
       "<td>82.2829489</td></tr>\n",
       "<tr><td></td>\n",
       "<td>11</td>\n",
       "<td>0.5</td>\n",
       "<td>0.5846796</td>\n",
       "<td>1.3301237</td>\n",
       "<td>1.7242485</td>\n",
       "<td>0.6707071</td>\n",
       "<td>0.6997925</td>\n",
       "<td>0.8694422</td>\n",
       "<td>0.8678186</td>\n",
       "<td>0.1330661</td>\n",
       "<td>0.8621242</td>\n",
       "<td>33.0123682</td>\n",
       "<td>72.4248497</td></tr>\n",
       "<tr><td></td>\n",
       "<td>12</td>\n",
       "<td>0.6000404</td>\n",
       "<td>0.2367054</td>\n",
       "<td>0.9415032</td>\n",
       "<td>1.5937470</td>\n",
       "<td>0.4747475</td>\n",
       "<td>0.4081196</td>\n",
       "<td>0.8036376</td>\n",
       "<td>0.7911763</td>\n",
       "<td>0.0941884</td>\n",
       "<td>0.9563126</td>\n",
       "<td>-5.8496792</td>\n",
       "<td>59.3747009</td></tr>\n",
       "<tr><td></td>\n",
       "<td>13</td>\n",
       "<td>0.6998787</td>\n",
       "<td>0.0745479</td>\n",
       "<td>0.3291896</td>\n",
       "<td>1.4133568</td>\n",
       "<td>0.1659919</td>\n",
       "<td>0.1335545</td>\n",
       "<td>0.7126769</td>\n",
       "<td>0.6973660</td>\n",
       "<td>0.0328657</td>\n",
       "<td>0.9891784</td>\n",
       "<td>-67.0810447</td>\n",
       "<td>41.3356774</td></tr>\n",
       "<tr><td></td>\n",
       "<td>14</td>\n",
       "<td>0.7999192</td>\n",
       "<td>0.0293636</td>\n",
       "<td>0.1001599</td>\n",
       "<td>1.2491242</td>\n",
       "<td>0.0505051</td>\n",
       "<td>0.0453208</td>\n",
       "<td>0.6298636</td>\n",
       "<td>0.6158191</td>\n",
       "<td>0.0100200</td>\n",
       "<td>0.9991984</td>\n",
       "<td>-89.9840084</td>\n",
       "<td>24.9124221</td></tr>\n",
       "<tr><td></td>\n",
       "<td>15</td>\n",
       "<td>0.9320938</td>\n",
       "<td>0.0220515</td>\n",
       "<td>0.0060647</td>\n",
       "<td>1.0728534</td>\n",
       "<td>0.0030581</td>\n",
       "<td>0.0234837</td>\n",
       "<td>0.5409801</td>\n",
       "<td>0.5318236</td>\n",
       "<td>0.0008016</td>\n",
       "<td>1.0</td>\n",
       "<td>-99.3935271</td>\n",
       "<td>7.2853426</td></tr>\n",
       "<tr><td></td>\n",
       "<td>16</td>\n",
       "<td>1.0</td>\n",
       "<td>0.0220463</td>\n",
       "<td>0.0</td>\n",
       "<td>1.0</td>\n",
       "<td>0.0</td>\n",
       "<td>0.0220494</td>\n",
       "<td>0.5042441</td>\n",
       "<td>0.4972068</td>\n",
       "<td>0.0</td>\n",
       "<td>1.0</td>\n",
       "<td>-100.0</td>\n",
       "<td>0.0</td></tr></table></div>"
      ],
      "text/plain": [
       "    group    cumulative_data_fraction    lower_threshold    lift        cumulative_lift    response_rate    score      cumulative_response_rate    cumulative_score    capture_rate    cumulative_capture_rate    gain      cumulative_gain\n",
       "--  -------  --------------------------  -----------------  ----------  -----------------  ---------------  ---------  --------------------------  ------------------  --------------  -------------------------  --------  -----------------\n",
       "    1        0.0101051                   0.961669           1.98317     1.98317            1                0.963103   1                           0.963103            0.0200401       0.0200401                  98.3166   98.3166\n",
       "    2        0.0200081                   0.959678           1.98317     1.98317            1                0.96053    1                           0.96183             0.0196393       0.0396794                  98.3166   98.3166\n",
       "    3        0.0301132                   0.957917           1.9435      1.96986            0.98             0.95876    0.993289                    0.9608              0.0196393       0.0593186                  94.3503   96.9856\n",
       "    4        0.0400162                   0.956202           1.98317     1.97315            1                0.957055   0.994949                    0.959873            0.0196393       0.0789579                  98.3166   97.315\n",
       "    5        0.0501213                   0.954372           1.9435      1.96717            0.98             0.955271   0.991935                    0.958945            0.0196393       0.0985972                  94.3503   96.7173\n",
       "    6        0.10004                     0.948156           1.93499     1.95112            0.975709         0.951005   0.983838                    0.954983            0.0965932       0.19519                    93.4992   95.1115\n",
       "    7        0.150162                    0.939072           1.91919     1.94046            0.967742         0.943804   0.978466                    0.951252            0.0961924       0.291383                   91.9193   94.046\n",
       "    8        0.200081                    0.927356           1.91091     1.93309            0.963563         0.93343    0.974747                    0.946805            0.0953908       0.386774                   91.0905   93.3086\n",
       "    9        0.300121                    0.881361           1.79086     1.88568            0.90303          0.906507   0.950842                    0.933373            0.179158        0.565932                   79.0859   88.5677\n",
       "    10       0.39996                     0.787943           1.6339      1.82283            0.823887         0.839124   0.919151                    0.909846            0.163126        0.729058                   63.3904   82.2829\n",
       "    11       0.5                         0.58468            1.33012     1.72425            0.670707         0.699793   0.869442                    0.867819            0.133066        0.862124                   33.0124   72.4248\n",
       "    12       0.60004                     0.236705           0.941503    1.59375            0.474747         0.40812    0.803638                    0.791176            0.0941884       0.956313                   -5.84968  59.3747\n",
       "    13       0.699879                    0.0745479          0.32919     1.41336            0.165992         0.133554   0.712677                    0.697366            0.0328657       0.989178                   -67.081   41.3357\n",
       "    14       0.799919                    0.0293636          0.10016     1.24912            0.0505051        0.0453208  0.629864                    0.615819            0.01002         0.999198                   -89.984   24.9124\n",
       "    15       0.932094                    0.0220515          0.00606473  1.07285            0.0030581        0.0234837  0.54098                     0.531824            0.000801603     1                          -99.3935  7.28534\n",
       "    16       1                           0.0220463          0           1                  0                0.0220494  0.504244                    0.497207            0               1                          -100      0"
      ]
     },
     "metadata": {},
     "output_type": "display_data"
    },
    {
     "name": "stdout",
     "output_type": "stream",
     "text": [
      "\n",
      "\n",
      "ModelMetricsBinomialGLM: stackedensemble\n",
      "** Reported on cross-validation data. **\n",
      "\n",
      "MSE: 0.0990019587919\n",
      "RMSE: 0.31464576716\n",
      "LogLoss: 0.320628292287\n",
      "Null degrees of freedom: 19815\n",
      "Residual degrees of freedom: 19813\n",
      "Null deviance: 27480.4217212\n",
      "Residual deviance: 12707.1404799\n",
      "AIC: 12713.1404799\n",
      "AUC: 0.937165791757\n",
      "Gini: 0.874331583514\n",
      "Confusion Matrix (Act/Pred) for max f1 @ threshold = 0.389535224089: \n"
     ]
    },
    {
     "data": {
      "text/html": [
       "<div style=\"overflow:auto\"><table style=\"width:50%\"><tr><td><b></b></td>\n",
       "<td><b>0</b></td>\n",
       "<td><b>1</b></td>\n",
       "<td><b>Error</b></td>\n",
       "<td><b>Rate</b></td></tr>\n",
       "<tr><td>0</td>\n",
       "<td>7954.0</td>\n",
       "<td>1975.0</td>\n",
       "<td>0.1989</td>\n",
       "<td> (1975.0/9929.0)</td></tr>\n",
       "<tr><td>1</td>\n",
       "<td>762.0</td>\n",
       "<td>9125.0</td>\n",
       "<td>0.0771</td>\n",
       "<td> (762.0/9887.0)</td></tr>\n",
       "<tr><td>Total</td>\n",
       "<td>8716.0</td>\n",
       "<td>11100.0</td>\n",
       "<td>0.1381</td>\n",
       "<td> (2737.0/19816.0)</td></tr></table></div>"
      ],
      "text/plain": [
       "       0     1      Error    Rate\n",
       "-----  ----  -----  -------  ----------------\n",
       "0      7954  1975   0.1989   (1975.0/9929.0)\n",
       "1      762   9125   0.0771   (762.0/9887.0)\n",
       "Total  8716  11100  0.1381   (2737.0/19816.0)"
      ]
     },
     "metadata": {},
     "output_type": "display_data"
    },
    {
     "name": "stdout",
     "output_type": "stream",
     "text": [
      "Maximum Metrics: Maximum metrics at their respective thresholds\n",
      "\n"
     ]
    },
    {
     "data": {
      "text/html": [
       "<div style=\"overflow:auto\"><table style=\"width:50%\"><tr><td><b>metric</b></td>\n",
       "<td><b>threshold</b></td>\n",
       "<td><b>value</b></td>\n",
       "<td><b>idx</b></td></tr>\n",
       "<tr><td>max f1</td>\n",
       "<td>0.3895352</td>\n",
       "<td>0.8695859</td>\n",
       "<td>251.0</td></tr>\n",
       "<tr><td>max f2</td>\n",
       "<td>0.1266037</td>\n",
       "<td>0.9182488</td>\n",
       "<td>338.0</td></tr>\n",
       "<tr><td>max f0point5</td>\n",
       "<td>0.7307091</td>\n",
       "<td>0.8694769</td>\n",
       "<td>134.0</td></tr>\n",
       "<tr><td>max accuracy</td>\n",
       "<td>0.4758495</td>\n",
       "<td>0.8637969</td>\n",
       "<td>224.0</td></tr>\n",
       "<tr><td>max precision</td>\n",
       "<td>0.9642889</td>\n",
       "<td>1.0</td>\n",
       "<td>0.0</td></tr>\n",
       "<tr><td>max recall</td>\n",
       "<td>0.0224251</td>\n",
       "<td>1.0</td>\n",
       "<td>398.0</td></tr>\n",
       "<tr><td>max specificity</td>\n",
       "<td>0.9642889</td>\n",
       "<td>1.0</td>\n",
       "<td>0.0</td></tr>\n",
       "<tr><td>max absolute_mcc</td>\n",
       "<td>0.4522438</td>\n",
       "<td>0.7295483</td>\n",
       "<td>231.0</td></tr>\n",
       "<tr><td>max min_per_class_accuracy</td>\n",
       "<td>0.5868288</td>\n",
       "<td>0.8605096</td>\n",
       "<td>187.0</td></tr>\n",
       "<tr><td>max mean_per_class_accuracy</td>\n",
       "<td>0.4758495</td>\n",
       "<td>0.8638707</td>\n",
       "<td>224.0</td></tr></table></div>"
      ],
      "text/plain": [
       "metric                       threshold    value     idx\n",
       "---------------------------  -----------  --------  -----\n",
       "max f1                       0.389535     0.869586  251\n",
       "max f2                       0.126604     0.918249  338\n",
       "max f0point5                 0.730709     0.869477  134\n",
       "max accuracy                 0.47585      0.863797  224\n",
       "max precision                0.964289     1         0\n",
       "max recall                   0.0224251    1         398\n",
       "max specificity              0.964289     1         0\n",
       "max absolute_mcc             0.452244     0.729548  231\n",
       "max min_per_class_accuracy   0.586829     0.86051   187\n",
       "max mean_per_class_accuracy  0.47585      0.863871  224"
      ]
     },
     "metadata": {},
     "output_type": "display_data"
    },
    {
     "name": "stdout",
     "output_type": "stream",
     "text": [
      "Gains/Lift Table: Avg response rate: 49.89 %, avg score: 49.89 %\n",
      "\n"
     ]
    },
    {
     "data": {
      "text/html": [
       "<div style=\"overflow:auto\"><table style=\"width:50%\"><tr><td><b></b></td>\n",
       "<td><b>group</b></td>\n",
       "<td><b>cumulative_data_fraction</b></td>\n",
       "<td><b>lower_threshold</b></td>\n",
       "<td><b>lift</b></td>\n",
       "<td><b>cumulative_lift</b></td>\n",
       "<td><b>response_rate</b></td>\n",
       "<td><b>score</b></td>\n",
       "<td><b>cumulative_response_rate</b></td>\n",
       "<td><b>cumulative_score</b></td>\n",
       "<td><b>capture_rate</b></td>\n",
       "<td><b>cumulative_capture_rate</b></td>\n",
       "<td><b>gain</b></td>\n",
       "<td><b>cumulative_gain</b></td></tr>\n",
       "<tr><td></td>\n",
       "<td>1</td>\n",
       "<td>0.0100424</td>\n",
       "<td>0.9607881</td>\n",
       "<td>2.0042480</td>\n",
       "<td>2.0042480</td>\n",
       "<td>1.0</td>\n",
       "<td>0.9625969</td>\n",
       "<td>1.0</td>\n",
       "<td>0.9625969</td>\n",
       "<td>0.0201274</td>\n",
       "<td>0.0201274</td>\n",
       "<td>100.4248002</td>\n",
       "<td>100.4248002</td></tr>\n",
       "<tr><td></td>\n",
       "<td>2</td>\n",
       "<td>0.0200343</td>\n",
       "<td>0.9589214</td>\n",
       "<td>2.0042480</td>\n",
       "<td>2.0042480</td>\n",
       "<td>1.0</td>\n",
       "<td>0.9598788</td>\n",
       "<td>1.0</td>\n",
       "<td>0.9612413</td>\n",
       "<td>0.0200263</td>\n",
       "<td>0.0401537</td>\n",
       "<td>100.4248002</td>\n",
       "<td>100.4248002</td></tr>\n",
       "<tr><td></td>\n",
       "<td>3</td>\n",
       "<td>0.0300262</td>\n",
       "<td>0.9572255</td>\n",
       "<td>1.9840031</td>\n",
       "<td>1.9975110</td>\n",
       "<td>0.9898990</td>\n",
       "<td>0.9580290</td>\n",
       "<td>0.9966387</td>\n",
       "<td>0.9601723</td>\n",
       "<td>0.0198240</td>\n",
       "<td>0.0599777</td>\n",
       "<td>98.4003073</td>\n",
       "<td>99.7511034</td></tr>\n",
       "<tr><td></td>\n",
       "<td>4</td>\n",
       "<td>0.0400182</td>\n",
       "<td>0.9557218</td>\n",
       "<td>1.9637581</td>\n",
       "<td>1.9890835</td>\n",
       "<td>0.9797980</td>\n",
       "<td>0.9565050</td>\n",
       "<td>0.9924338</td>\n",
       "<td>0.9592567</td>\n",
       "<td>0.0196217</td>\n",
       "<td>0.0795995</td>\n",
       "<td>96.3758144</td>\n",
       "<td>98.9083453</td></tr>\n",
       "<tr><td></td>\n",
       "<td>5</td>\n",
       "<td>0.0500101</td>\n",
       "<td>0.9543269</td>\n",
       "<td>1.9840031</td>\n",
       "<td>1.9880684</td>\n",
       "<td>0.9898990</td>\n",
       "<td>0.9551188</td>\n",
       "<td>0.9919273</td>\n",
       "<td>0.9584299</td>\n",
       "<td>0.0198240</td>\n",
       "<td>0.0994235</td>\n",
       "<td>98.4003073</td>\n",
       "<td>98.8068402</td></tr>\n",
       "<tr><td></td>\n",
       "<td>6</td>\n",
       "<td>0.1000202</td>\n",
       "<td>0.9481189</td>\n",
       "<td>1.9718888</td>\n",
       "<td>1.9799786</td>\n",
       "<td>0.9838547</td>\n",
       "<td>0.9511819</td>\n",
       "<td>0.9878910</td>\n",
       "<td>0.9548059</td>\n",
       "<td>0.0986143</td>\n",
       "<td>0.1980378</td>\n",
       "<td>97.1888802</td>\n",
       "<td>97.9978602</td></tr>\n",
       "<tr><td></td>\n",
       "<td>7</td>\n",
       "<td>0.1500303</td>\n",
       "<td>0.9394675</td>\n",
       "<td>1.9172827</td>\n",
       "<td>1.9590800</td>\n",
       "<td>0.9566095</td>\n",
       "<td>0.9441611</td>\n",
       "<td>0.9774638</td>\n",
       "<td>0.9512576</td>\n",
       "<td>0.0958835</td>\n",
       "<td>0.2939213</td>\n",
       "<td>91.7282650</td>\n",
       "<td>95.9079951</td></tr>\n",
       "<tr><td></td>\n",
       "<td>8</td>\n",
       "<td>0.2000404</td>\n",
       "<td>0.9276749</td>\n",
       "<td>1.8586316</td>\n",
       "<td>1.9339679</td>\n",
       "<td>0.9273461</td>\n",
       "<td>0.9339133</td>\n",
       "<td>0.9649344</td>\n",
       "<td>0.9469215</td>\n",
       "<td>0.0929503</td>\n",
       "<td>0.3868716</td>\n",
       "<td>85.8631599</td>\n",
       "<td>93.3967863</td></tr>\n",
       "<tr><td></td>\n",
       "<td>9</td>\n",
       "<td>0.3000101</td>\n",
       "<td>0.8823528</td>\n",
       "<td>1.7705371</td>\n",
       "<td>1.8795093</td>\n",
       "<td>0.8833922</td>\n",
       "<td>0.9077304</td>\n",
       "<td>0.9377628</td>\n",
       "<td>0.9338622</td>\n",
       "<td>0.1770001</td>\n",
       "<td>0.5638718</td>\n",
       "<td>77.0537105</td>\n",
       "<td>87.9509271</td></tr>\n",
       "<tr><td></td>\n",
       "<td>10</td>\n",
       "<td>0.4000303</td>\n",
       "<td>0.7841703</td>\n",
       "<td>1.6270611</td>\n",
       "<td>1.8163893</td>\n",
       "<td>0.8118063</td>\n",
       "<td>0.8393193</td>\n",
       "<td>0.9062697</td>\n",
       "<td>0.9102235</td>\n",
       "<td>0.1627390</td>\n",
       "<td>0.7266107</td>\n",
       "<td>62.7061068</td>\n",
       "<td>81.6389258</td></tr>\n",
       "<tr><td></td>\n",
       "<td>11</td>\n",
       "<td>0.5</td>\n",
       "<td>0.5829597</td>\n",
       "<td>1.3516786</td>\n",
       "<td>1.7234753</td>\n",
       "<td>0.6744069</td>\n",
       "<td>0.6947422</td>\n",
       "<td>0.8599112</td>\n",
       "<td>0.8671403</td>\n",
       "<td>0.1351269</td>\n",
       "<td>0.8617376</td>\n",
       "<td>35.1678612</td>\n",
       "<td>72.3475271</td></tr>\n",
       "<tr><td></td>\n",
       "<td>12</td>\n",
       "<td>0.6000202</td>\n",
       "<td>0.2468983</td>\n",
       "<td>0.8898780</td>\n",
       "<td>1.5845190</td>\n",
       "<td>0.4439960</td>\n",
       "<td>0.4178574</td>\n",
       "<td>0.7905803</td>\n",
       "<td>0.7922472</td>\n",
       "<td>0.0890058</td>\n",
       "<td>0.9507434</td>\n",
       "<td>-11.0121977</td>\n",
       "<td>58.4519026</td></tr>\n",
       "<tr><td></td>\n",
       "<td>13</td>\n",
       "<td>0.6999899</td>\n",
       "<td>0.0759098</td>\n",
       "<td>0.3672600</td>\n",
       "<td>1.4106750</td>\n",
       "<td>0.1832408</td>\n",
       "<td>0.1418450</td>\n",
       "<td>0.7038425</td>\n",
       "<td>0.6993594</td>\n",
       "<td>0.0367149</td>\n",
       "<td>0.9874583</td>\n",
       "<td>-63.2740018</td>\n",
       "<td>41.0675023</td></tr>\n",
       "<tr><td></td>\n",
       "<td>14</td>\n",
       "<td>0.8000101</td>\n",
       "<td>0.0296713</td>\n",
       "<td>0.1132572</td>\n",
       "<td>1.2484671</td>\n",
       "<td>0.0565086</td>\n",
       "<td>0.0473778</td>\n",
       "<td>0.6229105</td>\n",
       "<td>0.6178463</td>\n",
       "<td>0.0113280</td>\n",
       "<td>0.9987863</td>\n",
       "<td>-88.6742797</td>\n",
       "<td>24.8467106</td></tr>\n",
       "<tr><td></td>\n",
       "<td>15</td>\n",
       "<td>0.9023012</td>\n",
       "<td>0.0223828</td>\n",
       "<td>0.0118653</td>\n",
       "<td>1.1082774</td>\n",
       "<td>0.0059201</td>\n",
       "<td>0.0242730</td>\n",
       "<td>0.5529642</td>\n",
       "<td>0.5505547</td>\n",
       "<td>0.0012137</td>\n",
       "<td>1.0</td>\n",
       "<td>-98.8134694</td>\n",
       "<td>10.8277405</td></tr>\n",
       "<tr><td></td>\n",
       "<td>16</td>\n",
       "<td>1.0</td>\n",
       "<td>0.0220375</td>\n",
       "<td>0.0</td>\n",
       "<td>1.0</td>\n",
       "<td>0.0</td>\n",
       "<td>0.0221076</td>\n",
       "<td>0.4989403</td>\n",
       "<td>0.4989261</td>\n",
       "<td>0.0</td>\n",
       "<td>1.0</td>\n",
       "<td>-100.0</td>\n",
       "<td>0.0</td></tr></table></div>"
      ],
      "text/plain": [
       "    group    cumulative_data_fraction    lower_threshold    lift       cumulative_lift    response_rate    score      cumulative_response_rate    cumulative_score    capture_rate    cumulative_capture_rate    gain      cumulative_gain\n",
       "--  -------  --------------------------  -----------------  ---------  -----------------  ---------------  ---------  --------------------------  ------------------  --------------  -------------------------  --------  -----------------\n",
       "    1        0.0100424                   0.960788           2.00425    2.00425            1                0.962597   1                           0.962597            0.0201274       0.0201274                  100.425   100.425\n",
       "    2        0.0200343                   0.958921           2.00425    2.00425            1                0.959879   1                           0.961241            0.0200263       0.0401537                  100.425   100.425\n",
       "    3        0.0300262                   0.957226           1.984      1.99751            0.989899         0.958029   0.996639                    0.960172            0.019824        0.0599777                  98.4003   99.7511\n",
       "    4        0.0400182                   0.955722           1.96376    1.98908            0.979798         0.956505   0.992434                    0.959257            0.0196217       0.0795995                  96.3758   98.9083\n",
       "    5        0.0500101                   0.954327           1.984      1.98807            0.989899         0.955119   0.991927                    0.95843             0.019824        0.0994235                  98.4003   98.8068\n",
       "    6        0.10002                     0.948119           1.97189    1.97998            0.983855         0.951182   0.987891                    0.954806            0.0986143       0.198038                   97.1889   97.9979\n",
       "    7        0.15003                     0.939467           1.91728    1.95908            0.956609         0.944161   0.977464                    0.951258            0.0958835       0.293921                   91.7283   95.908\n",
       "    8        0.20004                     0.927675           1.85863    1.93397            0.927346         0.933913   0.964934                    0.946922            0.0929503       0.386872                   85.8632   93.3968\n",
       "    9        0.30001                     0.882353           1.77054    1.87951            0.883392         0.90773    0.937763                    0.933862            0.177           0.563872                   77.0537   87.9509\n",
       "    10       0.40003                     0.78417            1.62706    1.81639            0.811806         0.839319   0.90627                     0.910224            0.162739        0.726611                   62.7061   81.6389\n",
       "    11       0.5                         0.58296            1.35168    1.72348            0.674407         0.694742   0.859911                    0.86714             0.135127        0.861738                   35.1679   72.3475\n",
       "    12       0.60002                     0.246898           0.889878   1.58452            0.443996         0.417857   0.79058                     0.792247            0.0890058       0.950743                   -11.0122  58.4519\n",
       "    13       0.69999                     0.0759098          0.36726    1.41068            0.183241         0.141845   0.703843                    0.699359            0.0367149       0.987458                   -63.274   41.0675\n",
       "    14       0.80001                     0.0296713          0.113257   1.24847            0.0565086        0.0473778  0.62291                     0.617846            0.011328        0.998786                   -88.6743  24.8467\n",
       "    15       0.902301                    0.0223828          0.0118653  1.10828            0.00592008       0.024273   0.552964                    0.550555            0.00121371      1                          -98.8135  10.8277\n",
       "    16       1                           0.0220375          0          1                  0                0.0221076  0.49894                     0.498926            0               1                          -100      0"
      ]
     },
     "metadata": {},
     "output_type": "display_data"
    },
    {
     "name": "stdout",
     "output_type": "stream",
     "text": [
      "\n"
     ]
    },
    {
     "data": {
      "text/plain": []
     },
     "execution_count": 124,
     "metadata": {},
     "output_type": "execute_result"
    }
   ],
   "source": [
    "aml.leader"
   ]
  },
  {
   "cell_type": "markdown",
   "metadata": {},
   "source": [
    "## 7. Conclsuion <a class=\"anchor\" id=\"seventh-bullet\"></a>\n",
    "\n",
    "Here I have layed down a workflow for building prediction models for US Census Income dataset. I gave an overview of the distribution and relationships between variables, went through examining missing values, performed encoding of the features, and finally built a few models which gave satisfactory accuracy. \n",
    "\n",
    "There are a few remarks I want to mention. I did not give sufficient treatment to missing variables, where imputation might have yielded higher accuracy. I have not treated outliers, some expertise on the domain can help to improve the data quality further. Further investiation of relationships and value space in general is important to make apriori decision and simplify the feature space.\n",
    "\n",
    "Due to uneven distribution of target variable I subsampled the negative set. More sophisticated subsampling/oversampling techniques could be of benefit as well.\n",
    "\n",
    "Finally, I ran AutoML on the dataset which optimises automatically the model selection and which gave the best results. However, considering the above mentioned elaborations of the dataset, I am confident that the final accuracy can be boosted to mid 90s percent."
   ]
  }
 ],
 "metadata": {
  "kernelspec": {
   "display_name": "Python 2",
   "language": "python",
   "name": "python2"
  },
  "language_info": {
   "codemirror_mode": {
    "name": "ipython",
    "version": 2
   },
   "file_extension": ".py",
   "mimetype": "text/x-python",
   "name": "python",
   "nbconvert_exporter": "python",
   "pygments_lexer": "ipython2",
   "version": "2.7.12"
  }
 },
 "nbformat": 4,
 "nbformat_minor": 2
}
